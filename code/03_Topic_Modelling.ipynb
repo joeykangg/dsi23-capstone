{
 "cells": [
  {
   "cell_type": "markdown",
   "id": "6g9YhDSR9EUF",
   "metadata": {
    "id": "6g9YhDSR9EUF"
   },
   "source": [
    "<img src=\"http://imgur.com/1ZcRyrc.png\" style=\"float: left; margin: 20px; height: 55px\">\n",
    "\n",
    "# Capstone Project: Real or Fake Jobs\n",
    "_**Note**: Best viewed via [GoogleColab](https://drive.google.com/file/d/1_B619CKVS0MyF2QeghC_6FsgQh419u2F/view)_"
   ]
  },
  {
   "cell_type": "markdown",
   "id": "LAwd-pv_gPFh",
   "metadata": {
    "id": "LAwd-pv_gPFh"
   },
   "source": [
    "## Contents:\n",
    "### Part 3 (of 3)\n",
    "- Problem Statement\n",
    "- Background\n",
    "- Data Cleaning\n",
    "- Data Dictionary\n",
    "- Exploratory Data Analysis\n",
    "- Data Modelling\n",
    "    - Model Fitting & Evaluation\n",
    "- Data Modelling with SMOTE\n",
    "    - Model Fitting & Evaluation (SMOTE)\n",
    "- Model Selection\n",
    "- Misclassified Data\n",
    "- [Topic Modelling](#Topic-Modelling)\n",
    "- [Recommendations](#Recommendations)\n",
    "- [Conclusions](#Conclusions)\n",
    "- [References](#References)"
   ]
  },
  {
   "cell_type": "markdown",
   "id": "cjJz1Keugm4-",
   "metadata": {
    "id": "cjJz1Keugm4-"
   },
   "source": [
    "## Import Libraries"
   ]
  },
  {
   "cell_type": "code",
   "execution_count": 1,
   "id": "JPwypTG3PHpN",
   "metadata": {
    "colab": {
     "base_uri": "https://localhost:8080/"
    },
    "id": "JPwypTG3PHpN",
    "outputId": "7b285116-5da2-4473-9896-1feeedaf03bd"
   },
   "outputs": [
    {
     "name": "stdout",
     "output_type": "stream",
     "text": [
      "Drive already mounted at /content/drive; to attempt to forcibly remount, call drive.mount(\"/content/drive\", force_remount=True).\n"
     ]
    }
   ],
   "source": [
    "from google.colab import drive\n",
    "drive.mount('/content/drive')"
   ]
  },
  {
   "cell_type": "code",
   "execution_count": 2,
   "id": "ddaaca84",
   "metadata": {
    "colab": {
     "base_uri": "https://localhost:8080/"
    },
    "id": "ddaaca84",
    "outputId": "566fe703-3ffb-4ed5-e671-5514a1a25e24"
   },
   "outputs": [
    {
     "name": "stderr",
     "output_type": "stream",
     "text": [
      "/usr/local/lib/python3.7/dist-packages/sklearn/externals/six.py:31: FutureWarning: The module is deprecated in version 0.21 and will be removed in version 0.23 since we've dropped support for Python 2.7. Please rely on the official version of six (https://pypi.org/project/six/).\n",
      "  \"(https://pypi.org/project/six/).\", FutureWarning)\n",
      "/usr/local/lib/python3.7/dist-packages/sklearn/utils/deprecation.py:144: FutureWarning: The sklearn.neighbors.base module is  deprecated in version 0.22 and will be removed in version 0.24. The corresponding classes / functions should instead be imported from sklearn.neighbors. Anything that cannot be imported from sklearn.neighbors is now part of the private API.\n",
      "  warnings.warn(message, FutureWarning)\n"
     ]
    }
   ],
   "source": [
    "import pandas as pd\n",
    "import numpy as np\n",
    "import seaborn as sns\n",
    "import matplotlib.pyplot as plt\n",
    "%matplotlib inline\n",
    "\n",
    "from time import time\n",
    "import string\n",
    "import re\n",
    "import nltk\n",
    "\n",
    "from sklearn.model_selection import train_test_split, GridSearchCV, RandomizedSearchCV, cross_val_score\n",
    "from sklearn.preprocessing import StandardScaler\n",
    "from sklearn.feature_extraction.text import CountVectorizer, TfidfVectorizer\n",
    "from sklearn.compose import ColumnTransformer\n",
    "from sklearn.pipeline import Pipeline\n",
    "from sklearn import metrics\n",
    "from sklearn.metrics import confusion_matrix, plot_confusion_matrix, \\\n",
    "accuracy_score, recall_score, precision_score, plot_roc_curve, roc_auc_score\n",
    "\n",
    "from sklearn.linear_model import LogisticRegression\n",
    "from sklearn.svm import SVC\n",
    "from sklearn.naive_bayes import MultinomialNB\n",
    "from xgboost import XGBClassifier\n",
    "from sklearn.neighbors import KNeighborsClassifier\n",
    "from sklearn.tree import DecisionTreeClassifier\n",
    "\n",
    "from imblearn.over_sampling import SMOTE \n",
    "from imblearn.pipeline import Pipeline as pipeline\n",
    "\n",
    "pd.set_option('display.max.columns', None)\n",
    "pd.set_option('display.max.colwidth', 100)"
   ]
  },
  {
   "cell_type": "code",
   "execution_count": 3,
   "id": "042fedc5",
   "metadata": {
    "colab": {
     "base_uri": "https://localhost:8080/"
    },
    "id": "042fedc5",
    "outputId": "f66caada-cec3-48c2-c7b5-50d85100958a"
   },
   "outputs": [
    {
     "name": "stdout",
     "output_type": "stream",
     "text": [
      "Requirement already satisfied: bertopic in /usr/local/lib/python3.7/dist-packages (0.9.1)\n",
      "Requirement already satisfied: scikit-learn>=0.22.2.post1 in /usr/local/lib/python3.7/dist-packages (from bertopic) (0.22.2.post1)\n",
      "Requirement already satisfied: plotly<4.14.3,>=4.7.0 in /usr/local/lib/python3.7/dist-packages (from bertopic) (4.14.2)\n",
      "Requirement already satisfied: pandas>=1.1.5 in /usr/local/lib/python3.7/dist-packages (from bertopic) (1.1.5)\n",
      "Requirement already satisfied: hdbscan>=0.8.27 in /usr/local/lib/python3.7/dist-packages (from bertopic) (0.8.27)\n",
      "Requirement already satisfied: sentence-transformers>=0.4.1 in /usr/local/lib/python3.7/dist-packages (from bertopic) (2.0.0)\n",
      "Requirement already satisfied: numpy>=1.20.0 in /usr/local/lib/python3.7/dist-packages (from bertopic) (1.21.2)\n",
      "Requirement already satisfied: tqdm>=4.41.1 in /usr/local/lib/python3.7/dist-packages (from bertopic) (4.62.0)\n",
      "Requirement already satisfied: umap-learn>=0.5.0 in /usr/local/lib/python3.7/dist-packages (from bertopic) (0.5.1)\n",
      "Requirement already satisfied: scipy>=1.0 in /usr/local/lib/python3.7/dist-packages (from hdbscan>=0.8.27->bertopic) (1.4.1)\n",
      "Requirement already satisfied: joblib>=1.0 in /usr/local/lib/python3.7/dist-packages (from hdbscan>=0.8.27->bertopic) (1.0.1)\n",
      "Requirement already satisfied: six in /usr/local/lib/python3.7/dist-packages (from hdbscan>=0.8.27->bertopic) (1.15.0)\n",
      "Requirement already satisfied: cython>=0.27 in /usr/local/lib/python3.7/dist-packages (from hdbscan>=0.8.27->bertopic) (0.29.24)\n",
      "Requirement already satisfied: pytz>=2017.2 in /usr/local/lib/python3.7/dist-packages (from pandas>=1.1.5->bertopic) (2018.9)\n",
      "Requirement already satisfied: python-dateutil>=2.7.3 in /usr/local/lib/python3.7/dist-packages (from pandas>=1.1.5->bertopic) (2.8.2)\n",
      "Requirement already satisfied: retrying>=1.3.3 in /usr/local/lib/python3.7/dist-packages (from plotly<4.14.3,>=4.7.0->bertopic) (1.3.3)\n",
      "Requirement already satisfied: nltk in /usr/local/lib/python3.7/dist-packages (from sentence-transformers>=0.4.1->bertopic) (3.2.5)\n",
      "Requirement already satisfied: torchvision in /usr/local/lib/python3.7/dist-packages (from sentence-transformers>=0.4.1->bertopic) (0.10.0+cu102)\n",
      "Requirement already satisfied: transformers<5.0.0,>=4.6.0 in /usr/local/lib/python3.7/dist-packages (from sentence-transformers>=0.4.1->bertopic) (4.10.0)\n",
      "Requirement already satisfied: torch>=1.6.0 in /usr/local/lib/python3.7/dist-packages (from sentence-transformers>=0.4.1->bertopic) (1.9.0+cu102)\n",
      "Requirement already satisfied: huggingface-hub in /usr/local/lib/python3.7/dist-packages (from sentence-transformers>=0.4.1->bertopic) (0.0.16)\n",
      "Requirement already satisfied: sentencepiece in /usr/local/lib/python3.7/dist-packages (from sentence-transformers>=0.4.1->bertopic) (0.1.96)\n",
      "Requirement already satisfied: typing-extensions in /usr/local/lib/python3.7/dist-packages (from torch>=1.6.0->sentence-transformers>=0.4.1->bertopic) (3.7.4.3)\n",
      "Requirement already satisfied: tokenizers<0.11,>=0.10.1 in /usr/local/lib/python3.7/dist-packages (from transformers<5.0.0,>=4.6.0->sentence-transformers>=0.4.1->bertopic) (0.10.3)\n",
      "Requirement already satisfied: packaging in /usr/local/lib/python3.7/dist-packages (from transformers<5.0.0,>=4.6.0->sentence-transformers>=0.4.1->bertopic) (21.0)\n",
      "Requirement already satisfied: pyyaml>=5.1 in /usr/local/lib/python3.7/dist-packages (from transformers<5.0.0,>=4.6.0->sentence-transformers>=0.4.1->bertopic) (5.4.1)\n",
      "Requirement already satisfied: importlib-metadata in /usr/local/lib/python3.7/dist-packages (from transformers<5.0.0,>=4.6.0->sentence-transformers>=0.4.1->bertopic) (4.6.4)\n",
      "Requirement already satisfied: regex!=2019.12.17 in /usr/local/lib/python3.7/dist-packages (from transformers<5.0.0,>=4.6.0->sentence-transformers>=0.4.1->bertopic) (2019.12.20)\n",
      "Requirement already satisfied: filelock in /usr/local/lib/python3.7/dist-packages (from transformers<5.0.0,>=4.6.0->sentence-transformers>=0.4.1->bertopic) (3.0.12)\n",
      "Requirement already satisfied: requests in /usr/local/lib/python3.7/dist-packages (from transformers<5.0.0,>=4.6.0->sentence-transformers>=0.4.1->bertopic) (2.23.0)\n",
      "Requirement already satisfied: sacremoses in /usr/local/lib/python3.7/dist-packages (from transformers<5.0.0,>=4.6.0->sentence-transformers>=0.4.1->bertopic) (0.0.45)\n",
      "Requirement already satisfied: pyparsing>=2.0.2 in /usr/local/lib/python3.7/dist-packages (from packaging->transformers<5.0.0,>=4.6.0->sentence-transformers>=0.4.1->bertopic) (2.4.7)\n",
      "Requirement already satisfied: pynndescent>=0.5 in /usr/local/lib/python3.7/dist-packages (from umap-learn>=0.5.0->bertopic) (0.5.4)\n",
      "Requirement already satisfied: numba>=0.49 in /usr/local/lib/python3.7/dist-packages (from umap-learn>=0.5.0->bertopic) (0.51.2)\n",
      "Requirement already satisfied: setuptools in /usr/local/lib/python3.7/dist-packages (from numba>=0.49->umap-learn>=0.5.0->bertopic) (57.4.0)\n",
      "Requirement already satisfied: llvmlite<0.35,>=0.34.0.dev0 in /usr/local/lib/python3.7/dist-packages (from numba>=0.49->umap-learn>=0.5.0->bertopic) (0.34.0)\n",
      "Requirement already satisfied: zipp>=0.5 in /usr/local/lib/python3.7/dist-packages (from importlib-metadata->transformers<5.0.0,>=4.6.0->sentence-transformers>=0.4.1->bertopic) (3.5.0)\n",
      "Requirement already satisfied: chardet<4,>=3.0.2 in /usr/local/lib/python3.7/dist-packages (from requests->transformers<5.0.0,>=4.6.0->sentence-transformers>=0.4.1->bertopic) (3.0.4)\n",
      "Requirement already satisfied: certifi>=2017.4.17 in /usr/local/lib/python3.7/dist-packages (from requests->transformers<5.0.0,>=4.6.0->sentence-transformers>=0.4.1->bertopic) (2021.5.30)\n",
      "Requirement already satisfied: urllib3!=1.25.0,!=1.25.1,<1.26,>=1.21.1 in /usr/local/lib/python3.7/dist-packages (from requests->transformers<5.0.0,>=4.6.0->sentence-transformers>=0.4.1->bertopic) (1.24.3)\n",
      "Requirement already satisfied: idna<3,>=2.5 in /usr/local/lib/python3.7/dist-packages (from requests->transformers<5.0.0,>=4.6.0->sentence-transformers>=0.4.1->bertopic) (2.10)\n",
      "Requirement already satisfied: click in /usr/local/lib/python3.7/dist-packages (from sacremoses->transformers<5.0.0,>=4.6.0->sentence-transformers>=0.4.1->bertopic) (7.1.2)\n",
      "Requirement already satisfied: pillow>=5.3.0 in /usr/local/lib/python3.7/dist-packages (from torchvision->sentence-transformers>=0.4.1->bertopic) (7.1.2)\n"
     ]
    }
   ],
   "source": [
    "!pip install bertopic"
   ]
  },
  {
   "cell_type": "code",
   "execution_count": 4,
   "id": "4kYi30bdRcdD",
   "metadata": {
    "colab": {
     "base_uri": "https://localhost:8080/"
    },
    "id": "4kYi30bdRcdD",
    "outputId": "ee63b127-cd00-4c0c-9386-f86f43daad14"
   },
   "outputs": [
    {
     "name": "stderr",
     "output_type": "stream",
     "text": [
      "/usr/local/lib/python3.7/dist-packages/distributed/config.py:20: YAMLLoadWarning: calling yaml.load() without Loader=... is deprecated, as the default Loader is unsafe. Please read https://msg.pyyaml.org/load for full details.\n",
      "  defaults = yaml.load(f)\n"
     ]
    }
   ],
   "source": [
    "from bertopic import BERTopic\n",
    "\n",
    "topic_model = BERTopic(language = \"english\", calculate_probabilities = True, verbose = True)"
   ]
  },
  {
   "cell_type": "markdown",
   "id": "uyyBDUPjgyhB",
   "metadata": {
    "id": "uyyBDUPjgyhB"
   },
   "source": [
    "## Topic Modelling"
   ]
  },
  {
   "cell_type": "code",
   "execution_count": 5,
   "id": "7e0c4ccc",
   "metadata": {
    "id": "7e0c4ccc"
   },
   "outputs": [],
   "source": [
    "# load the fake_jobs text\n",
    "fake = pd.read_csv('/content/drive/MyDrive/Colab_Notebooks/Capstone Project/data/fake_jobs_text.csv')"
   ]
  },
  {
   "cell_type": "code",
   "execution_count": 6,
   "id": "dzXfP7DiI3PM",
   "metadata": {
    "colab": {
     "base_uri": "https://localhost:8080/",
     "height": 80
    },
    "id": "dzXfP7DiI3PM",
    "outputId": "9d581137-d701-40da-e501-92e1e0ca0dba"
   },
   "outputs": [
    {
     "data": {
      "text/html": [
       "<div>\n",
       "<style scoped>\n",
       "    .dataframe tbody tr th:only-of-type {\n",
       "        vertical-align: middle;\n",
       "    }\n",
       "\n",
       "    .dataframe tbody tr th {\n",
       "        vertical-align: top;\n",
       "    }\n",
       "\n",
       "    .dataframe thead th {\n",
       "        text-align: right;\n",
       "    }\n",
       "</style>\n",
       "<table border=\"1\" class=\"dataframe\">\n",
       "  <thead>\n",
       "    <tr style=\"text-align: right;\">\n",
       "      <th></th>\n",
       "      <th>text_lemma</th>\n",
       "    </tr>\n",
       "  </thead>\n",
       "  <tbody>\n",
       "    <tr>\n",
       "      <th>0</th>\n",
       "      <td>ic e technician ic e technician bakersfield ca mt posoprincipal duty responsibility calibrates t...</td>\n",
       "    </tr>\n",
       "  </tbody>\n",
       "</table>\n",
       "</div>"
      ],
      "text/plain": [
       "                                                                                            text_lemma\n",
       "0  ic e technician ic e technician bakersfield ca mt posoprincipal duty responsibility calibrates t..."
      ]
     },
     "execution_count": 6,
     "metadata": {},
     "output_type": "execute_result"
    }
   ],
   "source": [
    "fake.head(1)"
   ]
  },
  {
   "cell_type": "markdown",
   "id": "DqISnzN7MPxy",
   "metadata": {
    "id": "DqISnzN7MPxy"
   },
   "source": [
    "### I. Fake Jobs Topic Modelling"
   ]
  },
  {
   "cell_type": "code",
   "execution_count": 7,
   "id": "25QnWlrBWwiA",
   "metadata": {
    "colab": {
     "base_uri": "https://localhost:8080/",
     "height": 154,
     "referenced_widgets": [
      "9c21682dc4c542c2b1d3e9ee3ebf7234",
      "23424046b43440e5a6b5b69ba23bcb96",
      "82829459bd07487981f71c7e43109087",
      "0d9e405709f44ddbbf062218874b4586",
      "43fc66376380466bbe7dc11adaefa1ca",
      "0a7c835fc81c4d1998651c8866a78fa8",
      "fbd950feba304872b8da8b3978d8a954",
      "3de0583dece24b6d83f922b96b1a03e9",
      "cc42a21a091046e5bfb30ed184589c29",
      "82988953031b4b57bf785011a22c5013",
      "ecea0d0586444386bd8f2766de930c81"
     ]
    },
    "id": "25QnWlrBWwiA",
    "outputId": "78be7fae-7a14-4fe0-d0c6-2ac75e8146d5"
   },
   "outputs": [
    {
     "data": {
      "application/vnd.jupyter.widget-view+json": {
       "model_id": "9c21682dc4c542c2b1d3e9ee3ebf7234",
       "version_major": 2,
       "version_minor": 0
      },
      "text/plain": [
       "Batches:   0%|          | 0/16 [00:00<?, ?it/s]"
      ]
     },
     "metadata": {},
     "output_type": "display_data"
    },
    {
     "name": "stderr",
     "output_type": "stream",
     "text": [
      "2021-09-08 10:30:38,495 - BERTopic - Transformed documents to Embeddings\n",
      "/usr/local/lib/python3.7/dist-packages/numba/np/ufunc/parallel.py:363: NumbaWarning: The TBB threading layer requires TBB version 2019.5 or later i.e., TBB_INTERFACE_VERSION >= 11005. Found TBB_INTERFACE_VERSION = 9107. The TBB threading layer is disabled.\n",
      "  warnings.warn(problem)\n",
      "2021-09-08 10:30:49,777 - BERTopic - Reduced dimensionality with UMAP\n",
      "2021-09-08 10:30:49,821 - BERTopic - Clustered UMAP embeddings with HDBSCAN\n"
     ]
    }
   ],
   "source": [
    "# transform text to word embeddings\n",
    "topics, probs = topic_model.fit_transform(fake['text_lemma'])"
   ]
  },
  {
   "cell_type": "code",
   "execution_count": 8,
   "id": "0stL4LIWSx2I",
   "metadata": {
    "colab": {
     "base_uri": "https://localhost:8080/",
     "height": 173
    },
    "id": "0stL4LIWSx2I",
    "outputId": "0ef43022-ea4a-44c5-9e74-f8a6fdbb2b81"
   },
   "outputs": [
    {
     "data": {
      "text/html": [
       "<div>\n",
       "<style scoped>\n",
       "    .dataframe tbody tr th:only-of-type {\n",
       "        vertical-align: middle;\n",
       "    }\n",
       "\n",
       "    .dataframe tbody tr th {\n",
       "        vertical-align: top;\n",
       "    }\n",
       "\n",
       "    .dataframe thead th {\n",
       "        text-align: right;\n",
       "    }\n",
       "</style>\n",
       "<table border=\"1\" class=\"dataframe\">\n",
       "  <thead>\n",
       "    <tr style=\"text-align: right;\">\n",
       "      <th></th>\n",
       "      <th>Topic</th>\n",
       "      <th>Count</th>\n",
       "      <th>Name</th>\n",
       "    </tr>\n",
       "  </thead>\n",
       "  <tbody>\n",
       "    <tr>\n",
       "      <th>0</th>\n",
       "      <td>0</td>\n",
       "      <td>403</td>\n",
       "      <td>0_system_management_engineering_business</td>\n",
       "    </tr>\n",
       "    <tr>\n",
       "      <th>1</th>\n",
       "      <td>1</td>\n",
       "      <td>36</td>\n",
       "      <td>1_job_suppliescomputer_distractionsmust_wage</td>\n",
       "    </tr>\n",
       "    <tr>\n",
       "      <th>2</th>\n",
       "      <td>2</td>\n",
       "      <td>34</td>\n",
       "      <td>2_care_nursing_patient_rn</td>\n",
       "    </tr>\n",
       "    <tr>\n",
       "      <th>3</th>\n",
       "      <td>3</td>\n",
       "      <td>13</td>\n",
       "      <td>3_glass_optical_optician_lens</td>\n",
       "    </tr>\n",
       "  </tbody>\n",
       "</table>\n",
       "</div>"
      ],
      "text/plain": [
       "   Topic  Count                                          Name\n",
       "0      0    403      0_system_management_engineering_business\n",
       "1      1     36  1_job_suppliescomputer_distractionsmust_wage\n",
       "2      2     34                     2_care_nursing_patient_rn\n",
       "3      3     13                 3_glass_optical_optician_lens"
      ]
     },
     "execution_count": 8,
     "metadata": {},
     "output_type": "execute_result"
    }
   ],
   "source": [
    "# get the different topics and their frequency\n",
    "freq = topic_model.get_topic_info(); \n",
    "freq.sort_values(by = 'Count', ascending = False)"
   ]
  },
  {
   "cell_type": "code",
   "execution_count": 9,
   "id": "ABZsW58SS2mK",
   "metadata": {
    "colab": {
     "base_uri": "https://localhost:8080/"
    },
    "id": "ABZsW58SS2mK",
    "outputId": "d446d1ce-1fe1-4e60-f6ec-26e562c21cb1"
   },
   "outputs": [
    {
     "data": {
      "text/plain": [
       "[('system', 0.023941138564172813),\n",
       " ('management', 0.022948831317430553),\n",
       " ('engineering', 0.02184365650449586),\n",
       " ('business', 0.01940101260410698),\n",
       " ('equipment', 0.016996461475508783),\n",
       " ('responsibility', 0.01618578060292454),\n",
       " ('industry', 0.016115081578170223),\n",
       " ('design', 0.01581828989972461),\n",
       " ('office', 0.015741377113781502),\n",
       " ('service', 0.015440683565150588)]"
      ]
     },
     "execution_count": 9,
     "metadata": {},
     "output_type": "execute_result"
    }
   ],
   "source": [
    "# top words in topic 0\n",
    "topic_model.get_topic(0)"
   ]
  },
  {
   "cell_type": "code",
   "execution_count": 10,
   "id": "QkZ2A6L4KzpV",
   "metadata": {
    "colab": {
     "base_uri": "https://localhost:8080/"
    },
    "id": "QkZ2A6L4KzpV",
    "outputId": "5f79666c-564a-4e61-ca1e-c681126e0feb"
   },
   "outputs": [
    {
     "data": {
      "text/plain": [
       "[('job', 0.13739443488303296),\n",
       " ('suppliescomputer', 0.08048696583555454),\n",
       " ('distractionsmust', 0.08048696583555454),\n",
       " ('wage', 0.07412470764036783),\n",
       " ('guarantee', 0.07397709191480306),\n",
       " ('benefit', 0.07181144973717363),\n",
       " ('applying', 0.07172424609732467),\n",
       " ('salary', 0.07137460339963311),\n",
       " ('career', 0.0680385365357489),\n",
       " ('bonus', 0.06796482484632246)]"
      ]
     },
     "execution_count": 10,
     "metadata": {},
     "output_type": "execute_result"
    }
   ],
   "source": [
    "# top words in topic 1\n",
    "topic_model.get_topic(1)"
   ]
  },
  {
   "cell_type": "code",
   "execution_count": 11,
   "id": "clVYUKEuLDWn",
   "metadata": {
    "colab": {
     "base_uri": "https://localhost:8080/"
    },
    "id": "clVYUKEuLDWn",
    "outputId": "374675ec-bffc-4e54-9ed9-2e64519d7ba7"
   },
   "outputs": [
    {
     "data": {
      "text/plain": [
       "[('care', 0.07307847244476162),\n",
       " ('nursing', 0.06650610123780185),\n",
       " ('patient', 0.06513947274992281),\n",
       " ('rn', 0.06214495691061141),\n",
       " ('nurse', 0.04726340812585129),\n",
       " ('hospital', 0.03993980426660773),\n",
       " ('staff', 0.03915781606185133),\n",
       " ('surgery', 0.03313655800183737),\n",
       " ('perioperative', 0.03313655800183737),\n",
       " ('surgical', 0.03155392972243682)]"
      ]
     },
     "execution_count": 11,
     "metadata": {},
     "output_type": "execute_result"
    }
   ],
   "source": [
    "# top words in topic 2\n",
    "topic_model.get_topic(2)"
   ]
  },
  {
   "cell_type": "code",
   "execution_count": 12,
   "id": "lxOR8cbCLDdH",
   "metadata": {
    "colab": {
     "base_uri": "https://localhost:8080/"
    },
    "id": "lxOR8cbCLDdH",
    "outputId": "b988eed6-5fc8-42b6-a8e1-9f0cd7ced7cc"
   },
   "outputs": [
    {
     "data": {
      "text/plain": [
       "[('glass', 0.21681437641016615),\n",
       " ('optical', 0.1859535307632584),\n",
       " ('optician', 0.1313440309191682),\n",
       " ('lens', 0.1098630761033127),\n",
       " ('position', 0.10900946244207413),\n",
       " ('drop', 0.09941065984864286),\n",
       " ('select', 0.09470475444135318),\n",
       " ('optometric', 0.08544295723184353),\n",
       " ('selecting', 0.06311806045478131),\n",
       " ('presenting', 0.056112957419944896)]"
      ]
     },
     "execution_count": 12,
     "metadata": {},
     "output_type": "execute_result"
    }
   ],
   "source": [
    "# top words in topic 3\n",
    "topic_model.get_topic(3)"
   ]
  },
  {
   "cell_type": "markdown",
   "id": "NfJLkwjyGP-L",
   "metadata": {
    "id": "NfJLkwjyGP-L"
   },
   "source": [
    "**Observation**: The fake jobs are clustered around 4 topics, with more than 80% of the ads in topic0. From the common words, the jobs are centred around engineering/business management. The other 3 topics include computer supplies, healthcare and optometry."
   ]
  },
  {
   "cell_type": "code",
   "execution_count": null,
   "id": "ltUtZa4kS-uE",
   "metadata": {
    "id": "ltUtZa4kS-uE"
   },
   "outputs": [],
   "source": [
    "# visualise the topics\n",
    "topic_model.visualize_topics()"
   ]
  },
  {
   "cell_type": "markdown",
   "id": "13cdc533",
   "metadata": {},
   "source": [
    "![google-colab](../image/fake-topic-dist.png)"
   ]
  },
  {
   "cell_type": "markdown",
   "id": "uEtGt-RvH_pz",
   "metadata": {
    "id": "uEtGt-RvH_pz"
   },
   "source": [
    "**Observation**: The topics do not overlap, indicating that they are very different."
   ]
  },
  {
   "cell_type": "code",
   "execution_count": null,
   "id": "2gZULiZEaTN0",
   "metadata": {
    "id": "2gZULiZEaTN0"
   },
   "outputs": [],
   "source": [
    "# visualise topic hierarchy\n",
    "topic_model.visualize_hierarchy()"
   ]
  },
  {
   "cell_type": "markdown",
   "id": "2e5d61b5",
   "metadata": {},
   "source": [
    "![google-colab](../image/fake-hierarchical-clustering.png)"
   ]
  },
  {
   "cell_type": "code",
   "execution_count": null,
   "id": "dYz8iA73aY7m",
   "metadata": {
    "id": "dYz8iA73aY7m"
   },
   "outputs": [],
   "source": [
    "# visualise the common words for each topic\n",
    "topic_model.visualize_barchart(top_n_topics = 5)"
   ]
  },
  {
   "cell_type": "markdown",
   "id": "32d75861",
   "metadata": {},
   "source": [
    "![google-colab](../image/fake-top-words.png)"
   ]
  },
  {
   "cell_type": "markdown",
   "id": "1mq_TMX-Mw3d",
   "metadata": {
    "id": "1mq_TMX-Mw3d"
   },
   "source": [
    "### II. Real Jobs Topic Modelling"
   ]
  },
  {
   "cell_type": "code",
   "execution_count": 16,
   "id": "LzrfzKj8OUS7",
   "metadata": {
    "id": "LzrfzKj8OUS7"
   },
   "outputs": [],
   "source": [
    "# load the real jobs data\n",
    "real = pd.read_csv('/content/drive/MyDrive/Colab_Notebooks/Capstone Project/data/real_jobs_text.csv')"
   ]
  },
  {
   "cell_type": "code",
   "execution_count": 17,
   "id": "ShmVf2mBvbYn",
   "metadata": {
    "id": "ShmVf2mBvbYn"
   },
   "outputs": [],
   "source": [
    "topic_model = BERTopic(language = \"english\", calculate_probabilities = True, verbose = True)"
   ]
  },
  {
   "cell_type": "code",
   "execution_count": 18,
   "id": "et-RO8DROHwT",
   "metadata": {
    "colab": {
     "base_uri": "https://localhost:8080/",
     "height": 100,
     "referenced_widgets": [
      "e709a4f588db4e79bce05631a05fbcf7",
      "c63653c8447345598ed813e9584277f8",
      "18fb2ab018014229b355c7060688af35",
      "e94f05b1abc6440aaff81d34293986db",
      "bfa710da1f3045c1a07c2c7f1f5d4aef",
      "a38947f7b24244a18ae5538653e98030",
      "0b5ab697cf484d5882e16e94491af16f",
      "7a1f75603153455086af0207059e64a6",
      "17e3c8177bcc421682f8cc186ba12942",
      "a8a9c4e278f249d1b6988fc6f2cb3e3a",
      "d1d881f85fa84a5da9869b40ae11e18f"
     ]
    },
    "id": "et-RO8DROHwT",
    "outputId": "26daadca-b694-4815-de3b-29abdbf8bb74"
   },
   "outputs": [
    {
     "data": {
      "application/vnd.jupyter.widget-view+json": {
       "model_id": "e709a4f588db4e79bce05631a05fbcf7",
       "version_major": 2,
       "version_minor": 0
      },
      "text/plain": [
       "Batches:   0%|          | 0/356 [00:00<?, ?it/s]"
      ]
     },
     "metadata": {},
     "output_type": "display_data"
    },
    {
     "name": "stderr",
     "output_type": "stream",
     "text": [
      "2021-09-08 10:41:08,760 - BERTopic - Transformed documents to Embeddings\n",
      "2021-09-08 10:41:30,470 - BERTopic - Reduced dimensionality with UMAP\n",
      "2021-09-08 10:41:55,465 - BERTopic - Clustered UMAP embeddings with HDBSCAN\n"
     ]
    }
   ],
   "source": [
    "# transform text to word embeddings\n",
    "topics, probs = topic_model.fit_transform(real['text_lemma'])"
   ]
  },
  {
   "cell_type": "code",
   "execution_count": 19,
   "id": "rKMFLAhwZtD-",
   "metadata": {
    "colab": {
     "base_uri": "https://localhost:8080/",
     "height": 419
    },
    "id": "rKMFLAhwZtD-",
    "outputId": "254e6925-c2d1-4228-c9c4-dee792370fbd"
   },
   "outputs": [
    {
     "data": {
      "text/html": [
       "<div>\n",
       "<style scoped>\n",
       "    .dataframe tbody tr th:only-of-type {\n",
       "        vertical-align: middle;\n",
       "    }\n",
       "\n",
       "    .dataframe tbody tr th {\n",
       "        vertical-align: top;\n",
       "    }\n",
       "\n",
       "    .dataframe thead th {\n",
       "        text-align: right;\n",
       "    }\n",
       "</style>\n",
       "<table border=\"1\" class=\"dataframe\">\n",
       "  <thead>\n",
       "    <tr style=\"text-align: right;\">\n",
       "      <th></th>\n",
       "      <th>Topic</th>\n",
       "      <th>Count</th>\n",
       "      <th>Name</th>\n",
       "    </tr>\n",
       "  </thead>\n",
       "  <tbody>\n",
       "    <tr>\n",
       "      <th>0</th>\n",
       "      <td>-1</td>\n",
       "      <td>3667</td>\n",
       "      <td>-1_digital_want_platform_engineer</td>\n",
       "    </tr>\n",
       "    <tr>\n",
       "      <th>1</th>\n",
       "      <td>0</td>\n",
       "      <td>329</td>\n",
       "      <td>0_selling_prospect_revenue_target</td>\n",
       "    </tr>\n",
       "    <tr>\n",
       "      <th>2</th>\n",
       "      <td>1</td>\n",
       "      <td>221</td>\n",
       "      <td>1_test_testing_qa_automated</td>\n",
       "    </tr>\n",
       "    <tr>\n",
       "      <th>3</th>\n",
       "      <td>2</td>\n",
       "      <td>205</td>\n",
       "      <td>2_java_oracle_xml_framework</td>\n",
       "    </tr>\n",
       "    <tr>\n",
       "      <th>4</th>\n",
       "      <td>3</td>\n",
       "      <td>184</td>\n",
       "      <td>3_admin_funding_apprenticeship_na</td>\n",
       "    </tr>\n",
       "    <tr>\n",
       "      <th>...</th>\n",
       "      <td>...</td>\n",
       "      <td>...</td>\n",
       "      <td>...</td>\n",
       "    </tr>\n",
       "    <tr>\n",
       "      <th>194</th>\n",
       "      <td>190</td>\n",
       "      <td>11</td>\n",
       "      <td>190_fundraising_award_nonprofit_social</td>\n",
       "    </tr>\n",
       "    <tr>\n",
       "      <th>201</th>\n",
       "      <td>200</td>\n",
       "      <td>10</td>\n",
       "      <td>200_intercom_impersonal_whatsapp_venture</td>\n",
       "    </tr>\n",
       "    <tr>\n",
       "      <th>202</th>\n",
       "      <td>201</td>\n",
       "      <td>10</td>\n",
       "      <td>201_salesphone_websocial_mediaecommercewebsites_website</td>\n",
       "    </tr>\n",
       "    <tr>\n",
       "      <th>203</th>\n",
       "      <td>202</td>\n",
       "      <td>10</td>\n",
       "      <td>202_companiestesting_watermarking_technologiesplanning_videostrong</td>\n",
       "    </tr>\n",
       "    <tr>\n",
       "      <th>204</th>\n",
       "      <td>203</td>\n",
       "      <td>10</td>\n",
       "      <td>203_bus_transportation_wheelchair_elgin</td>\n",
       "    </tr>\n",
       "  </tbody>\n",
       "</table>\n",
       "<p>205 rows × 3 columns</p>\n",
       "</div>"
      ],
      "text/plain": [
       "     Topic  Count  \\\n",
       "0       -1   3667   \n",
       "1        0    329   \n",
       "2        1    221   \n",
       "3        2    205   \n",
       "4        3    184   \n",
       "..     ...    ...   \n",
       "194    190     11   \n",
       "201    200     10   \n",
       "202    201     10   \n",
       "203    202     10   \n",
       "204    203     10   \n",
       "\n",
       "                                                                   Name  \n",
       "0                                     -1_digital_want_platform_engineer  \n",
       "1                                     0_selling_prospect_revenue_target  \n",
       "2                                           1_test_testing_qa_automated  \n",
       "3                                           2_java_oracle_xml_framework  \n",
       "4                                     3_admin_funding_apprenticeship_na  \n",
       "..                                                                  ...  \n",
       "194                              190_fundraising_award_nonprofit_social  \n",
       "201                            200_intercom_impersonal_whatsapp_venture  \n",
       "202             201_salesphone_websocial_mediaecommercewebsites_website  \n",
       "203  202_companiestesting_watermarking_technologiesplanning_videostrong  \n",
       "204                             203_bus_transportation_wheelchair_elgin  \n",
       "\n",
       "[205 rows x 3 columns]"
      ]
     },
     "execution_count": 19,
     "metadata": {},
     "output_type": "execute_result"
    }
   ],
   "source": [
    "# get the topics\n",
    "freq = topic_model.get_topic_info(); \n",
    "freq.sort_values(by = 'Count', ascending = False)"
   ]
  },
  {
   "cell_type": "markdown",
   "id": "-j0AAU1vLITD",
   "metadata": {
    "id": "-j0AAU1vLITD"
   },
   "source": [
    "**Observation**: As there were more data on real jobs, the ads are clustered around 204 topics. The top 3 common topics of the genuine jobs ads seem to be related to sales (target/revenue), quality assurance (manufacturing) and java programming. \n"
   ]
  },
  {
   "cell_type": "code",
   "execution_count": 20,
   "id": "tOL2Is8toy99",
   "metadata": {
    "colab": {
     "base_uri": "https://localhost:8080/",
     "height": 669
    },
    "id": "tOL2Is8toy99",
    "outputId": "e4baf397-d178-49d1-c6a9-055286076c25"
   },
   "outputs": [
    {
     "data": {
      "text/html": [
       "<div>\n",
       "<style scoped>\n",
       "    .dataframe tbody tr th:only-of-type {\n",
       "        vertical-align: middle;\n",
       "    }\n",
       "\n",
       "    .dataframe tbody tr th {\n",
       "        vertical-align: top;\n",
       "    }\n",
       "\n",
       "    .dataframe thead th {\n",
       "        text-align: right;\n",
       "    }\n",
       "</style>\n",
       "<table border=\"1\" class=\"dataframe\">\n",
       "  <thead>\n",
       "    <tr style=\"text-align: right;\">\n",
       "      <th></th>\n",
       "      <th>Topic</th>\n",
       "      <th>Count</th>\n",
       "      <th>Name</th>\n",
       "    </tr>\n",
       "  </thead>\n",
       "  <tbody>\n",
       "    <tr>\n",
       "      <th>0</th>\n",
       "      <td>-1</td>\n",
       "      <td>3667</td>\n",
       "      <td>-1_digital_want_platform_engineer</td>\n",
       "    </tr>\n",
       "    <tr>\n",
       "      <th>1</th>\n",
       "      <td>0</td>\n",
       "      <td>329</td>\n",
       "      <td>0_selling_prospect_revenue_target</td>\n",
       "    </tr>\n",
       "    <tr>\n",
       "      <th>2</th>\n",
       "      <td>1</td>\n",
       "      <td>221</td>\n",
       "      <td>1_test_testing_qa_automated</td>\n",
       "    </tr>\n",
       "    <tr>\n",
       "      <th>3</th>\n",
       "      <td>2</td>\n",
       "      <td>205</td>\n",
       "      <td>2_java_oracle_xml_framework</td>\n",
       "    </tr>\n",
       "    <tr>\n",
       "      <th>4</th>\n",
       "      <td>3</td>\n",
       "      <td>184</td>\n",
       "      <td>3_admin_funding_apprenticeship_na</td>\n",
       "    </tr>\n",
       "    <tr>\n",
       "      <th>5</th>\n",
       "      <td>4</td>\n",
       "      <td>182</td>\n",
       "      <td>4_designer_visual_creative_photoshop</td>\n",
       "    </tr>\n",
       "    <tr>\n",
       "      <th>6</th>\n",
       "      <td>5</td>\n",
       "      <td>172</td>\n",
       "      <td>5_hr_recruiting_recruitment_recruiter</td>\n",
       "    </tr>\n",
       "    <tr>\n",
       "      <th>7</th>\n",
       "      <td>6</td>\n",
       "      <td>157</td>\n",
       "      <td>6_sql_database_oracle_server</td>\n",
       "    </tr>\n",
       "    <tr>\n",
       "      <th>8</th>\n",
       "      <td>7</td>\n",
       "      <td>149</td>\n",
       "      <td>7_estimating_managing_manage_planning</td>\n",
       "    </tr>\n",
       "    <tr>\n",
       "      <th>9</th>\n",
       "      <td>8</td>\n",
       "      <td>143</td>\n",
       "      <td>8_office_assistant_executive_calendar</td>\n",
       "    </tr>\n",
       "    <tr>\n",
       "      <th>10</th>\n",
       "      <td>9</td>\n",
       "      <td>141</td>\n",
       "      <td>9_ui_designer_visual_wireframes</td>\n",
       "    </tr>\n",
       "    <tr>\n",
       "      <th>11</th>\n",
       "      <td>10</td>\n",
       "      <td>128</td>\n",
       "      <td>10_campaign_brand_strategy_market</td>\n",
       "    </tr>\n",
       "    <tr>\n",
       "      <th>12</th>\n",
       "      <td>11</td>\n",
       "      <td>127</td>\n",
       "      <td>11_data_analytics_analyst_mining</td>\n",
       "    </tr>\n",
       "    <tr>\n",
       "      <th>13</th>\n",
       "      <td>12</td>\n",
       "      <td>120</td>\n",
       "      <td>12_jquery_angularjs_browser_web</td>\n",
       "    </tr>\n",
       "    <tr>\n",
       "      <th>14</th>\n",
       "      <td>13</td>\n",
       "      <td>114</td>\n",
       "      <td>13_mail_neededenter_pullscreate_recipientsperform</td>\n",
       "    </tr>\n",
       "    <tr>\n",
       "      <th>15</th>\n",
       "      <td>14</td>\n",
       "      <td>101</td>\n",
       "      <td>14_android_mobile_app_apps</td>\n",
       "    </tr>\n",
       "    <tr>\n",
       "      <th>16</th>\n",
       "      <td>15</td>\n",
       "      <td>94</td>\n",
       "      <td>15_manufacturing_mechanical_engineering_cnc</td>\n",
       "    </tr>\n",
       "    <tr>\n",
       "      <th>17</th>\n",
       "      <td>16</td>\n",
       "      <td>91</td>\n",
       "      <td>16_agency_strategic_managing_manager</td>\n",
       "    </tr>\n",
       "    <tr>\n",
       "      <th>18</th>\n",
       "      <td>17</td>\n",
       "      <td>87</td>\n",
       "      <td>17_ucp_disability_cerebral_palsy</td>\n",
       "    </tr>\n",
       "    <tr>\n",
       "      <th>19</th>\n",
       "      <td>18</td>\n",
       "      <td>81</td>\n",
       "      <td>18_app_apps_objective_iphone</td>\n",
       "    </tr>\n",
       "  </tbody>\n",
       "</table>\n",
       "</div>"
      ],
      "text/plain": [
       "    Topic  Count                                               Name\n",
       "0      -1   3667                  -1_digital_want_platform_engineer\n",
       "1       0    329                  0_selling_prospect_revenue_target\n",
       "2       1    221                        1_test_testing_qa_automated\n",
       "3       2    205                        2_java_oracle_xml_framework\n",
       "4       3    184                  3_admin_funding_apprenticeship_na\n",
       "5       4    182               4_designer_visual_creative_photoshop\n",
       "6       5    172              5_hr_recruiting_recruitment_recruiter\n",
       "7       6    157                       6_sql_database_oracle_server\n",
       "8       7    149              7_estimating_managing_manage_planning\n",
       "9       8    143              8_office_assistant_executive_calendar\n",
       "10      9    141                    9_ui_designer_visual_wireframes\n",
       "11     10    128                  10_campaign_brand_strategy_market\n",
       "12     11    127                   11_data_analytics_analyst_mining\n",
       "13     12    120                    12_jquery_angularjs_browser_web\n",
       "14     13    114  13_mail_neededenter_pullscreate_recipientsperform\n",
       "15     14    101                         14_android_mobile_app_apps\n",
       "16     15     94        15_manufacturing_mechanical_engineering_cnc\n",
       "17     16     91               16_agency_strategic_managing_manager\n",
       "18     17     87                   17_ucp_disability_cerebral_palsy\n",
       "19     18     81                       18_app_apps_objective_iphone"
      ]
     },
     "execution_count": 20,
     "metadata": {},
     "output_type": "execute_result"
    }
   ],
   "source": [
    "# display top 20 topics\n",
    "freq.sort_values(by = 'Count', ascending = False).head(20)"
   ]
  },
  {
   "cell_type": "code",
   "execution_count": null,
   "id": "5Ck9lUmPZtHB",
   "metadata": {
    "id": "5Ck9lUmPZtHB"
   },
   "outputs": [],
   "source": [
    "# visualise how close the topics are to each other\n",
    "topic_model.visualize_topics()"
   ]
  },
  {
   "cell_type": "markdown",
   "id": "8edcb108",
   "metadata": {},
   "source": [
    "![google-colab](../image/real-topic-dist.png)"
   ]
  },
  {
   "cell_type": "markdown",
   "id": "LvaN9cu_OOwd",
   "metadata": {
    "id": "LvaN9cu_OOwd"
   },
   "source": [
    "**Observation**: Many of the topics are very close to each other, as seen by the overlapping circles."
   ]
  },
  {
   "cell_type": "code",
   "execution_count": null,
   "id": "GonCVoX-aLQ8",
   "metadata": {
    "id": "GonCVoX-aLQ8"
   },
   "outputs": [],
   "source": [
    "# visualise the hierarchy between the top 20 topics\n",
    "topic_model.visualize_hierarchy(top_n_topics=20)"
   ]
  },
  {
   "cell_type": "markdown",
   "id": "3a391213",
   "metadata": {},
   "source": [
    "![google-colab](../image/real-hierarchical-clustering.png)"
   ]
  },
  {
   "cell_type": "code",
   "execution_count": null,
   "id": "Ybfk4vLeaQJs",
   "metadata": {
    "id": "Ybfk4vLeaQJs"
   },
   "outputs": [],
   "source": [
    "# visualise the top words from the top 10 topics\n",
    "topic_model.visualize_barchart(top_n_topics = 10)"
   ]
  },
  {
   "cell_type": "markdown",
   "id": "f8150995",
   "metadata": {},
   "source": [
    "![google-colab](../image/real-top-words.png)"
   ]
  },
  {
   "cell_type": "code",
   "execution_count": 24,
   "id": "52pFkJIqaVLq",
   "metadata": {
    "id": "52pFkJIqaVLq"
   },
   "outputs": [],
   "source": [
    "# update the topics by using bigrams instead of unigrams\n",
    "topic_model.update_topics(real['text_lemma'], topics, n_gram_range = (2, 2))"
   ]
  },
  {
   "cell_type": "code",
   "execution_count": 25,
   "id": "SiE7iQRBwgp2",
   "metadata": {
    "colab": {
     "base_uri": "https://localhost:8080/"
    },
    "id": "SiE7iQRBwgp2",
    "outputId": "006b28bf-184c-4360-83d0-107e5b238cd6"
   },
   "outputs": [
    {
     "data": {
      "text/plain": [
       "[('sale representative', 0.005868507264418676),\n",
       " ('sale manager', 0.00483916083925407),\n",
       " ('sale director', 0.004275268948443754),\n",
       " ('sale associate', 0.00391747430041073),\n",
       " ('sale executive', 0.0035945663504305114),\n",
       " ('sale strategy', 0.00279824238030757),\n",
       " ('sale development', 0.002740307223647008),\n",
       " ('sale professional', 0.0026990948084351625),\n",
       " ('sale operation', 0.0025354650998916286),\n",
       " ('sale marketing', 0.002191186170686824)]"
      ]
     },
     "execution_count": 25,
     "metadata": {},
     "output_type": "execute_result"
    }
   ],
   "source": [
    "# display the top bigrams from topic of our choice, to better understand the context\n",
    "topic_model.get_topic(0)"
   ]
  },
  {
   "cell_type": "markdown",
   "id": "IwZ9Dpw7BdnP",
   "metadata": {
    "id": "IwZ9Dpw7BdnP"
   },
   "source": [
    "**Observation**: The bigrams provide more context to the job listings. From the top bigrams of Topic0, it is clear that Topic0 is on jobs related to sales as seen by the common bigrams, as compared to the unigrams above."
   ]
  },
  {
   "cell_type": "markdown",
   "id": "5MYHA2iV7QgL",
   "metadata": {
    "id": "5MYHA2iV7QgL"
   },
   "source": [
    "#### Topic Reduction\n",
    "We can also reduce the number of topics after training a BERTopic model. We can decide the number of topics after knowing how many are actually created. In this case there were 204 topics created and some are very close to each other. We will reduce it to 50 topics so that we can better understand how distinct each topics are."
   ]
  },
  {
   "cell_type": "code",
   "execution_count": 26,
   "id": "n7ej0qGOxABs",
   "metadata": {
    "colab": {
     "base_uri": "https://localhost:8080/"
    },
    "id": "n7ej0qGOxABs",
    "outputId": "540a8a65-af3d-42c1-b726-48df5060e5c7"
   },
   "outputs": [
    {
     "name": "stderr",
     "output_type": "stream",
     "text": [
      "2021-09-08 10:44:24,686 - BERTopic - Reduced number of topics from 205 to 51\n"
     ]
    }
   ],
   "source": [
    "# reduce the number of topics from 204 to 50\n",
    "new_topics, new_probs = topic_model.reduce_topics(real['text_lemma'], topics, probs, nr_topics = 50)"
   ]
  },
  {
   "cell_type": "code",
   "execution_count": 27,
   "id": "meC6QB3ZxX4N",
   "metadata": {
    "colab": {
     "base_uri": "https://localhost:8080/",
     "height": 1000
    },
    "id": "meC6QB3ZxX4N",
    "outputId": "974c1dd1-012a-4aa6-913e-b04adeee6427"
   },
   "outputs": [
    {
     "data": {
      "text/html": [
       "<div>\n",
       "<style scoped>\n",
       "    .dataframe tbody tr th:only-of-type {\n",
       "        vertical-align: middle;\n",
       "    }\n",
       "\n",
       "    .dataframe tbody tr th {\n",
       "        vertical-align: top;\n",
       "    }\n",
       "\n",
       "    .dataframe thead th {\n",
       "        text-align: right;\n",
       "    }\n",
       "</style>\n",
       "<table border=\"1\" class=\"dataframe\">\n",
       "  <thead>\n",
       "    <tr style=\"text-align: right;\">\n",
       "      <th></th>\n",
       "      <th>Topic</th>\n",
       "      <th>Count</th>\n",
       "      <th>Name</th>\n",
       "    </tr>\n",
       "  </thead>\n",
       "  <tbody>\n",
       "    <tr>\n",
       "      <th>0</th>\n",
       "      <td>-1</td>\n",
       "      <td>3769</td>\n",
       "      <td>-1_business development_software development_project management_software engineer</td>\n",
       "    </tr>\n",
       "    <tr>\n",
       "      <th>1</th>\n",
       "      <td>0</td>\n",
       "      <td>417</td>\n",
       "      <td>0_sale representative_inside sale_sale executive_sale manager</td>\n",
       "    </tr>\n",
       "    <tr>\n",
       "      <th>2</th>\n",
       "      <td>1</td>\n",
       "      <td>253</td>\n",
       "      <td>1_employee also_account executive_service provider_value employee</td>\n",
       "    </tr>\n",
       "    <tr>\n",
       "      <th>3</th>\n",
       "      <td>2</td>\n",
       "      <td>250</td>\n",
       "      <td>2_old cash_ipads touch_cash register_touch screen</td>\n",
       "    </tr>\n",
       "    <tr>\n",
       "      <th>4</th>\n",
       "      <td>3</td>\n",
       "      <td>243</td>\n",
       "      <td>3_patient care_physical therapist_clinic assistant_patient resident</td>\n",
       "    </tr>\n",
       "    <tr>\n",
       "      <th>5</th>\n",
       "      <td>4</td>\n",
       "      <td>230</td>\n",
       "      <td>4_working capital_tidewater finance_international money_money transfer</td>\n",
       "    </tr>\n",
       "    <tr>\n",
       "      <th>6</th>\n",
       "      <td>5</td>\n",
       "      <td>225</td>\n",
       "      <td>5_hiring manager_management training_employee relation_training compensation</td>\n",
       "    </tr>\n",
       "    <tr>\n",
       "      <th>7</th>\n",
       "      <td>6</td>\n",
       "      <td>221</td>\n",
       "      <td>6_test plan_test case_test automation_automated test</td>\n",
       "    </tr>\n",
       "    <tr>\n",
       "      <th>8</th>\n",
       "      <td>7</td>\n",
       "      <td>220</td>\n",
       "      <td>7_graphic designer_graphic design_visual design_web designer</td>\n",
       "    </tr>\n",
       "    <tr>\n",
       "      <th>9</th>\n",
       "      <td>8</td>\n",
       "      <td>205</td>\n",
       "      <td>8_java developer_java ee_senior java_java web</td>\n",
       "    </tr>\n",
       "    <tr>\n",
       "      <th>10</th>\n",
       "      <td>9</td>\n",
       "      <td>196</td>\n",
       "      <td>9_big data_data scientist_qubit cutting_machine learning</td>\n",
       "    </tr>\n",
       "    <tr>\n",
       "      <th>11</th>\n",
       "      <td>10</td>\n",
       "      <td>191</td>\n",
       "      <td>10_php developer_devops engineer_content management_web service</td>\n",
       "    </tr>\n",
       "    <tr>\n",
       "      <th>12</th>\n",
       "      <td>11</td>\n",
       "      <td>190</td>\n",
       "      <td>11_marketing manager_marketing campaign_marketing strategy_marketing program</td>\n",
       "    </tr>\n",
       "    <tr>\n",
       "      <th>13</th>\n",
       "      <td>12</td>\n",
       "      <td>185</td>\n",
       "      <td>12_mso para_font family_mso style_size mso</td>\n",
       "    </tr>\n",
       "    <tr>\n",
       "      <th>14</th>\n",
       "      <td>13</td>\n",
       "      <td>184</td>\n",
       "      <td>13_government funding_business admin_kept permanent_start career</td>\n",
       "    </tr>\n",
       "    <tr>\n",
       "      <th>15</th>\n",
       "      <td>14</td>\n",
       "      <td>180</td>\n",
       "      <td>14_network security_system administrator_security engineer_network administrator</td>\n",
       "    </tr>\n",
       "    <tr>\n",
       "      <th>16</th>\n",
       "      <td>15</td>\n",
       "      <td>178</td>\n",
       "      <td>15_web developer_end developer_cs javascript_web development</td>\n",
       "    </tr>\n",
       "    <tr>\n",
       "      <th>17</th>\n",
       "      <td>16</td>\n",
       "      <td>174</td>\n",
       "      <td>16_visual bi_sap bi_sap bw_software developer</td>\n",
       "    </tr>\n",
       "    <tr>\n",
       "      <th>18</th>\n",
       "      <td>17</td>\n",
       "      <td>173</td>\n",
       "      <td>17_charter school_instructional staff_career community_school leadership</td>\n",
       "    </tr>\n",
       "    <tr>\n",
       "      <th>19</th>\n",
       "      <td>18</td>\n",
       "      <td>168</td>\n",
       "      <td>18_project manager_project management_project plan_project team</td>\n",
       "    </tr>\n",
       "    <tr>\n",
       "      <th>20</th>\n",
       "      <td>19</td>\n",
       "      <td>166</td>\n",
       "      <td>19_candidate integral_part talented_talented supporting_continued growth</td>\n",
       "    </tr>\n",
       "    <tr>\n",
       "      <th>21</th>\n",
       "      <td>20</td>\n",
       "      <td>165</td>\n",
       "      <td>20_meet employer_employer attendance_growth responsibility_talented supporting</td>\n",
       "    </tr>\n",
       "    <tr>\n",
       "      <th>22</th>\n",
       "      <td>21</td>\n",
       "      <td>161</td>\n",
       "      <td>21_beauty promotional_beauty fragrance_achieve goal_fragrance enthusiastic</td>\n",
       "    </tr>\n",
       "    <tr>\n",
       "      <th>23</th>\n",
       "      <td>22</td>\n",
       "      <td>157</td>\n",
       "      <td>22_sql server_data warehouse_database design_database development</td>\n",
       "    </tr>\n",
       "    <tr>\n",
       "      <th>24</th>\n",
       "      <td>23</td>\n",
       "      <td>155</td>\n",
       "      <td>23_social medium_medium marketing_community manager_medium manager</td>\n",
       "    </tr>\n",
       "    <tr>\n",
       "      <th>25</th>\n",
       "      <td>24</td>\n",
       "      <td>154</td>\n",
       "      <td>24_office manager_executive assistant_administrative assistant_office administrator</td>\n",
       "    </tr>\n",
       "    <tr>\n",
       "      <th>26</th>\n",
       "      <td>25</td>\n",
       "      <td>147</td>\n",
       "      <td>25_international broadcaster_broadcaster shall_producer shall_target language</td>\n",
       "    </tr>\n",
       "    <tr>\n",
       "      <th>27</th>\n",
       "      <td>26</td>\n",
       "      <td>143</td>\n",
       "      <td>26_website search_main website_free search_search job</td>\n",
       "    </tr>\n",
       "    <tr>\n",
       "      <th>28</th>\n",
       "      <td>27</td>\n",
       "      <td>135</td>\n",
       "      <td>27_delivery manager_employee concern_proficiency environment_resolve employee</td>\n",
       "    </tr>\n",
       "    <tr>\n",
       "      <th>29</th>\n",
       "      <td>28</td>\n",
       "      <td>135</td>\n",
       "      <td>28_delivery driver_supply chain_driver position_delivery delivery</td>\n",
       "    </tr>\n",
       "    <tr>\n",
       "      <th>30</th>\n",
       "      <td>29</td>\n",
       "      <td>128</td>\n",
       "      <td>29_financial statement_degree accounting_financial reporting_chief financial</td>\n",
       "    </tr>\n",
       "    <tr>\n",
       "      <th>31</th>\n",
       "      <td>30</td>\n",
       "      <td>123</td>\n",
       "      <td>30_skype interview_phone skype_attend interview_oil gas</td>\n",
       "    </tr>\n",
       "    <tr>\n",
       "      <th>32</th>\n",
       "      <td>31</td>\n",
       "      <td>119</td>\n",
       "      <td>31_patient handling_lift coach_perform essential_essential job</td>\n",
       "    </tr>\n",
       "    <tr>\n",
       "      <th>33</th>\n",
       "      <td>32</td>\n",
       "      <td>115</td>\n",
       "      <td>32_policy procedure_essential job_safety policy_responsible know</td>\n",
       "    </tr>\n",
       "    <tr>\n",
       "      <th>34</th>\n",
       "      <td>33</td>\n",
       "      <td>115</td>\n",
       "      <td>33_quality control_control system_flight control_manufacturing engineer</td>\n",
       "    </tr>\n",
       "    <tr>\n",
       "      <th>35</th>\n",
       "      <td>34</td>\n",
       "      <td>113</td>\n",
       "      <td>34_yeast corporation_lesaffre yeast_yeast manufacturing_leader yeast</td>\n",
       "    </tr>\n",
       "    <tr>\n",
       "      <th>36</th>\n",
       "      <td>35</td>\n",
       "      <td>104</td>\n",
       "      <td>35_hayes corp_asurea agent_agency corporation_use invision</td>\n",
       "    </tr>\n",
       "    <tr>\n",
       "      <th>37</th>\n",
       "      <td>36</td>\n",
       "      <td>101</td>\n",
       "      <td>36_android developer_android development_android application_android engineer</td>\n",
       "    </tr>\n",
       "    <tr>\n",
       "      <th>38</th>\n",
       "      <td>37</td>\n",
       "      <td>94</td>\n",
       "      <td>37_scrum master_freelance translator_dialogue example_future learning</td>\n",
       "    </tr>\n",
       "    <tr>\n",
       "      <th>39</th>\n",
       "      <td>38</td>\n",
       "      <td>93</td>\n",
       "      <td>38_home care_social care_quality care_care home</td>\n",
       "    </tr>\n",
       "    <tr>\n",
       "      <th>40</th>\n",
       "      <td>39</td>\n",
       "      <td>91</td>\n",
       "      <td>39_account manager_account management_client business_client management</td>\n",
       "    </tr>\n",
       "    <tr>\n",
       "      <th>41</th>\n",
       "      <td>40</td>\n",
       "      <td>87</td>\n",
       "      <td>40_ruby rail_rail developer_web engineer_ruby developer</td>\n",
       "    </tr>\n",
       "    <tr>\n",
       "      <th>42</th>\n",
       "      <td>41</td>\n",
       "      <td>87</td>\n",
       "      <td>41_developmental disability_cerebral palsy_united cerebral_lifting test</td>\n",
       "    </tr>\n",
       "    <tr>\n",
       "      <th>43</th>\n",
       "      <td>42</td>\n",
       "      <td>84</td>\n",
       "      <td>42_self ticketing_berlin barcelona_london amsterdam_antwerp berlin</td>\n",
       "    </tr>\n",
       "    <tr>\n",
       "      <th>44</th>\n",
       "      <td>43</td>\n",
       "      <td>83</td>\n",
       "      <td>43_network physician_device pharmaceutical_medical device_valid driver</td>\n",
       "    </tr>\n",
       "    <tr>\n",
       "      <th>45</th>\n",
       "      <td>44</td>\n",
       "      <td>81</td>\n",
       "      <td>44_data integration_data solution_process server_building data</td>\n",
       "    </tr>\n",
       "    <tr>\n",
       "      <th>46</th>\n",
       "      <td>45</td>\n",
       "      <td>81</td>\n",
       "      <td>45_io developer_io apps_io mobile_io application</td>\n",
       "    </tr>\n",
       "    <tr>\n",
       "      <th>47</th>\n",
       "      <td>46</td>\n",
       "      <td>80</td>\n",
       "      <td>46_shyp hero_small team_game designer_best game</td>\n",
       "    </tr>\n",
       "    <tr>\n",
       "      <th>48</th>\n",
       "      <td>47</td>\n",
       "      <td>79</td>\n",
       "      <td>47_closing service_network closing_closing document_title insurance</td>\n",
       "    </tr>\n",
       "    <tr>\n",
       "      <th>49</th>\n",
       "      <td>48</td>\n",
       "      <td>77</td>\n",
       "      <td>48_tidewater finance_beach va_virginia beach_finance located</td>\n",
       "    </tr>\n",
       "    <tr>\n",
       "      <th>50</th>\n",
       "      <td>49</td>\n",
       "      <td>76</td>\n",
       "      <td>49_home improvement_home enhancement_appointment setter_telecommute position</td>\n",
       "    </tr>\n",
       "  </tbody>\n",
       "</table>\n",
       "</div>"
      ],
      "text/plain": [
       "    Topic  Count  \\\n",
       "0      -1   3769   \n",
       "1       0    417   \n",
       "2       1    253   \n",
       "3       2    250   \n",
       "4       3    243   \n",
       "5       4    230   \n",
       "6       5    225   \n",
       "7       6    221   \n",
       "8       7    220   \n",
       "9       8    205   \n",
       "10      9    196   \n",
       "11     10    191   \n",
       "12     11    190   \n",
       "13     12    185   \n",
       "14     13    184   \n",
       "15     14    180   \n",
       "16     15    178   \n",
       "17     16    174   \n",
       "18     17    173   \n",
       "19     18    168   \n",
       "20     19    166   \n",
       "21     20    165   \n",
       "22     21    161   \n",
       "23     22    157   \n",
       "24     23    155   \n",
       "25     24    154   \n",
       "26     25    147   \n",
       "27     26    143   \n",
       "28     27    135   \n",
       "29     28    135   \n",
       "30     29    128   \n",
       "31     30    123   \n",
       "32     31    119   \n",
       "33     32    115   \n",
       "34     33    115   \n",
       "35     34    113   \n",
       "36     35    104   \n",
       "37     36    101   \n",
       "38     37     94   \n",
       "39     38     93   \n",
       "40     39     91   \n",
       "41     40     87   \n",
       "42     41     87   \n",
       "43     42     84   \n",
       "44     43     83   \n",
       "45     44     81   \n",
       "46     45     81   \n",
       "47     46     80   \n",
       "48     47     79   \n",
       "49     48     77   \n",
       "50     49     76   \n",
       "\n",
       "                                                                                   Name  \n",
       "0     -1_business development_software development_project management_software engineer  \n",
       "1                         0_sale representative_inside sale_sale executive_sale manager  \n",
       "2                     1_employee also_account executive_service provider_value employee  \n",
       "3                                     2_old cash_ipads touch_cash register_touch screen  \n",
       "4                   3_patient care_physical therapist_clinic assistant_patient resident  \n",
       "5                4_working capital_tidewater finance_international money_money transfer  \n",
       "6          5_hiring manager_management training_employee relation_training compensation  \n",
       "7                                  6_test plan_test case_test automation_automated test  \n",
       "8                          7_graphic designer_graphic design_visual design_web designer  \n",
       "9                                         8_java developer_java ee_senior java_java web  \n",
       "10                             9_big data_data scientist_qubit cutting_machine learning  \n",
       "11                      10_php developer_devops engineer_content management_web service  \n",
       "12         11_marketing manager_marketing campaign_marketing strategy_marketing program  \n",
       "13                                           12_mso para_font family_mso style_size mso  \n",
       "14                     13_government funding_business admin_kept permanent_start career  \n",
       "15     14_network security_system administrator_security engineer_network administrator  \n",
       "16                         15_web developer_end developer_cs javascript_web development  \n",
       "17                                        16_visual bi_sap bi_sap bw_software developer  \n",
       "18             17_charter school_instructional staff_career community_school leadership  \n",
       "19                      18_project manager_project management_project plan_project team  \n",
       "20             19_candidate integral_part talented_talented supporting_continued growth  \n",
       "21       20_meet employer_employer attendance_growth responsibility_talented supporting  \n",
       "22           21_beauty promotional_beauty fragrance_achieve goal_fragrance enthusiastic  \n",
       "23                    22_sql server_data warehouse_database design_database development  \n",
       "24                   23_social medium_medium marketing_community manager_medium manager  \n",
       "25  24_office manager_executive assistant_administrative assistant_office administrator  \n",
       "26        25_international broadcaster_broadcaster shall_producer shall_target language  \n",
       "27                                26_website search_main website_free search_search job  \n",
       "28        27_delivery manager_employee concern_proficiency environment_resolve employee  \n",
       "29                    28_delivery driver_supply chain_driver position_delivery delivery  \n",
       "30         29_financial statement_degree accounting_financial reporting_chief financial  \n",
       "31                              30_skype interview_phone skype_attend interview_oil gas  \n",
       "32                       31_patient handling_lift coach_perform essential_essential job  \n",
       "33                     32_policy procedure_essential job_safety policy_responsible know  \n",
       "34              33_quality control_control system_flight control_manufacturing engineer  \n",
       "35                 34_yeast corporation_lesaffre yeast_yeast manufacturing_leader yeast  \n",
       "36                           35_hayes corp_asurea agent_agency corporation_use invision  \n",
       "37        36_android developer_android development_android application_android engineer  \n",
       "38                37_scrum master_freelance translator_dialogue example_future learning  \n",
       "39                                      38_home care_social care_quality care_care home  \n",
       "40              39_account manager_account management_client business_client management  \n",
       "41                              40_ruby rail_rail developer_web engineer_ruby developer  \n",
       "42              41_developmental disability_cerebral palsy_united cerebral_lifting test  \n",
       "43                   42_self ticketing_berlin barcelona_london amsterdam_antwerp berlin  \n",
       "44               43_network physician_device pharmaceutical_medical device_valid driver  \n",
       "45                       44_data integration_data solution_process server_building data  \n",
       "46                                     45_io developer_io apps_io mobile_io application  \n",
       "47                                      46_shyp hero_small team_game designer_best game  \n",
       "48                  47_closing service_network closing_closing document_title insurance  \n",
       "49                         48_tidewater finance_beach va_virginia beach_finance located  \n",
       "50         49_home improvement_home enhancement_appointment setter_telecommute position  "
      ]
     },
     "execution_count": 27,
     "metadata": {},
     "output_type": "execute_result"
    }
   ],
   "source": [
    "# display the reclassified 50 topics and frequency\n",
    "topic_model.get_topic_info()"
   ]
  },
  {
   "cell_type": "markdown",
   "id": "cp6w_G6FBwVd",
   "metadata": {
    "id": "cp6w_G6FBwVd"
   },
   "source": [
    "**Observation**: After reducing the topics, they are more generic and intuitive as compared to the original 204 topics."
   ]
  },
  {
   "cell_type": "markdown",
   "id": "FidVzYgcyzyh",
   "metadata": {
    "id": "FidVzYgcyzyh"
   },
   "source": [
    "### Identifying Similar Topics\n",
    "After having trained our model, we can use find_topics to search for topics that are similar to an input search_term. "
   ]
  },
  {
   "cell_type": "code",
   "execution_count": 28,
   "id": "5gDXlnHVxR7q",
   "metadata": {
    "colab": {
     "base_uri": "https://localhost:8080/"
    },
    "id": "5gDXlnHVxR7q",
    "outputId": "28c3da26-17f8-4bf0-e5b4-134fb0e6598a"
   },
   "outputs": [
    {
     "data": {
      "text/plain": [
       "[44, 9, 22, 18, 6]"
      ]
     },
     "execution_count": 28,
     "metadata": {},
     "output_type": "execute_result"
    }
   ],
   "source": [
    "# search for topics that are closely related to 'data science' and check the results\n",
    "similar_topics, similarity = topic_model.find_topics(\"data science\", top_n = 5); \n",
    "similar_topics"
   ]
  },
  {
   "cell_type": "code",
   "execution_count": 32,
   "id": "a3MlP2eYzBRK",
   "metadata": {
    "colab": {
     "base_uri": "https://localhost:8080/"
    },
    "id": "a3MlP2eYzBRK",
    "outputId": "20dd1c56-e74a-46bd-cfc9-0c8882e65f6e"
   },
   "outputs": [
    {
     "data": {
      "text/plain": [
       "[('data integration', 0.021542134270185986),\n",
       " ('data solution', 0.016013178223398507),\n",
       " ('process server', 0.010507105751059533),\n",
       " ('building data', 0.009959375219183626),\n",
       " ('data visualization', 0.009639605324536758),\n",
       " ('business process', 0.009334507567075235),\n",
       " ('project team', 0.007658501554167974),\n",
       " ('solution client', 0.007473318249605507),\n",
       " ('data usability', 0.007117026816030808),\n",
       " ('project management', 0.006246712052399304)]"
      ]
     },
     "execution_count": 32,
     "metadata": {},
     "output_type": "execute_result"
    }
   ],
   "source": [
    "# view topic44\n",
    "topic_model.get_topic(44)"
   ]
  },
  {
   "cell_type": "code",
   "execution_count": 33,
   "id": "k_ysBttHzBT9",
   "metadata": {
    "colab": {
     "base_uri": "https://localhost:8080/"
    },
    "id": "k_ysBttHzBT9",
    "outputId": "d2d29da5-26e9-4838-d6cd-a029ac8fccf8"
   },
   "outputs": [
    {
     "data": {
      "text/plain": [
       "[('big data', 0.020810860547717587),\n",
       " ('data scientist', 0.012443198366093453),\n",
       " ('qubit cutting', 0.010035408321542235),\n",
       " ('machine learning', 0.009120880274296788),\n",
       " ('data analyst', 0.00888640941500809),\n",
       " ('data engineeringqubit', 0.008468792974006403),\n",
       " ('understand qubit', 0.007668550761584072),\n",
       " ('qubit store', 0.007668550761584072),\n",
       " ('engineeringqubit looking', 0.004071528529447254),\n",
       " ('manager qubit', 0.0038881571197120213)]"
      ]
     },
     "execution_count": 33,
     "metadata": {},
     "output_type": "execute_result"
    }
   ],
   "source": [
    "# view topic9 to see if similar as topic44\n",
    "topic_model.get_topic(9)"
   ]
  },
  {
   "cell_type": "code",
   "execution_count": 34,
   "id": "INgHInvhzPgd",
   "metadata": {
    "colab": {
     "base_uri": "https://localhost:8080/"
    },
    "id": "INgHInvhzPgd",
    "outputId": "56e7f879-e66d-4f1e-fac6-8f127c2fc9f9"
   },
   "outputs": [
    {
     "data": {
      "text/plain": [
       "[('sql server', 0.025920481715442523),\n",
       " ('data warehouse', 0.012993522743012966),\n",
       " ('database design', 0.0069057689973876036),\n",
       " ('database development', 0.006745529932106903),\n",
       " ('sql developer', 0.006185490745762732),\n",
       " ('database performance', 0.005530038854880041),\n",
       " ('database administration', 0.005126602748401246),\n",
       " ('server database', 0.004857655983724162),\n",
       " ('data management', 0.004274220002474243),\n",
       " ('resolving database', 0.004200203319567925)]"
      ]
     },
     "execution_count": 34,
     "metadata": {},
     "output_type": "execute_result"
    }
   ],
   "source": [
    "# view topic22 to see if similar as topic44 and topic9\n",
    "topic_model.get_topic(22)"
   ]
  },
  {
   "cell_type": "markdown",
   "id": "wrJ8wYWvCD2t",
   "metadata": {
    "id": "wrJ8wYWvCD2t"
   },
   "source": [
    "**Observation**: Looking at the common words among Topic44, Topic9 and Topic22, it is evident that these topics are similar and related to data-science. Some examples of keywords include data integration, data visualisation, machine learning and sql servers which are all data-science related."
   ]
  },
  {
   "cell_type": "markdown",
   "id": "KLAMIIE7g5KO",
   "metadata": {
    "id": "KLAMIIE7g5KO"
   },
   "source": [
    "## Conclusions\n",
    "The Logistic Regression with TFIDF Vectorizer is able to accurately distinguish between the fraudulent (fake) and non-fraudulent (real) jobs, with a high ROC AUC score of 0.946 and recall score of 0.801. If we deploy this model to job portals, it will be able to correctly predict the fraudulent jobs 80% of the time and prevent fraudulent jobs from being published on job portals. With the reduction in fraudulent job listings, this largely reduced the risk of job-seekers falling prey to job scams. However, there is also a trade-off between recall and precision. The model has a high recall score (0.801) but a low precision score (0.429). This means that the model may predict more real job ads as fake resulting in genuine jobs not being able to be published on job portals, causing them to have a difficult time finding candidates to fill their positions. These employers can then choose to amend their job ads or use other channels to source for candidates such as via internal referrals.\n",
    "\n",
    "To take this project further, we could explore the following:\n",
    "- Getting updated jobs data in recent years (e.g. from 2019 when COVID-19 happened)\n",
    "- Getting additional data on fraudulent jobs as and when there are reports of such cases\n",
    "- Collect more features such as platform the job ad was posted on, and the nature of the job\n",
    "- Further fine-tune hyperparameters, understand context before removing stopwords \n",
    "- Try other oversampling techniques"
   ]
  },
  {
   "cell_type": "markdown",
   "id": "qcBk1e-_g3MZ",
   "metadata": {
    "id": "qcBk1e-_g3MZ"
   },
   "source": [
    "## Recommendations\n",
    "While we are able to train a classifier to aid in filtering fraudulent job ads from being published on job portals, job-seekers should also be cautious when applying for jobs. If a job posting does not come with a company logo or profile, job-seekers should do some research on the company and ask around or check for online reviews before applying. \n",
    "\n",
    "Based on the top features of the model and topic modelling, there seem to be many jobs on engineering or admin which are fraudulent. Job-seekers are advised to be wary of 'too-good-to-be-true' jobs. If the job is high paying and technical but has low requirements, job-seekers should pay extra attention as scrutinize the job ad further. \n",
    "\n",
    "Job-seekers should also look for jobs of their interest based on more specialised skills such as computing/programming instead of generic roles requiring basic skills like microsoft office. Even if the recruitment process may be more tedious, at least it puts job-seekers at a safer spot with lower risk of falling prey for job scams. \n",
    "\n",
    "As the classifier is not 100% accurate or robust, job-seekers or any users who come across suspicious job ads such as those requesting for sensitive information or payment should report these listings so that action can be taken against the original poster."
   ]
  },
  {
   "cell_type": "markdown",
   "id": "d_l1dpYH1VMq",
   "metadata": {
    "id": "d_l1dpYH1VMq"
   },
   "source": [
    "## References\n",
    "1. http://emscad.samos.aegean.gr/ \n",
    "2. https://www.american.edu/careercenter/fraudulentjobs.cfm \n",
    "3. https://www.flexjobs.com/blog/post/how-to-find-a-real-online-job-and-avoid-the-scams-v2/\n",
    "4. https://insights.omnia-health.com/hospital-management/employment-fraud-rates-increase-30-cent-during-pandemic\n",
    "5. https://www.analyticsvidhya.com/blog/2020/07/10-techniques-to-deal-with-class-imbalance-in-machine-learning/\n",
    "6. https://colab.research.google.com/drive/1FieRA9fLdkQEGDIMYl0I3MCjSUKVF8C-?usp=sharing#scrollTo=9antKpdC91A-"
   ]
  }
 ],
 "metadata": {
  "colab": {
   "name": "03_Topic Modelling.ipynb",
   "provenance": [],
   "toc_visible": true
  },
  "kernelspec": {
   "display_name": "Python 3 (ipykernel)",
   "language": "python",
   "name": "python3"
  },
  "language_info": {
   "codemirror_mode": {
    "name": "ipython",
    "version": 3
   },
   "file_extension": ".py",
   "mimetype": "text/x-python",
   "name": "python",
   "nbconvert_exporter": "python",
   "pygments_lexer": "ipython3",
   "version": "3.9.6"
  },
  "widgets": {
   "application/vnd.jupyter.widget-state+json": {
    "0a7c835fc81c4d1998651c8866a78fa8": {
     "model_module": "@jupyter-widgets/controls",
     "model_module_version": "1.5.0",
     "model_name": "DescriptionStyleModel",
     "state": {
      "_model_module": "@jupyter-widgets/controls",
      "_model_module_version": "1.5.0",
      "_model_name": "DescriptionStyleModel",
      "_view_count": null,
      "_view_module": "@jupyter-widgets/base",
      "_view_module_version": "1.2.0",
      "_view_name": "StyleView",
      "description_width": ""
     }
    },
    "0b5ab697cf484d5882e16e94491af16f": {
     "model_module": "@jupyter-widgets/base",
     "model_module_version": "1.2.0",
     "model_name": "LayoutModel",
     "state": {
      "_model_module": "@jupyter-widgets/base",
      "_model_module_version": "1.2.0",
      "_model_name": "LayoutModel",
      "_view_count": null,
      "_view_module": "@jupyter-widgets/base",
      "_view_module_version": "1.2.0",
      "_view_name": "LayoutView",
      "align_content": null,
      "align_items": null,
      "align_self": null,
      "border": null,
      "bottom": null,
      "display": null,
      "flex": null,
      "flex_flow": null,
      "grid_area": null,
      "grid_auto_columns": null,
      "grid_auto_flow": null,
      "grid_auto_rows": null,
      "grid_column": null,
      "grid_gap": null,
      "grid_row": null,
      "grid_template_areas": null,
      "grid_template_columns": null,
      "grid_template_rows": null,
      "height": null,
      "justify_content": null,
      "justify_items": null,
      "left": null,
      "margin": null,
      "max_height": null,
      "max_width": null,
      "min_height": null,
      "min_width": null,
      "object_fit": null,
      "object_position": null,
      "order": null,
      "overflow": null,
      "overflow_x": null,
      "overflow_y": null,
      "padding": null,
      "right": null,
      "top": null,
      "visibility": null,
      "width": null
     }
    },
    "0d9e405709f44ddbbf062218874b4586": {
     "model_module": "@jupyter-widgets/controls",
     "model_module_version": "1.5.0",
     "model_name": "FloatProgressModel",
     "state": {
      "_dom_classes": [],
      "_model_module": "@jupyter-widgets/controls",
      "_model_module_version": "1.5.0",
      "_model_name": "FloatProgressModel",
      "_view_count": null,
      "_view_module": "@jupyter-widgets/controls",
      "_view_module_version": "1.5.0",
      "_view_name": "ProgressView",
      "bar_style": "success",
      "description": "",
      "description_tooltip": null,
      "layout": "IPY_MODEL_cc42a21a091046e5bfb30ed184589c29",
      "max": 16,
      "min": 0,
      "orientation": "horizontal",
      "style": "IPY_MODEL_3de0583dece24b6d83f922b96b1a03e9",
      "value": 16
     }
    },
    "17e3c8177bcc421682f8cc186ba12942": {
     "model_module": "@jupyter-widgets/base",
     "model_module_version": "1.2.0",
     "model_name": "LayoutModel",
     "state": {
      "_model_module": "@jupyter-widgets/base",
      "_model_module_version": "1.2.0",
      "_model_name": "LayoutModel",
      "_view_count": null,
      "_view_module": "@jupyter-widgets/base",
      "_view_module_version": "1.2.0",
      "_view_name": "LayoutView",
      "align_content": null,
      "align_items": null,
      "align_self": null,
      "border": null,
      "bottom": null,
      "display": null,
      "flex": null,
      "flex_flow": null,
      "grid_area": null,
      "grid_auto_columns": null,
      "grid_auto_flow": null,
      "grid_auto_rows": null,
      "grid_column": null,
      "grid_gap": null,
      "grid_row": null,
      "grid_template_areas": null,
      "grid_template_columns": null,
      "grid_template_rows": null,
      "height": null,
      "justify_content": null,
      "justify_items": null,
      "left": null,
      "margin": null,
      "max_height": null,
      "max_width": null,
      "min_height": null,
      "min_width": null,
      "object_fit": null,
      "object_position": null,
      "order": null,
      "overflow": null,
      "overflow_x": null,
      "overflow_y": null,
      "padding": null,
      "right": null,
      "top": null,
      "visibility": null,
      "width": null
     }
    },
    "18fb2ab018014229b355c7060688af35": {
     "model_module": "@jupyter-widgets/controls",
     "model_module_version": "1.5.0",
     "model_name": "HTMLModel",
     "state": {
      "_dom_classes": [],
      "_model_module": "@jupyter-widgets/controls",
      "_model_module_version": "1.5.0",
      "_model_name": "HTMLModel",
      "_view_count": null,
      "_view_module": "@jupyter-widgets/controls",
      "_view_module_version": "1.5.0",
      "_view_name": "HTMLView",
      "description": "",
      "description_tooltip": null,
      "layout": "IPY_MODEL_0b5ab697cf484d5882e16e94491af16f",
      "placeholder": "​",
      "style": "IPY_MODEL_a38947f7b24244a18ae5538653e98030",
      "value": "Batches: 100%"
     }
    },
    "23424046b43440e5a6b5b69ba23bcb96": {
     "model_module": "@jupyter-widgets/base",
     "model_module_version": "1.2.0",
     "model_name": "LayoutModel",
     "state": {
      "_model_module": "@jupyter-widgets/base",
      "_model_module_version": "1.2.0",
      "_model_name": "LayoutModel",
      "_view_count": null,
      "_view_module": "@jupyter-widgets/base",
      "_view_module_version": "1.2.0",
      "_view_name": "LayoutView",
      "align_content": null,
      "align_items": null,
      "align_self": null,
      "border": null,
      "bottom": null,
      "display": null,
      "flex": null,
      "flex_flow": null,
      "grid_area": null,
      "grid_auto_columns": null,
      "grid_auto_flow": null,
      "grid_auto_rows": null,
      "grid_column": null,
      "grid_gap": null,
      "grid_row": null,
      "grid_template_areas": null,
      "grid_template_columns": null,
      "grid_template_rows": null,
      "height": null,
      "justify_content": null,
      "justify_items": null,
      "left": null,
      "margin": null,
      "max_height": null,
      "max_width": null,
      "min_height": null,
      "min_width": null,
      "object_fit": null,
      "object_position": null,
      "order": null,
      "overflow": null,
      "overflow_x": null,
      "overflow_y": null,
      "padding": null,
      "right": null,
      "top": null,
      "visibility": null,
      "width": null
     }
    },
    "3de0583dece24b6d83f922b96b1a03e9": {
     "model_module": "@jupyter-widgets/controls",
     "model_module_version": "1.5.0",
     "model_name": "ProgressStyleModel",
     "state": {
      "_model_module": "@jupyter-widgets/controls",
      "_model_module_version": "1.5.0",
      "_model_name": "ProgressStyleModel",
      "_view_count": null,
      "_view_module": "@jupyter-widgets/base",
      "_view_module_version": "1.2.0",
      "_view_name": "StyleView",
      "bar_color": null,
      "description_width": ""
     }
    },
    "43fc66376380466bbe7dc11adaefa1ca": {
     "model_module": "@jupyter-widgets/controls",
     "model_module_version": "1.5.0",
     "model_name": "HTMLModel",
     "state": {
      "_dom_classes": [],
      "_model_module": "@jupyter-widgets/controls",
      "_model_module_version": "1.5.0",
      "_model_name": "HTMLModel",
      "_view_count": null,
      "_view_module": "@jupyter-widgets/controls",
      "_view_module_version": "1.5.0",
      "_view_name": "HTMLView",
      "description": "",
      "description_tooltip": null,
      "layout": "IPY_MODEL_ecea0d0586444386bd8f2766de930c81",
      "placeholder": "​",
      "style": "IPY_MODEL_82988953031b4b57bf785011a22c5013",
      "value": " 16/16 [00:26&lt;00:00,  1.29s/it]"
     }
    },
    "7a1f75603153455086af0207059e64a6": {
     "model_module": "@jupyter-widgets/controls",
     "model_module_version": "1.5.0",
     "model_name": "ProgressStyleModel",
     "state": {
      "_model_module": "@jupyter-widgets/controls",
      "_model_module_version": "1.5.0",
      "_model_name": "ProgressStyleModel",
      "_view_count": null,
      "_view_module": "@jupyter-widgets/base",
      "_view_module_version": "1.2.0",
      "_view_name": "StyleView",
      "bar_color": null,
      "description_width": ""
     }
    },
    "82829459bd07487981f71c7e43109087": {
     "model_module": "@jupyter-widgets/controls",
     "model_module_version": "1.5.0",
     "model_name": "HTMLModel",
     "state": {
      "_dom_classes": [],
      "_model_module": "@jupyter-widgets/controls",
      "_model_module_version": "1.5.0",
      "_model_name": "HTMLModel",
      "_view_count": null,
      "_view_module": "@jupyter-widgets/controls",
      "_view_module_version": "1.5.0",
      "_view_name": "HTMLView",
      "description": "",
      "description_tooltip": null,
      "layout": "IPY_MODEL_fbd950feba304872b8da8b3978d8a954",
      "placeholder": "​",
      "style": "IPY_MODEL_0a7c835fc81c4d1998651c8866a78fa8",
      "value": "Batches: 100%"
     }
    },
    "82988953031b4b57bf785011a22c5013": {
     "model_module": "@jupyter-widgets/controls",
     "model_module_version": "1.5.0",
     "model_name": "DescriptionStyleModel",
     "state": {
      "_model_module": "@jupyter-widgets/controls",
      "_model_module_version": "1.5.0",
      "_model_name": "DescriptionStyleModel",
      "_view_count": null,
      "_view_module": "@jupyter-widgets/base",
      "_view_module_version": "1.2.0",
      "_view_name": "StyleView",
      "description_width": ""
     }
    },
    "9c21682dc4c542c2b1d3e9ee3ebf7234": {
     "model_module": "@jupyter-widgets/controls",
     "model_module_version": "1.5.0",
     "model_name": "HBoxModel",
     "state": {
      "_dom_classes": [],
      "_model_module": "@jupyter-widgets/controls",
      "_model_module_version": "1.5.0",
      "_model_name": "HBoxModel",
      "_view_count": null,
      "_view_module": "@jupyter-widgets/controls",
      "_view_module_version": "1.5.0",
      "_view_name": "HBoxView",
      "box_style": "",
      "children": [
       "IPY_MODEL_82829459bd07487981f71c7e43109087",
       "IPY_MODEL_0d9e405709f44ddbbf062218874b4586",
       "IPY_MODEL_43fc66376380466bbe7dc11adaefa1ca"
      ],
      "layout": "IPY_MODEL_23424046b43440e5a6b5b69ba23bcb96"
     }
    },
    "a38947f7b24244a18ae5538653e98030": {
     "model_module": "@jupyter-widgets/controls",
     "model_module_version": "1.5.0",
     "model_name": "DescriptionStyleModel",
     "state": {
      "_model_module": "@jupyter-widgets/controls",
      "_model_module_version": "1.5.0",
      "_model_name": "DescriptionStyleModel",
      "_view_count": null,
      "_view_module": "@jupyter-widgets/base",
      "_view_module_version": "1.2.0",
      "_view_name": "StyleView",
      "description_width": ""
     }
    },
    "a8a9c4e278f249d1b6988fc6f2cb3e3a": {
     "model_module": "@jupyter-widgets/controls",
     "model_module_version": "1.5.0",
     "model_name": "DescriptionStyleModel",
     "state": {
      "_model_module": "@jupyter-widgets/controls",
      "_model_module_version": "1.5.0",
      "_model_name": "DescriptionStyleModel",
      "_view_count": null,
      "_view_module": "@jupyter-widgets/base",
      "_view_module_version": "1.2.0",
      "_view_name": "StyleView",
      "description_width": ""
     }
    },
    "bfa710da1f3045c1a07c2c7f1f5d4aef": {
     "model_module": "@jupyter-widgets/controls",
     "model_module_version": "1.5.0",
     "model_name": "HTMLModel",
     "state": {
      "_dom_classes": [],
      "_model_module": "@jupyter-widgets/controls",
      "_model_module_version": "1.5.0",
      "_model_name": "HTMLModel",
      "_view_count": null,
      "_view_module": "@jupyter-widgets/controls",
      "_view_module_version": "1.5.0",
      "_view_name": "HTMLView",
      "description": "",
      "description_tooltip": null,
      "layout": "IPY_MODEL_d1d881f85fa84a5da9869b40ae11e18f",
      "placeholder": "​",
      "style": "IPY_MODEL_a8a9c4e278f249d1b6988fc6f2cb3e3a",
      "value": " 356/356 [10:11&lt;00:00,  1.84it/s]"
     }
    },
    "c63653c8447345598ed813e9584277f8": {
     "model_module": "@jupyter-widgets/base",
     "model_module_version": "1.2.0",
     "model_name": "LayoutModel",
     "state": {
      "_model_module": "@jupyter-widgets/base",
      "_model_module_version": "1.2.0",
      "_model_name": "LayoutModel",
      "_view_count": null,
      "_view_module": "@jupyter-widgets/base",
      "_view_module_version": "1.2.0",
      "_view_name": "LayoutView",
      "align_content": null,
      "align_items": null,
      "align_self": null,
      "border": null,
      "bottom": null,
      "display": null,
      "flex": null,
      "flex_flow": null,
      "grid_area": null,
      "grid_auto_columns": null,
      "grid_auto_flow": null,
      "grid_auto_rows": null,
      "grid_column": null,
      "grid_gap": null,
      "grid_row": null,
      "grid_template_areas": null,
      "grid_template_columns": null,
      "grid_template_rows": null,
      "height": null,
      "justify_content": null,
      "justify_items": null,
      "left": null,
      "margin": null,
      "max_height": null,
      "max_width": null,
      "min_height": null,
      "min_width": null,
      "object_fit": null,
      "object_position": null,
      "order": null,
      "overflow": null,
      "overflow_x": null,
      "overflow_y": null,
      "padding": null,
      "right": null,
      "top": null,
      "visibility": null,
      "width": null
     }
    },
    "cc42a21a091046e5bfb30ed184589c29": {
     "model_module": "@jupyter-widgets/base",
     "model_module_version": "1.2.0",
     "model_name": "LayoutModel",
     "state": {
      "_model_module": "@jupyter-widgets/base",
      "_model_module_version": "1.2.0",
      "_model_name": "LayoutModel",
      "_view_count": null,
      "_view_module": "@jupyter-widgets/base",
      "_view_module_version": "1.2.0",
      "_view_name": "LayoutView",
      "align_content": null,
      "align_items": null,
      "align_self": null,
      "border": null,
      "bottom": null,
      "display": null,
      "flex": null,
      "flex_flow": null,
      "grid_area": null,
      "grid_auto_columns": null,
      "grid_auto_flow": null,
      "grid_auto_rows": null,
      "grid_column": null,
      "grid_gap": null,
      "grid_row": null,
      "grid_template_areas": null,
      "grid_template_columns": null,
      "grid_template_rows": null,
      "height": null,
      "justify_content": null,
      "justify_items": null,
      "left": null,
      "margin": null,
      "max_height": null,
      "max_width": null,
      "min_height": null,
      "min_width": null,
      "object_fit": null,
      "object_position": null,
      "order": null,
      "overflow": null,
      "overflow_x": null,
      "overflow_y": null,
      "padding": null,
      "right": null,
      "top": null,
      "visibility": null,
      "width": null
     }
    },
    "d1d881f85fa84a5da9869b40ae11e18f": {
     "model_module": "@jupyter-widgets/base",
     "model_module_version": "1.2.0",
     "model_name": "LayoutModel",
     "state": {
      "_model_module": "@jupyter-widgets/base",
      "_model_module_version": "1.2.0",
      "_model_name": "LayoutModel",
      "_view_count": null,
      "_view_module": "@jupyter-widgets/base",
      "_view_module_version": "1.2.0",
      "_view_name": "LayoutView",
      "align_content": null,
      "align_items": null,
      "align_self": null,
      "border": null,
      "bottom": null,
      "display": null,
      "flex": null,
      "flex_flow": null,
      "grid_area": null,
      "grid_auto_columns": null,
      "grid_auto_flow": null,
      "grid_auto_rows": null,
      "grid_column": null,
      "grid_gap": null,
      "grid_row": null,
      "grid_template_areas": null,
      "grid_template_columns": null,
      "grid_template_rows": null,
      "height": null,
      "justify_content": null,
      "justify_items": null,
      "left": null,
      "margin": null,
      "max_height": null,
      "max_width": null,
      "min_height": null,
      "min_width": null,
      "object_fit": null,
      "object_position": null,
      "order": null,
      "overflow": null,
      "overflow_x": null,
      "overflow_y": null,
      "padding": null,
      "right": null,
      "top": null,
      "visibility": null,
      "width": null
     }
    },
    "e709a4f588db4e79bce05631a05fbcf7": {
     "model_module": "@jupyter-widgets/controls",
     "model_module_version": "1.5.0",
     "model_name": "HBoxModel",
     "state": {
      "_dom_classes": [],
      "_model_module": "@jupyter-widgets/controls",
      "_model_module_version": "1.5.0",
      "_model_name": "HBoxModel",
      "_view_count": null,
      "_view_module": "@jupyter-widgets/controls",
      "_view_module_version": "1.5.0",
      "_view_name": "HBoxView",
      "box_style": "",
      "children": [
       "IPY_MODEL_18fb2ab018014229b355c7060688af35",
       "IPY_MODEL_e94f05b1abc6440aaff81d34293986db",
       "IPY_MODEL_bfa710da1f3045c1a07c2c7f1f5d4aef"
      ],
      "layout": "IPY_MODEL_c63653c8447345598ed813e9584277f8"
     }
    },
    "e94f05b1abc6440aaff81d34293986db": {
     "model_module": "@jupyter-widgets/controls",
     "model_module_version": "1.5.0",
     "model_name": "FloatProgressModel",
     "state": {
      "_dom_classes": [],
      "_model_module": "@jupyter-widgets/controls",
      "_model_module_version": "1.5.0",
      "_model_name": "FloatProgressModel",
      "_view_count": null,
      "_view_module": "@jupyter-widgets/controls",
      "_view_module_version": "1.5.0",
      "_view_name": "ProgressView",
      "bar_style": "success",
      "description": "",
      "description_tooltip": null,
      "layout": "IPY_MODEL_17e3c8177bcc421682f8cc186ba12942",
      "max": 356,
      "min": 0,
      "orientation": "horizontal",
      "style": "IPY_MODEL_7a1f75603153455086af0207059e64a6",
      "value": 356
     }
    },
    "ecea0d0586444386bd8f2766de930c81": {
     "model_module": "@jupyter-widgets/base",
     "model_module_version": "1.2.0",
     "model_name": "LayoutModel",
     "state": {
      "_model_module": "@jupyter-widgets/base",
      "_model_module_version": "1.2.0",
      "_model_name": "LayoutModel",
      "_view_count": null,
      "_view_module": "@jupyter-widgets/base",
      "_view_module_version": "1.2.0",
      "_view_name": "LayoutView",
      "align_content": null,
      "align_items": null,
      "align_self": null,
      "border": null,
      "bottom": null,
      "display": null,
      "flex": null,
      "flex_flow": null,
      "grid_area": null,
      "grid_auto_columns": null,
      "grid_auto_flow": null,
      "grid_auto_rows": null,
      "grid_column": null,
      "grid_gap": null,
      "grid_row": null,
      "grid_template_areas": null,
      "grid_template_columns": null,
      "grid_template_rows": null,
      "height": null,
      "justify_content": null,
      "justify_items": null,
      "left": null,
      "margin": null,
      "max_height": null,
      "max_width": null,
      "min_height": null,
      "min_width": null,
      "object_fit": null,
      "object_position": null,
      "order": null,
      "overflow": null,
      "overflow_x": null,
      "overflow_y": null,
      "padding": null,
      "right": null,
      "top": null,
      "visibility": null,
      "width": null
     }
    },
    "fbd950feba304872b8da8b3978d8a954": {
     "model_module": "@jupyter-widgets/base",
     "model_module_version": "1.2.0",
     "model_name": "LayoutModel",
     "state": {
      "_model_module": "@jupyter-widgets/base",
      "_model_module_version": "1.2.0",
      "_model_name": "LayoutModel",
      "_view_count": null,
      "_view_module": "@jupyter-widgets/base",
      "_view_module_version": "1.2.0",
      "_view_name": "LayoutView",
      "align_content": null,
      "align_items": null,
      "align_self": null,
      "border": null,
      "bottom": null,
      "display": null,
      "flex": null,
      "flex_flow": null,
      "grid_area": null,
      "grid_auto_columns": null,
      "grid_auto_flow": null,
      "grid_auto_rows": null,
      "grid_column": null,
      "grid_gap": null,
      "grid_row": null,
      "grid_template_areas": null,
      "grid_template_columns": null,
      "grid_template_rows": null,
      "height": null,
      "justify_content": null,
      "justify_items": null,
      "left": null,
      "margin": null,
      "max_height": null,
      "max_width": null,
      "min_height": null,
      "min_width": null,
      "object_fit": null,
      "object_position": null,
      "order": null,
      "overflow": null,
      "overflow_x": null,
      "overflow_y": null,
      "padding": null,
      "right": null,
      "top": null,
      "visibility": null,
      "width": null
     }
    }
   }
  }
 },
 "nbformat": 4,
 "nbformat_minor": 5
}
