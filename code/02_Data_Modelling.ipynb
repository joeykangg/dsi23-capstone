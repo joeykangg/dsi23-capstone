{
 "cells": [
  {
   "cell_type": "markdown",
   "id": "9b89eab2",
   "metadata": {},
   "source": [
    "<img src=\"http://imgur.com/1ZcRyrc.png\" style=\"float: left; margin: 20px; height: 55px\">\n",
    "\n",
    "# Capstone Project: Real or Fake Jobs"
   ]
  },
  {
   "cell_type": "markdown",
   "id": "d7d4e5cc",
   "metadata": {},
   "source": [
    "## Contents:\n",
    "### Part 2 (of 3)\n",
    "- Problem Statement\n",
    "- Background\n",
    "- Data Cleaning\n",
    "- Data Dictionary\n",
    "- Exploratory Data Analysis\n",
    "- [Data Modelling](#Data-Modelling)\n",
    "    - [Model Fitting & Evaluation](#Model-Fitting-&-Evaluation)\n",
    "- [Data Modelling with SMOTE](#Data-Modelling-with-SMOTE)\n",
    "    - [Model Fitting & Evaluation (SMOTE)](#Model-Fitting-&-Evaluation-(SMOTE))\n",
    "- [Model Selection](#Model-Selection)\n",
    "- [Misclassified Data](#Misclassified-Data)\n",
    "- Topic Modelling\n",
    "- Conclusions\n",
    "- Recommendations\n",
    "- References"
   ]
  },
  {
   "cell_type": "markdown",
   "id": "ec21f17d",
   "metadata": {},
   "source": [
    "## Import Libraries"
   ]
  },
  {
   "cell_type": "code",
   "execution_count": 1,
   "id": "8c7383e1",
   "metadata": {},
   "outputs": [],
   "source": [
    "import pandas as pd\n",
    "import numpy as np\n",
    "import seaborn as sns\n",
    "import matplotlib.pyplot as plt\n",
    "%matplotlib inline\n",
    "\n",
    "from time import time\n",
    "import string\n",
    "import re\n",
    "import nltk\n",
    "\n",
    "from sklearn.model_selection import train_test_split, GridSearchCV, RandomizedSearchCV\n",
    "from sklearn.preprocessing import StandardScaler\n",
    "from sklearn.feature_extraction.text import CountVectorizer, TfidfVectorizer\n",
    "from sklearn.compose import ColumnTransformer\n",
    "from sklearn.pipeline import Pipeline\n",
    "from sklearn import metrics\n",
    "from sklearn.metrics import confusion_matrix, plot_confusion_matrix, \\\n",
    "accuracy_score, recall_score, precision_score, plot_roc_curve, roc_auc_score, roc_curve\n",
    "\n",
    "from sklearn.linear_model import LogisticRegression\n",
    "from sklearn.svm import SVC, LinearSVC\n",
    "from sklearn.naive_bayes import MultinomialNB\n",
    "from xgboost import XGBClassifier\n",
    "from sklearn.neighbors import KNeighborsClassifier\n",
    "from sklearn.tree import DecisionTreeClassifier\n",
    "from sklearn.ensemble import BaggingClassifier, RandomForestClassifier, AdaBoostClassifier\n",
    "\n",
    "from imblearn.over_sampling import SMOTE \n",
    "from imblearn.pipeline import Pipeline as pipeline\n",
    "\n",
    "pd.set_option('display.max.columns', None)\n",
    "pd.set_option('display.max.rows', None)\n",
    "pd.set_option('display.max.colwidth', 100)"
   ]
  },
  {
   "cell_type": "code",
   "execution_count": 2,
   "id": "6aca106b",
   "metadata": {},
   "outputs": [],
   "source": [
    "import warnings\n",
    "warnings.filterwarnings('ignore', 'Solver terminated early.*')"
   ]
  },
  {
   "cell_type": "code",
   "execution_count": 3,
   "id": "675dace4",
   "metadata": {},
   "outputs": [],
   "source": [
    "# load the data\n",
    "df = pd.read_csv('../data/clean_fake_job_postings.csv')"
   ]
  },
  {
   "cell_type": "code",
   "execution_count": 4,
   "id": "72b70e95",
   "metadata": {},
   "outputs": [
    {
     "data": {
      "text/html": [
       "<div>\n",
       "<style scoped>\n",
       "    .dataframe tbody tr th:only-of-type {\n",
       "        vertical-align: middle;\n",
       "    }\n",
       "\n",
       "    .dataframe tbody tr th {\n",
       "        vertical-align: top;\n",
       "    }\n",
       "\n",
       "    .dataframe thead th {\n",
       "        text-align: right;\n",
       "    }\n",
       "</style>\n",
       "<table border=\"1\" class=\"dataframe\">\n",
       "  <thead>\n",
       "    <tr style=\"text-align: right;\">\n",
       "      <th></th>\n",
       "      <th>has_company_logo</th>\n",
       "      <th>has_questions</th>\n",
       "      <th>required_experience</th>\n",
       "      <th>required_education</th>\n",
       "      <th>industry_grp</th>\n",
       "      <th>text_lemma</th>\n",
       "      <th>word_length</th>\n",
       "      <th>fraudulent</th>\n",
       "    </tr>\n",
       "  </thead>\n",
       "  <tbody>\n",
       "    <tr>\n",
       "      <th>0</th>\n",
       "      <td>1</td>\n",
       "      <td>0</td>\n",
       "      <td>Internship</td>\n",
       "      <td>Bachelor's Degree</td>\n",
       "      <td>Marketing/Advertising</td>\n",
       "      <td>marketing intern food fast growing james beard award winning online food community crowd sourced...</td>\n",
       "      <td>152</td>\n",
       "      <td>0</td>\n",
       "    </tr>\n",
       "  </tbody>\n",
       "</table>\n",
       "</div>"
      ],
      "text/plain": [
       "   has_company_logo  has_questions required_experience required_education  \\\n",
       "0                 1              0          Internship  Bachelor's Degree   \n",
       "\n",
       "            industry_grp  \\\n",
       "0  Marketing/Advertising   \n",
       "\n",
       "                                                                                            text_lemma  \\\n",
       "0  marketing intern food fast growing james beard award winning online food community crowd sourced...   \n",
       "\n",
       "   word_length  fraudulent  \n",
       "0          152           0  "
      ]
     },
     "execution_count": 4,
     "metadata": {},
     "output_type": "execute_result"
    }
   ],
   "source": [
    "df.head(1)"
   ]
  },
  {
   "cell_type": "code",
   "execution_count": 5,
   "id": "93f8dcbc",
   "metadata": {},
   "outputs": [],
   "source": [
    "# dummify categorical variables\n",
    "categorical_col = [col for col in ['required_experience', 'required_education', 'industry_grp']]\n",
    "df = pd.get_dummies(df, columns = categorical_col)"
   ]
  },
  {
   "cell_type": "code",
   "execution_count": 6,
   "id": "5c459f6b",
   "metadata": {},
   "outputs": [
    {
     "data": {
      "text/html": [
       "<div>\n",
       "<style scoped>\n",
       "    .dataframe tbody tr th:only-of-type {\n",
       "        vertical-align: middle;\n",
       "    }\n",
       "\n",
       "    .dataframe tbody tr th {\n",
       "        vertical-align: top;\n",
       "    }\n",
       "\n",
       "    .dataframe thead th {\n",
       "        text-align: right;\n",
       "    }\n",
       "</style>\n",
       "<table border=\"1\" class=\"dataframe\">\n",
       "  <thead>\n",
       "    <tr style=\"text-align: right;\">\n",
       "      <th></th>\n",
       "      <th>has_company_logo</th>\n",
       "      <th>has_questions</th>\n",
       "      <th>text_lemma</th>\n",
       "      <th>word_length</th>\n",
       "      <th>fraudulent</th>\n",
       "      <th>required_experience_Associate</th>\n",
       "      <th>required_experience_Director</th>\n",
       "      <th>required_experience_Entry level</th>\n",
       "      <th>required_experience_Executive</th>\n",
       "      <th>required_experience_Internship</th>\n",
       "      <th>required_experience_Mid-Senior level</th>\n",
       "      <th>required_experience_Not Applicable</th>\n",
       "      <th>required_education_Associate Degree</th>\n",
       "      <th>required_education_Bachelor's Degree</th>\n",
       "      <th>required_education_Certification</th>\n",
       "      <th>required_education_Doctorate</th>\n",
       "      <th>required_education_High School or equivalent</th>\n",
       "      <th>required_education_Master's Degree</th>\n",
       "      <th>required_education_Professional</th>\n",
       "      <th>required_education_Some College Coursework Completed</th>\n",
       "      <th>required_education_Unspecified</th>\n",
       "      <th>required_education_Vocational</th>\n",
       "      <th>industry_grp_Admin/HR</th>\n",
       "      <th>industry_grp_Architecture &amp; Engineering</th>\n",
       "      <th>industry_grp_Arts &amp; Entertainment</th>\n",
       "      <th>industry_grp_Broadcasting/Publishing</th>\n",
       "      <th>industry_grp_Business/Consultancy</th>\n",
       "      <th>industry_grp_Computer Prog</th>\n",
       "      <th>industry_grp_Construction</th>\n",
       "      <th>industry_grp_Education</th>\n",
       "      <th>industry_grp_F&amp;B</th>\n",
       "      <th>industry_grp_Financial Services</th>\n",
       "      <th>industry_grp_Healthcare</th>\n",
       "      <th>industry_grp_ICT</th>\n",
       "      <th>industry_grp_Legal &amp; Accounting</th>\n",
       "      <th>industry_grp_Manufacturing</th>\n",
       "      <th>industry_grp_Marketing/Advertising</th>\n",
       "      <th>industry_grp_Oil &amp; Energy</th>\n",
       "      <th>industry_grp_Others</th>\n",
       "      <th>industry_grp_Public Admin</th>\n",
       "      <th>industry_grp_Real Estate</th>\n",
       "      <th>industry_grp_Scientific R&amp;D</th>\n",
       "      <th>industry_grp_Security and Investigations</th>\n",
       "      <th>industry_grp_Social Services</th>\n",
       "      <th>industry_grp_Telecommunications</th>\n",
       "      <th>industry_grp_Transportation &amp; Storage</th>\n",
       "      <th>industry_grp_Wholesale/Retail</th>\n",
       "    </tr>\n",
       "  </thead>\n",
       "  <tbody>\n",
       "    <tr>\n",
       "      <th>0</th>\n",
       "      <td>1</td>\n",
       "      <td>0</td>\n",
       "      <td>marketing intern food fast growing james beard award winning online food community crowd sourced...</td>\n",
       "      <td>152</td>\n",
       "      <td>0</td>\n",
       "      <td>0</td>\n",
       "      <td>0</td>\n",
       "      <td>0</td>\n",
       "      <td>0</td>\n",
       "      <td>1</td>\n",
       "      <td>0</td>\n",
       "      <td>0</td>\n",
       "      <td>0</td>\n",
       "      <td>1</td>\n",
       "      <td>0</td>\n",
       "      <td>0</td>\n",
       "      <td>0</td>\n",
       "      <td>0</td>\n",
       "      <td>0</td>\n",
       "      <td>0</td>\n",
       "      <td>0</td>\n",
       "      <td>0</td>\n",
       "      <td>0</td>\n",
       "      <td>0</td>\n",
       "      <td>0</td>\n",
       "      <td>0</td>\n",
       "      <td>0</td>\n",
       "      <td>0</td>\n",
       "      <td>0</td>\n",
       "      <td>0</td>\n",
       "      <td>0</td>\n",
       "      <td>0</td>\n",
       "      <td>0</td>\n",
       "      <td>0</td>\n",
       "      <td>0</td>\n",
       "      <td>0</td>\n",
       "      <td>1</td>\n",
       "      <td>0</td>\n",
       "      <td>0</td>\n",
       "      <td>0</td>\n",
       "      <td>0</td>\n",
       "      <td>0</td>\n",
       "      <td>0</td>\n",
       "      <td>0</td>\n",
       "      <td>0</td>\n",
       "      <td>0</td>\n",
       "      <td>0</td>\n",
       "    </tr>\n",
       "  </tbody>\n",
       "</table>\n",
       "</div>"
      ],
      "text/plain": [
       "   has_company_logo  has_questions  \\\n",
       "0                 1              0   \n",
       "\n",
       "                                                                                            text_lemma  \\\n",
       "0  marketing intern food fast growing james beard award winning online food community crowd sourced...   \n",
       "\n",
       "   word_length  fraudulent  required_experience_Associate  \\\n",
       "0          152           0                              0   \n",
       "\n",
       "   required_experience_Director  required_experience_Entry level  \\\n",
       "0                             0                                0   \n",
       "\n",
       "   required_experience_Executive  required_experience_Internship  \\\n",
       "0                              0                               1   \n",
       "\n",
       "   required_experience_Mid-Senior level  required_experience_Not Applicable  \\\n",
       "0                                     0                                   0   \n",
       "\n",
       "   required_education_Associate Degree  required_education_Bachelor's Degree  \\\n",
       "0                                    0                                     1   \n",
       "\n",
       "   required_education_Certification  required_education_Doctorate  \\\n",
       "0                                 0                             0   \n",
       "\n",
       "   required_education_High School or equivalent  \\\n",
       "0                                             0   \n",
       "\n",
       "   required_education_Master's Degree  required_education_Professional  \\\n",
       "0                                   0                                0   \n",
       "\n",
       "   required_education_Some College Coursework Completed  \\\n",
       "0                                                     0   \n",
       "\n",
       "   required_education_Unspecified  required_education_Vocational  \\\n",
       "0                               0                              0   \n",
       "\n",
       "   industry_grp_Admin/HR  industry_grp_Architecture & Engineering  \\\n",
       "0                      0                                        0   \n",
       "\n",
       "   industry_grp_Arts & Entertainment  industry_grp_Broadcasting/Publishing  \\\n",
       "0                                  0                                     0   \n",
       "\n",
       "   industry_grp_Business/Consultancy  industry_grp_Computer Prog  \\\n",
       "0                                  0                           0   \n",
       "\n",
       "   industry_grp_Construction  industry_grp_Education  industry_grp_F&B  \\\n",
       "0                          0                       0                 0   \n",
       "\n",
       "   industry_grp_Financial Services  industry_grp_Healthcare  industry_grp_ICT  \\\n",
       "0                                0                        0                 0   \n",
       "\n",
       "   industry_grp_Legal & Accounting  industry_grp_Manufacturing  \\\n",
       "0                                0                           0   \n",
       "\n",
       "   industry_grp_Marketing/Advertising  industry_grp_Oil & Energy  \\\n",
       "0                                   1                          0   \n",
       "\n",
       "   industry_grp_Others  industry_grp_Public Admin  industry_grp_Real Estate  \\\n",
       "0                    0                          0                         0   \n",
       "\n",
       "   industry_grp_Scientific R&D  industry_grp_Security and Investigations  \\\n",
       "0                            0                                         0   \n",
       "\n",
       "   industry_grp_Social Services  industry_grp_Telecommunications  \\\n",
       "0                             0                                0   \n",
       "\n",
       "   industry_grp_Transportation & Storage  industry_grp_Wholesale/Retail  \n",
       "0                                      0                              0  "
      ]
     },
     "execution_count": 6,
     "metadata": {},
     "output_type": "execute_result"
    }
   ],
   "source": [
    "df.head(1)"
   ]
  },
  {
   "cell_type": "code",
   "execution_count": 7,
   "id": "1e32b874",
   "metadata": {},
   "outputs": [],
   "source": [
    "# select features\n",
    "X = df.drop(columns = ['fraudulent'])\n",
    "y = df['fraudulent']"
   ]
  },
  {
   "cell_type": "code",
   "execution_count": 8,
   "id": "50c02a95",
   "metadata": {},
   "outputs": [],
   "source": [
    "# train test split of 70/30\n",
    "X_train, X_test, y_train, y_test = train_test_split(X, y, train_size = 0.7, stratify = y, random_state = 42)"
   ]
  },
  {
   "cell_type": "code",
   "execution_count": 9,
   "id": "633d9f84",
   "metadata": {},
   "outputs": [
    {
     "name": "stdout",
     "output_type": "stream",
     "text": [
      "Shape before removing duplicates: (11867, 47)\n",
      "Shape after removing duplicates: (11867, 47)\n"
     ]
    }
   ],
   "source": [
    "# remove duplicates from text_lemma columns (if any) \n",
    "print(f'Shape before removing duplicates: {df.shape}')\n",
    "df.drop_duplicates(subset = ['text_lemma'], inplace = True)\n",
    "print(f'Shape after removing duplicates: {df.shape}')"
   ]
  },
  {
   "cell_type": "markdown",
   "id": "9846e177",
   "metadata": {},
   "source": [
    "### Functions to compute evaluation metrics and best params"
   ]
  },
  {
   "cell_type": "code",
   "execution_count": 10,
   "id": "31f9f5a8",
   "metadata": {},
   "outputs": [],
   "source": [
    "# write a function to compute accuracy score for train and test data\n",
    "def compute_acc_score(model, X_train, X_test, y_train, y_test):\n",
    "    \"\"\"\n",
    "    This function takes in the model, train and test data and returns the accuracy score and \n",
    "    the difference between the train and test accuracy scores.\n",
    "    \"\"\"\n",
    "    acc_train = model.score(X_train, y_train)\n",
    "    acc_test = model.score(X_test, y_test)\n",
    "    acc_diff = acc_train - acc_test\n",
    "    \n",
    "    print(f'The training accuracy score for {(model.__class__.__name__)} is{acc_train: .3f}.')\n",
    "    print(f'The testing accuracy score for {(model.__class__.__name__)} is{acc_test: .3f}.')\n",
    "    print(f'The difference in accuracy score for {(model.__class__.__name__)} is{acc_diff: .3f}.')\n",
    "    print()"
   ]
  },
  {
   "cell_type": "code",
   "execution_count": 11,
   "id": "0012dff6",
   "metadata": {},
   "outputs": [],
   "source": [
    "# write a function to compute roc auc score\n",
    "def compute_roc_auc_score(model, X_train, X_test, y_train, y_test):\n",
    "    \"\"\"\n",
    "    This function takes in the model, train and test data and returns the roc auc score\n",
    "    and the difference between train and test roc auc score.\n",
    "    \"\"\"\n",
    "    roc_auc_train = roc_auc_score(y_train, model.predict_proba(X_train)[:,1])\n",
    "    roc_auc_test = roc_auc_score(y_test, model.predict_proba(X_test)[:,1])\n",
    "    roc_auc_diff = roc_auc_train - roc_auc_test\n",
    "    \n",
    "    print(f'The training ROC AUC score for {(model.__class__.__name__)} is{roc_auc_train: .3f}.')\n",
    "    print(f'The testing ROC AUC score for {(model.__class__.__name__)} is{roc_auc_test: .3f}.')\n",
    "    print(f'The difference in ROC AUC score for {(model.__class__.__name__)} is{roc_auc_diff: .3f}.')\n",
    "    print()"
   ]
  },
  {
   "cell_type": "code",
   "execution_count": 12,
   "id": "1a7d44c9",
   "metadata": {},
   "outputs": [],
   "source": [
    "# write a function to compute recall score\n",
    "def compute_recall_score(model, X_train, X_test, y_train, y_test):\n",
    "    \"\"\"\n",
    "    This function takes in the model, train and test data and returns the recall score \n",
    "    and the difference between train and test recall score.\n",
    "    \"\"\"\n",
    "    rec_train = recall_score(y_true = y_train, y_pred = model.predict(X_train))\n",
    "    rec_test = recall_score(y_true = y_test, y_pred = model.predict(X_test))\n",
    "    rec_diff = rec_train - rec_test\n",
    "    \n",
    "    print(f'The training recall score for {(model.__class__.__name__)} is{rec_train: .3f}.')\n",
    "    print(f'The testing recall score for {(model.__class__.__name__)} is{rec_test: .3f}.')\n",
    "    print(f'The difference in recall score for {(model.__class__.__name__)} is{rec_diff: .3f}.')\n",
    "    print()"
   ]
  },
  {
   "cell_type": "code",
   "execution_count": 13,
   "id": "fc9123bb",
   "metadata": {},
   "outputs": [],
   "source": [
    "# write a function to print out the accuracy, roc auc and recall score\n",
    "def eval_metrics(model):\n",
    "    \"\"\"\n",
    "    This function takes in the model and returns the accuracy, ROC AUC and recall scores \n",
    "    of both the train and test data.\n",
    "    \"\"\"\n",
    "    compute_acc_score(model, X_train, X_test, y_train, y_test)\n",
    "    compute_roc_auc_score(model, X_train, X_test, y_train, y_test)\n",
    "    compute_recall_score(model, X_train, X_test, y_train, y_test)"
   ]
  },
  {
   "cell_type": "code",
   "execution_count": 14,
   "id": "2bb5705d",
   "metadata": {},
   "outputs": [],
   "source": [
    "# write a function to print the best parameters from RandomizedSearchCV\n",
    "def best_params(name, vectorizer1, model1, vectorizer2, model2):\n",
    "    \"\"\"\n",
    "    This function takes in the model name, vectorizer name, model and returns the best parameters.\n",
    "    \"\"\"\n",
    "    print(f'{name}:')\n",
    "    print(f'{name} with {vectorizer1} best params: \\n {model1.best_params_}')\n",
    "    print()\n",
    "    print(f'{name} with {vectorizer2} best params: \\n {model2.best_params_}')\n",
    "    print()"
   ]
  },
  {
   "cell_type": "markdown",
   "id": "15ea7ead",
   "metadata": {},
   "source": [
    "## Data Modelling"
   ]
  },
  {
   "cell_type": "markdown",
   "id": "a7b45968",
   "metadata": {},
   "source": [
    "### Setting up Transformers"
   ]
  },
  {
   "cell_type": "code",
   "execution_count": 15,
   "id": "87983bbc",
   "metadata": {},
   "outputs": [],
   "source": [
    "# instantiate vectorizers\n",
    "cvec = CountVectorizer()\n",
    "tvec = TfidfVectorizer()"
   ]
  },
  {
   "cell_type": "code",
   "execution_count": 16,
   "id": "1d577a4a",
   "metadata": {},
   "outputs": [],
   "source": [
    "# setting up column transformer for cvec\n",
    "transformer1 = ColumnTransformer([\n",
    "    ('cvec', cvec, 'text_lemma'),\n",
    "    ('ss', StandardScaler(with_mean = False), \n",
    "     df[df.columns[~df.columns.isin(['text_lemma', 'fraudulent'])]].columns)],\n",
    "    remainder = 'passthrough')"
   ]
  },
  {
   "cell_type": "code",
   "execution_count": 17,
   "id": "d382bff2",
   "metadata": {},
   "outputs": [],
   "source": [
    "# setting up column transformer for tvec\n",
    "transformer2 = ColumnTransformer(transformers=[\n",
    "    ('tvec', tvec, 'text_lemma'),\n",
    "    ('ss', StandardScaler(with_mean = False), \n",
    "     df[df.columns[~df.columns.isin(['text_lemma', 'fraudulent'])]].columns)],\n",
    "    remainder = 'passthrough')"
   ]
  },
  {
   "cell_type": "markdown",
   "id": "332c1102",
   "metadata": {},
   "source": [
    "### Setting up Pipelines\n",
    "We will set up pipelines involving 5 models - (i) Logistic Regression; (ii) Support Vector Classifier; (iii) Multinomial Naive Bayes; (iv) Extreme Gradient Boosting; and (v) K-Nearest Neighbors, and 2 vectorizers - (a) Count Vectorizer; and (b) TFIDF Vectorizer. There will be a total of 10 pipelines."
   ]
  },
  {
   "cell_type": "code",
   "execution_count": 18,
   "id": "5cf6b774",
   "metadata": {},
   "outputs": [],
   "source": [
    "# create pipeline for logreg cvec\n",
    "pipe1 = Pipeline([\n",
    "    ('transformer1', transformer1),\n",
    "    ('logreg', LogisticRegression(random_state = 42, class_weight = 'balanced', max_iter = 10_000))])"
   ]
  },
  {
   "cell_type": "code",
   "execution_count": 19,
   "id": "37daece6",
   "metadata": {},
   "outputs": [],
   "source": [
    "# create pipeline for logreg tvec\n",
    "pipe2 = Pipeline([\n",
    "    ('transformer2', transformer2),\n",
    "    ('logreg', LogisticRegression(random_state = 42, class_weight = 'balanced', max_iter = 10_000))])"
   ]
  },
  {
   "cell_type": "code",
   "execution_count": 20,
   "id": "b5aff55b",
   "metadata": {},
   "outputs": [],
   "source": [
    "# create pipeline for svc cvec\n",
    "pipe3 = Pipeline([\n",
    "    ('transformer1', transformer1),\n",
    "    ('svc', SVC(random_state = 42, class_weight = 'balanced', probability = True, \n",
    "                kernel = 'linear', max_iter = 100_000))])"
   ]
  },
  {
   "cell_type": "code",
   "execution_count": 21,
   "id": "fe6543ac",
   "metadata": {},
   "outputs": [],
   "source": [
    "# create pipeline for svc tvec\n",
    "pipe4 = Pipeline([\n",
    "    ('transformer2', transformer2),\n",
    "    ('svc', SVC(random_state = 42, class_weight = 'balanced', probability = True, \n",
    "                kernel = 'linear', max_iter = 100_000))])"
   ]
  },
  {
   "cell_type": "code",
   "execution_count": 22,
   "id": "98e5f358",
   "metadata": {},
   "outputs": [],
   "source": [
    "# create pipeline for xgboost cvec\n",
    "pipe5 = Pipeline([\n",
    "    ('transformer1', transformer1),\n",
    "    ('xgb', XGBClassifier(use_label_encoder = False, eval_metric = 'mlogloss', booster = 'gblinear'))])"
   ]
  },
  {
   "cell_type": "code",
   "execution_count": 23,
   "id": "479adb70",
   "metadata": {},
   "outputs": [],
   "source": [
    "# create pipeline for xgboost tvec\n",
    "pipe6 = Pipeline([\n",
    "    ('transformer2', transformer2),\n",
    "    ('xgb', XGBClassifier(use_label_encoder = False, eval_metric = 'mlogloss', booster = 'gblinear'))])"
   ]
  },
  {
   "cell_type": "code",
   "execution_count": 24,
   "id": "5940aa64",
   "metadata": {},
   "outputs": [],
   "source": [
    "# create pipeline for mnb cvec\n",
    "pipe7 = Pipeline([\n",
    "    ('transformer1', transformer1),\n",
    "    ('mnb', MultinomialNB())])"
   ]
  },
  {
   "cell_type": "code",
   "execution_count": 25,
   "id": "75fa97d5",
   "metadata": {},
   "outputs": [],
   "source": [
    "# create pipeline for mnb tvec\n",
    "pipe8 = Pipeline([\n",
    "    ('transformer2', transformer2),\n",
    "    ('mnb', MultinomialNB())])"
   ]
  },
  {
   "cell_type": "code",
   "execution_count": 26,
   "id": "12067fd9",
   "metadata": {},
   "outputs": [],
   "source": [
    "# create pipeline for knn cvec\n",
    "pipe9 = Pipeline([\n",
    "    ('transformer1', transformer1),\n",
    "    ('knn', KNeighborsClassifier())])"
   ]
  },
  {
   "cell_type": "code",
   "execution_count": 27,
   "id": "9699c4ea",
   "metadata": {},
   "outputs": [],
   "source": [
    "# create pipeline for knn tvec\n",
    "pipe10 = Pipeline([\n",
    "    ('transformer2', transformer2),\n",
    "    ('knn', KNeighborsClassifier())])"
   ]
  },
  {
   "cell_type": "markdown",
   "id": "95173e73",
   "metadata": {},
   "source": [
    "### Baseline Model \n",
    "We set a logistic regression model with cvec and default parameters (i.e. C = 1, penalty = l2, solver = 'lbfgs') as the baseline model, as it is easy to understand and interpret. As this is an imbalanced classification problem, we should not be using accuracy score as the evaluation metric. Instead, we will compare the ROC AUC score of the baseline model against the other 9 models. The final model that we select will have to outperform the baseline model's ROC AUC score."
   ]
  },
  {
   "cell_type": "code",
   "execution_count": 28,
   "id": "0b23278c",
   "metadata": {},
   "outputs": [
    {
     "name": "stdout",
     "output_type": "stream",
     "text": [
      "The training accuracy score for Pipeline is 1.000.\n",
      "The testing accuracy score for Pipeline is 0.971.\n",
      "The difference in accuracy score for Pipeline is 0.029.\n",
      "\n",
      "The training ROC AUC score for Pipeline is 1.000.\n",
      "The testing ROC AUC score for Pipeline is 0.933.\n",
      "The difference in ROC AUC score for Pipeline is 0.067.\n",
      "\n",
      "The training recall score for Pipeline is 1.000.\n",
      "The testing recall score for Pipeline is 0.692.\n",
      "The difference in recall score for Pipeline is 0.308.\n",
      "\n"
     ]
    }
   ],
   "source": [
    "# fit baseline pipe and print the scores\n",
    "baseline_model = pipe1.fit(X_train, y_train)\n",
    "eval_metrics(baseline_model)"
   ]
  },
  {
   "cell_type": "markdown",
   "id": "8cd9acc8",
   "metadata": {},
   "source": [
    "**Observation**: The ROC AUC score tells how much the model is capable at distinguishing between the two classes. The closer the score is to 1, the better the model is at distinguishing between fraudulent (positives) and non-fraudulent job ads. Our **baseline ROC AUC score is 0.933**, which is quite good."
   ]
  },
  {
   "cell_type": "markdown",
   "id": "ee53aac1",
   "metadata": {},
   "source": [
    "### Model Fitting & Evaluation\n",
    "#### Logistic Regression"
   ]
  },
  {
   "cell_type": "code",
   "execution_count": 29,
   "id": "1f4da21e",
   "metadata": {},
   "outputs": [],
   "source": [
    "# instantiate and fit logreg models\n",
    "tvec_logreg = pipe2.fit(X_train, y_train);"
   ]
  },
  {
   "cell_type": "code",
   "execution_count": 30,
   "id": "8b3a06ec",
   "metadata": {},
   "outputs": [
    {
     "name": "stdout",
     "output_type": "stream",
     "text": [
      "The training accuracy score for Pipeline is 0.960.\n",
      "The testing accuracy score for Pipeline is 0.942.\n",
      "The difference in accuracy score for Pipeline is 0.018.\n",
      "\n",
      "The training ROC AUC score for Pipeline is 0.997.\n",
      "The testing ROC AUC score for Pipeline is 0.950.\n",
      "The difference in ROC AUC score for Pipeline is 0.047.\n",
      "\n",
      "The training recall score for Pipeline is 1.000.\n",
      "The testing recall score for Pipeline is 0.795.\n",
      "The difference in recall score for Pipeline is 0.205.\n",
      "\n"
     ]
    }
   ],
   "source": [
    "# eval logreg tvec\n",
    "eval_metrics(tvec_logreg)"
   ]
  },
  {
   "cell_type": "markdown",
   "id": "932fdb78",
   "metadata": {},
   "source": [
    "**Observation**: The ROC AUC score for Logistic Regression with tvec is 0.950, which is higher than the score of the baseline model. This indicates that `LogReg with tvec` is probably a good model at classifying between real and fake job ads."
   ]
  },
  {
   "cell_type": "markdown",
   "id": "b60ff4d3",
   "metadata": {},
   "source": [
    "#### Support Vector Classifier"
   ]
  },
  {
   "cell_type": "code",
   "execution_count": 31,
   "id": "8b463ef2",
   "metadata": {},
   "outputs": [],
   "source": [
    "# instantiate and fit SVC models\n",
    "cvec_svc = pipe3.fit(X_train, y_train);\n",
    "tvec_svc = pipe4.fit(X_train, y_train);"
   ]
  },
  {
   "cell_type": "code",
   "execution_count": 32,
   "id": "127b3cd5",
   "metadata": {},
   "outputs": [
    {
     "name": "stdout",
     "output_type": "stream",
     "text": [
      "The training accuracy score for Pipeline is 1.000.\n",
      "The testing accuracy score for Pipeline is 0.971.\n",
      "The difference in accuracy score for Pipeline is 0.029.\n",
      "\n",
      "The training ROC AUC score for Pipeline is 1.000.\n",
      "The testing ROC AUC score for Pipeline is 0.925.\n",
      "The difference in ROC AUC score for Pipeline is 0.075.\n",
      "\n",
      "The training recall score for Pipeline is 1.000.\n",
      "The testing recall score for Pipeline is 0.637.\n",
      "The difference in recall score for Pipeline is 0.363.\n",
      "\n"
     ]
    }
   ],
   "source": [
    "# eval svc cvec\n",
    "eval_metrics(cvec_svc)"
   ]
  },
  {
   "cell_type": "code",
   "execution_count": 33,
   "id": "f2f567af",
   "metadata": {},
   "outputs": [
    {
     "name": "stdout",
     "output_type": "stream",
     "text": [
      "The training accuracy score for Pipeline is 0.997.\n",
      "The testing accuracy score for Pipeline is 0.978.\n",
      "The difference in accuracy score for Pipeline is 0.020.\n",
      "\n",
      "The training ROC AUC score for Pipeline is 1.000.\n",
      "The testing ROC AUC score for Pipeline is 0.950.\n",
      "The difference in ROC AUC score for Pipeline is 0.050.\n",
      "\n",
      "The training recall score for Pipeline is 1.000.\n",
      "The testing recall score for Pipeline is 0.644.\n",
      "The difference in recall score for Pipeline is 0.356.\n",
      "\n"
     ]
    }
   ],
   "source": [
    "# eval svc tvec\n",
    "eval_metrics(tvec_svc)"
   ]
  },
  {
   "cell_type": "markdown",
   "id": "f3a9ea80",
   "metadata": {},
   "source": [
    "**Observation**: The ROC AUC score for SVC with cvec is 0.925, lower than the baseline. The ROC AUC score for SVC with tvec is 0.950, higher than the baseline score. This indicates that the `SVC with tvec` is probably a good model at classifying between real and fake job ads."
   ]
  },
  {
   "cell_type": "markdown",
   "id": "d3d1eb8f",
   "metadata": {},
   "source": [
    "#### Extreme Gradient Boosting"
   ]
  },
  {
   "cell_type": "code",
   "execution_count": 34,
   "id": "a00e931e",
   "metadata": {},
   "outputs": [],
   "source": [
    "# instantiate and fit XGB models\n",
    "cvec_xgb = pipe5.fit(X_train, y_train);\n",
    "tvec_xgb = pipe6.fit(X_train, y_train);"
   ]
  },
  {
   "cell_type": "code",
   "execution_count": 35,
   "id": "66075179",
   "metadata": {},
   "outputs": [
    {
     "name": "stdout",
     "output_type": "stream",
     "text": [
      "The training accuracy score for Pipeline is 1.000.\n",
      "The testing accuracy score for Pipeline is 0.977.\n",
      "The difference in accuracy score for Pipeline is 0.023.\n",
      "\n",
      "The training ROC AUC score for Pipeline is 1.000.\n",
      "The testing ROC AUC score for Pipeline is 0.919.\n",
      "The difference in ROC AUC score for Pipeline is 0.081.\n",
      "\n",
      "The training recall score for Pipeline is 1.000.\n",
      "The testing recall score for Pipeline is 0.548.\n",
      "The difference in recall score for Pipeline is 0.452.\n",
      "\n"
     ]
    }
   ],
   "source": [
    "# eval xgb cvec\n",
    "eval_metrics(cvec_xgb)"
   ]
  },
  {
   "cell_type": "code",
   "execution_count": 36,
   "id": "dd06a38f",
   "metadata": {},
   "outputs": [
    {
     "name": "stdout",
     "output_type": "stream",
     "text": [
      "The training accuracy score for Pipeline is 1.000.\n",
      "The testing accuracy score for Pipeline is 0.979.\n",
      "The difference in accuracy score for Pipeline is 0.021.\n",
      "\n",
      "The training ROC AUC score for Pipeline is 1.000.\n",
      "The testing ROC AUC score for Pipeline is 0.938.\n",
      "The difference in ROC AUC score for Pipeline is 0.062.\n",
      "\n",
      "The training recall score for Pipeline is 1.000.\n",
      "The testing recall score for Pipeline is 0.541.\n",
      "The difference in recall score for Pipeline is 0.459.\n",
      "\n"
     ]
    }
   ],
   "source": [
    "# eval xgb tvec\n",
    "eval_metrics(tvec_xgb)"
   ]
  },
  {
   "cell_type": "markdown",
   "id": "81892047",
   "metadata": {},
   "source": [
    "**Observation**: The ROC AUC score for XGB with cvec is 0.919, lower than the baseline. The ROC AUC score for XGB with tvec is 0.938, higher than the baseline score. This indicates that the `XGB with tvec` is probably a good model at classifying between real and fake job ads."
   ]
  },
  {
   "cell_type": "markdown",
   "id": "5eaa2fca",
   "metadata": {},
   "source": [
    "#### Multinomial Naive Bayes"
   ]
  },
  {
   "cell_type": "code",
   "execution_count": 37,
   "id": "7b43647b",
   "metadata": {},
   "outputs": [],
   "source": [
    "# instantiate and fit MNB models\n",
    "cvec_mnb = pipe7.fit(X_train, y_train);\n",
    "tvec_mnb = pipe8.fit(X_train, y_train);"
   ]
  },
  {
   "cell_type": "code",
   "execution_count": 38,
   "id": "c0a45ff5",
   "metadata": {},
   "outputs": [
    {
     "name": "stdout",
     "output_type": "stream",
     "text": [
      "The training accuracy score for Pipeline is 0.974.\n",
      "The testing accuracy score for Pipeline is 0.969.\n",
      "The difference in accuracy score for Pipeline is 0.004.\n",
      "\n",
      "The training ROC AUC score for Pipeline is 0.925.\n",
      "The testing ROC AUC score for Pipeline is 0.875.\n",
      "The difference in ROC AUC score for Pipeline is 0.051.\n",
      "\n",
      "The training recall score for Pipeline is 0.400.\n",
      "The testing recall score for Pipeline is 0.274.\n",
      "The difference in recall score for Pipeline is 0.126.\n",
      "\n"
     ]
    }
   ],
   "source": [
    "# eval mnb cvec\n",
    "eval_metrics(cvec_mnb)"
   ]
  },
  {
   "cell_type": "code",
   "execution_count": 39,
   "id": "e0150599",
   "metadata": {},
   "outputs": [
    {
     "name": "stdout",
     "output_type": "stream",
     "text": [
      "The training accuracy score for Pipeline is 0.959.\n",
      "The testing accuracy score for Pipeline is 0.959.\n",
      "The difference in accuracy score for Pipeline is 0.000.\n",
      "\n",
      "The training ROC AUC score for Pipeline is 0.828.\n",
      "The testing ROC AUC score for Pipeline is 0.843.\n",
      "The difference in ROC AUC score for Pipeline is-0.014.\n",
      "\n",
      "The training recall score for Pipeline is 0.000.\n",
      "The testing recall score for Pipeline is 0.000.\n",
      "The difference in recall score for Pipeline is 0.000.\n",
      "\n"
     ]
    }
   ],
   "source": [
    "# eval mnb tvec\n",
    "eval_metrics(tvec_mnb)"
   ]
  },
  {
   "cell_type": "markdown",
   "id": "b03578e2",
   "metadata": {},
   "source": [
    "**Observation**: The ROC AUC score for both MNB with cvec and MNB with tvec is lower than the baseline model. This suggests that the MNB is not a good model for classifying between real and fake job ads, likely because of the imbalanced class."
   ]
  },
  {
   "cell_type": "markdown",
   "id": "34b0fbb5",
   "metadata": {},
   "source": [
    "#### K-Nearest Neighbors"
   ]
  },
  {
   "cell_type": "code",
   "execution_count": 40,
   "id": "ebbcfb97",
   "metadata": {},
   "outputs": [],
   "source": [
    "# instantiate and fit KNN models\n",
    "cvec_knn = pipe9.fit(X_train, y_train);\n",
    "tvec_knn = pipe10.fit(X_train, y_train);"
   ]
  },
  {
   "cell_type": "code",
   "execution_count": 41,
   "id": "7d73deb4",
   "metadata": {},
   "outputs": [
    {
     "name": "stdout",
     "output_type": "stream",
     "text": [
      "The training accuracy score for Pipeline is 0.975.\n",
      "The testing accuracy score for Pipeline is 0.967.\n",
      "The difference in accuracy score for Pipeline is 0.008.\n",
      "\n",
      "The training ROC AUC score for Pipeline is 0.974.\n",
      "The testing ROC AUC score for Pipeline is 0.869.\n",
      "The difference in ROC AUC score for Pipeline is 0.105.\n",
      "\n",
      "The training recall score for Pipeline is 0.482.\n",
      "The testing recall score for Pipeline is 0.349.\n",
      "The difference in recall score for Pipeline is 0.133.\n",
      "\n"
     ]
    }
   ],
   "source": [
    "# eval knn cvec\n",
    "eval_metrics(cvec_knn)"
   ]
  },
  {
   "cell_type": "code",
   "execution_count": 42,
   "id": "ef179f01",
   "metadata": {},
   "outputs": [
    {
     "name": "stdout",
     "output_type": "stream",
     "text": [
      "The training accuracy score for Pipeline is 0.971.\n",
      "The testing accuracy score for Pipeline is 0.964.\n",
      "The difference in accuracy score for Pipeline is 0.007.\n",
      "\n",
      "The training ROC AUC score for Pipeline is 0.981.\n",
      "The testing ROC AUC score for Pipeline is 0.844.\n",
      "The difference in ROC AUC score for Pipeline is 0.137.\n",
      "\n",
      "The training recall score for Pipeline is 0.453.\n",
      "The testing recall score for Pipeline is 0.349.\n",
      "The difference in recall score for Pipeline is 0.104.\n",
      "\n"
     ]
    }
   ],
   "source": [
    "# eval knn tvec\n",
    "eval_metrics(tvec_knn)"
   ]
  },
  {
   "cell_type": "markdown",
   "id": "9b6ab47b",
   "metadata": {},
   "source": [
    "**Observation**: The ROC AUC score for both KNN with cvec and KNN with tvec is lower than the baseline model. This suggests that the KNN is not a good model for classifying between real and fake job ads, likely because of the imbalanced class."
   ]
  },
  {
   "cell_type": "markdown",
   "id": "e6deb687",
   "metadata": {},
   "source": [
    "### Summary of Model Results\n",
    "A summary of the models' scores is appended in the table below. \n",
    "\n",
    "Generally, there seem to be overfitting across all models except for the Multinomial Naive Bayes with tvec, as it has higher test score than train score indicating that it can generalize well to unseen data. However, the ROC AUC score for MNB with tvec is lower than that of the baseline model. Also, the recall score of MNB with tvec is 0. This is likely because of the imbalanced class, where the positives (fraudulent) are the minority class with only 4% data. This means that the MNB with tvec is not good at classifying positives.\n",
    "\n",
    "The top 2 models with the highest test ROC AUC score of 0.950 is the Logistic Regression with tvec and the Support Vector Classifier with tvec. Both models performed better than the baseline model (logreg with cvec). Comparing the recall scores, **Logistic Regression with tvec** has a higher recall score of 0.795. \n",
    "\n",
    "As this is an imbalanced class, we will try to perform Synthetic Minority Oversampling Technique (SMOTE) to fix the issue of imbalanced class and test against more models to see if we can obtain better results.\n",
    "\n",
    "| S/N | Model | Train Accuracy | Test Accuracy | Train ROC AUC | Test ROC AUC | Train Recall | Test Recall | \n",
    "|:---:|:---|:---|:---|:---|:---|:---|:---|\n",
    "| 1 | Logistic Regression with cvec       | 1.000 | 0.971 | 1.000 | 0.933 | 1.000 | 0.692 |\n",
    "| 2 | **Logistic Regression with tvec**   | 0.960 | 0.942 | 0.997 |**0.950**| 1.000 | 0.795 |\n",
    "| 3 | Support Vector Classifier with cvec | 1.000 | 0.971 | 1.000 | 0.925 | 1.000 | 0.637 |\n",
    "| 4 |**Support Vector Classifier with tvec**| 0.997 | 0.978 | 1.000 |**0.950**| 1.000 | 0.644 |\n",
    "| 5 | Extreme Gradient Boost with cvec    | 1.000 | 0.977 | 1.000 | 0.919 | 1.000 | 0.548 |\n",
    "| 6 | Extreme Gradient Boost with tvec    | 1.000 | 0.979 | 1.000 | 0.938 | 1.000 | 0.541 |\n",
    "| 7 | Multinomial Naive Bayes with cvec   | 0.974 | 0.969 | 0.925 | 0.875 | 0.400 | 0.274 |\n",
    "| 8 | Multinomial Naive Bayes with tvec   | 0.959 | 0.959 | 0.828 | 0.843 | 0.000 | 0.000 |\n",
    "| 9 | K Nearest Neighbors with cvec       | 0.975 | 0.967 | 0.974 | 0.869 | 0.482 | 0.349 |\n",
    "|10 | K Nearest Neighbors with tvec       | 0.971 | 0.964 | 0.981 | 0.844 | 0.453 | 0.349 |"
   ]
  },
  {
   "cell_type": "markdown",
   "id": "6d9960f1",
   "metadata": {},
   "source": [
    "## Data Modelling with SMOTE\n",
    "The Synthetic Minority Oversampling Technique (SMOTE) technique generates synthetic data for the minority class. SMOTE works by randomly picking a point from the minority class and computing the k-nearest neighbors for this point. The synthetic points are added between the chosen point and its neighbors [(source)](https://www.analyticsvidhya.com/blog/2020/07/10-techniques-to-deal-with-class-imbalance-in-machine-learning/).\n",
    "\n",
    "SMOTE algorithm works in 4 simple steps:\n",
    "1. Choose a minority class as the input vector\n",
    "2. Find its k nearest neighbors (k_neighbors is specified as an argument in the `SMOTE()` function)\n",
    "3. Choose one of these neighbors and place a synthetic point anywhere on the line joining the point under consideration and its chosen neighbor\n",
    "4. Repeat the steps until data is balanced"
   ]
  },
  {
   "cell_type": "markdown",
   "id": "c216bd8a",
   "metadata": {},
   "source": [
    "### Setting up SMOTE Pipelines"
   ]
  },
  {
   "cell_type": "code",
   "execution_count": 43,
   "id": "3ad1e0fe",
   "metadata": {},
   "outputs": [],
   "source": [
    "# create pipeline for logreg cvec with SMOTE\n",
    "pipe1_smote = pipeline([\n",
    "    ('transformer1', transformer1),\n",
    "    ('smote', SMOTE(random_state = 42)),\n",
    "    ('logreg', LogisticRegression(random_state = 42, class_weight = 'balanced', max_iter = 100_000))])"
   ]
  },
  {
   "cell_type": "code",
   "execution_count": 44,
   "id": "a338faab",
   "metadata": {},
   "outputs": [],
   "source": [
    "# create pipeline for logreg tvec with SMOTE\n",
    "pipe2_smote = pipeline([\n",
    "    ('transformer2', transformer2),\n",
    "    ('smote', SMOTE(random_state = 42)),\n",
    "    ('logreg', LogisticRegression(random_state = 42, class_weight = 'balanced', max_iter = 100_000))])"
   ]
  },
  {
   "cell_type": "code",
   "execution_count": 45,
   "id": "474b5868",
   "metadata": {},
   "outputs": [],
   "source": [
    "# create pipeline for svc cvec with SMOTE\n",
    "pipe3_smote = pipeline([\n",
    "    ('transformer1', transformer1),\n",
    "    ('smote', SMOTE(random_state = 42)),\n",
    "    ('svc', SVC(random_state = 42, class_weight = 'balanced', probability = True, \n",
    "                kernel = 'linear', max_iter = 100_000))])"
   ]
  },
  {
   "cell_type": "code",
   "execution_count": 46,
   "id": "d0067e6f",
   "metadata": {},
   "outputs": [],
   "source": [
    "# create pipeline for svc tvec with SMOTE\n",
    "pipe4_smote = pipeline([\n",
    "    ('transformer2', transformer2),\n",
    "    ('smote', SMOTE(random_state = 42)),\n",
    "    ('svc', SVC(random_state = 42, class_weight = 'balanced', probability = True, \n",
    "                kernel = 'linear', max_iter = 100_000))])"
   ]
  },
  {
   "cell_type": "code",
   "execution_count": 47,
   "id": "c340164b",
   "metadata": {},
   "outputs": [],
   "source": [
    "# create pipeline for xgb cvec with SMOTE\n",
    "pipe5_smote = pipeline([\n",
    "    ('transformer1', transformer1),\n",
    "    ('smote', SMOTE(random_state = 42)),\n",
    "    ('xgb', XGBClassifier(use_label_encoder = False, eval_metric = 'mlogloss', booster = 'gblinear'))])"
   ]
  },
  {
   "cell_type": "code",
   "execution_count": 48,
   "id": "51812358",
   "metadata": {},
   "outputs": [],
   "source": [
    "# create pipeline for xgb tvec with SMOTE\n",
    "pipe6_smote = pipeline([\n",
    "    ('transformer2', transformer2),\n",
    "    ('smote', SMOTE(random_state = 42)),\n",
    "    ('xgb', XGBClassifier(use_label_encoder = False, eval_metric = 'mlogloss', booster = 'gblinear'))])"
   ]
  },
  {
   "cell_type": "code",
   "execution_count": 49,
   "id": "a4fd0fb8",
   "metadata": {},
   "outputs": [],
   "source": [
    "# create pipeline for mnb cvec with SMOTE\n",
    "pipe7_smote = pipeline([\n",
    "    ('transformer1', transformer1),\n",
    "    ('smote', SMOTE(random_state = 42)),\n",
    "    ('mnb', MultinomialNB())])"
   ]
  },
  {
   "cell_type": "code",
   "execution_count": 50,
   "id": "f92ef39f",
   "metadata": {},
   "outputs": [],
   "source": [
    "# create pipeline for mnb tvec with SMOTE\n",
    "pipe8_smote = pipeline([\n",
    "    ('transformer2', transformer2),\n",
    "    ('smote', SMOTE(random_state = 42)),\n",
    "    ('mnb', MultinomialNB())])"
   ]
  },
  {
   "cell_type": "code",
   "execution_count": 51,
   "id": "bd5644e0",
   "metadata": {},
   "outputs": [],
   "source": [
    "# create pipeline for knn cvec with SMOTE\n",
    "pipe9_smote = pipeline([\n",
    "    ('transformer1', transformer1),\n",
    "    ('smote', SMOTE(random_state = 42)),\n",
    "    ('knn', KNeighborsClassifier())])"
   ]
  },
  {
   "cell_type": "code",
   "execution_count": 52,
   "id": "2d1782f1",
   "metadata": {},
   "outputs": [],
   "source": [
    "# create pipeline for knn tvec with SMOTE\n",
    "pipe10_smote = pipeline([\n",
    "    ('transformer2', transformer2),\n",
    "    ('smote', SMOTE(random_state = 42)),\n",
    "    ('knn', KNeighborsClassifier())])"
   ]
  },
  {
   "cell_type": "code",
   "execution_count": 53,
   "id": "2ecf7947",
   "metadata": {},
   "outputs": [],
   "source": [
    "# create pipeline for rf cvec with SMOTE\n",
    "pipe11_smote = pipeline([\n",
    "    ('transformer1', transformer1),\n",
    "    ('smote', SMOTE(random_state = 42)),\n",
    "    ('rf', RandomForestClassifier(random_state = 42))])"
   ]
  },
  {
   "cell_type": "code",
   "execution_count": 54,
   "id": "962fcd8b",
   "metadata": {},
   "outputs": [],
   "source": [
    "# create pipeline for rf tvec with SMOTE\n",
    "pipe12_smote = pipeline([\n",
    "    ('transformer2', transformer2),\n",
    "    ('smote', SMOTE(random_state = 42)),\n",
    "    ('rf', RandomForestClassifier(random_state = 42))])"
   ]
  },
  {
   "cell_type": "code",
   "execution_count": 55,
   "id": "5aed01f6",
   "metadata": {},
   "outputs": [],
   "source": [
    "# create pipeline for adaboost cvec with SMOTE\n",
    "pipe13_smote = pipeline([\n",
    "    ('transformer1', transformer1),\n",
    "    ('smote', SMOTE(random_state = 42)),\n",
    "    ('adab', AdaBoostClassifier(random_state = 42))])"
   ]
  },
  {
   "cell_type": "code",
   "execution_count": 56,
   "id": "14d04b46",
   "metadata": {},
   "outputs": [],
   "source": [
    "# create pipeline for adaboost tvec with SMOTE\n",
    "pipe14_smote = pipeline([\n",
    "    ('transformer2', transformer2),\n",
    "    ('smote', SMOTE(random_state = 42)),\n",
    "    ('adab', AdaBoostClassifier(random_state = 42))])"
   ]
  },
  {
   "cell_type": "markdown",
   "id": "c5fcc52c",
   "metadata": {},
   "source": [
    "### Setting Parameter Grids\n",
    "We then set the parameters for the pipelines so that we can tune the hyperparameters and try to improve the model performance. "
   ]
  },
  {
   "cell_type": "code",
   "execution_count": 57,
   "id": "fc9cde41",
   "metadata": {},
   "outputs": [],
   "source": [
    "# for logreg cvec\n",
    "param_grid1 = {\n",
    "    'transformer1__cvec__min_df': [0.005, 0.01, 0.015], \n",
    "    'transformer1__cvec__max_df': [0.5, 0.6, 0.7, 0.8],\n",
    "    'transformer1__cvec__ngram_range': [(1,1), (1,2), (1,3), (2,2), (2,3), (3,3)], \n",
    "    'logreg__C': [0.001, 0.01, 0.1, 1, 10, 100]}"
   ]
  },
  {
   "cell_type": "code",
   "execution_count": 58,
   "id": "321c5998",
   "metadata": {},
   "outputs": [],
   "source": [
    "# for logreg tvec\n",
    "param_grid2 = {\n",
    "    'transformer2__tvec__min_df': [0.005, 0.01, 0.015], \n",
    "    'transformer2__tvec__max_df': [0.5, 0.6, 0.7, 0.8],\n",
    "    'transformer2__tvec__ngram_range': [(1,1), (1,2), (1,3), (2,2), (2,3), (3,3)],\n",
    "    'transformer2__tvec__max_features': [500, 1000, 1500, 2000, 2500, 3000],\n",
    "    'logreg__C': [0.001, 0.01, 0.1, 1, 10, 100]}"
   ]
  },
  {
   "cell_type": "code",
   "execution_count": 59,
   "id": "fb14fb96",
   "metadata": {},
   "outputs": [],
   "source": [
    "# for xgb cvec\n",
    "param_grid5 = {\n",
    "    'transformer1__cvec__min_df': [0.003, 0.005, 0.01], \n",
    "    'transformer1__cvec__max_df': [0.5, 0.6, 0.7, 0.8],\n",
    "    'transformer1__cvec__ngram_range': [(1,1), (1,2), (1,3), (2,2), (2,3), (3,3)],\n",
    "    'xgb__n_estimators': [50, 100, 150, 200, 250, 300],\n",
    "    'xgb__learning_rate': [0.1, 0.2, 0.3, 0.5]}"
   ]
  },
  {
   "cell_type": "code",
   "execution_count": 60,
   "id": "229d6c90",
   "metadata": {},
   "outputs": [],
   "source": [
    "# for xgb tvec\n",
    "param_grid6 = {\n",
    "    'transformer2__tvec__min_df': [0.005, 0.01, 0.015], \n",
    "    'transformer2__tvec__max_df': [0.6, 0.7, 0.8],\n",
    "    'transformer2__tvec__ngram_range': [(1,2), (1,3), (2,2), (2,3), (3,3)],\n",
    "    'xgb__n_estimators': [50, 100, 150, 200, 250, 300],\n",
    "    'xgb__learning_rate': [0.01, 0.05, 0.1, 0.2, 0.3]}"
   ]
  },
  {
   "cell_type": "code",
   "execution_count": 61,
   "id": "f1b4cee6",
   "metadata": {},
   "outputs": [],
   "source": [
    "# for mnb cvec\n",
    "param_grid7 = {\n",
    "    'transformer1__cvec__min_df': [0.003, 0.005, 0.01], \n",
    "    'transformer1__cvec__max_df': [0.5, 0.6, 0.7, 0.8],\n",
    "    'transformer1__cvec__ngram_range': [(1, 1), (2, 2), (1, 2), (2, 3)],\n",
    "    'mnb__alpha': [0.001, 0.01, 0.1, 0.5, 1, 5, 10]}"
   ]
  },
  {
   "cell_type": "code",
   "execution_count": 62,
   "id": "2e59d033",
   "metadata": {},
   "outputs": [],
   "source": [
    "# for mnb tvec\n",
    "param_grid8 = {\n",
    "    'transformer2__tvec__min_df': [0.003, 0.005, 0.01], \n",
    "    'transformer2__tvec__max_df': [0.5, 0.6, 0.7, 0.8],\n",
    "    'transformer2__tvec__ngram_range': [(1, 1), (2, 2), (1, 2), (2, 3)],\n",
    "    'mnb__alpha': [0.001, 0.01, 0.1, 0.5, 1, 5, 10]}"
   ]
  },
  {
   "cell_type": "code",
   "execution_count": 63,
   "id": "457c6354",
   "metadata": {},
   "outputs": [],
   "source": [
    "# for knn cvec\n",
    "param_grid9 = {\n",
    "    'transformer1__cvec__min_df': [0.003, 0.005, 0.01], \n",
    "    'transformer1__cvec__max_df': [0.5, 0.6, 0.7, 0.8],\n",
    "    'transformer1__cvec__ngram_range': [(1, 1), (2, 2), (1, 2), (2, 3)],\n",
    "    'knn__n_neighbors': [5, 10, 15, 20, 25]}"
   ]
  },
  {
   "cell_type": "code",
   "execution_count": 64,
   "id": "9792eb8f",
   "metadata": {},
   "outputs": [],
   "source": [
    "# for knn tvec\n",
    "param_grid10 = {\n",
    "    'transformer2__tvec__min_df': [0.003, 0.005, 0.01], \n",
    "    'transformer2__tvec__max_df': [0.5, 0.6, 0.7, 0.8],\n",
    "    'transformer2__tvec__ngram_range': [(1, 1), (2, 2), (1, 2), (2, 3)],\n",
    "    'knn__n_neighbors': [5, 10, 15, 20, 25]}"
   ]
  },
  {
   "cell_type": "code",
   "execution_count": 65,
   "id": "41d505bc",
   "metadata": {},
   "outputs": [],
   "source": [
    "# for rf cvec\n",
    "param_grid11 = {\n",
    "    'transformer1__cvec__min_df': [0.005, 0.01, 0.015], \n",
    "    'transformer1__cvec__max_df': [0.6, 0.7],\n",
    "    'transformer1__cvec__ngram_range': [(1,2), (1,3), (2,2), (2,3)],\n",
    "    'rf__n_estimators': [150, 200, 250, 300]}"
   ]
  },
  {
   "cell_type": "code",
   "execution_count": 66,
   "id": "1c3507d9",
   "metadata": {},
   "outputs": [],
   "source": [
    "# for rf tvec\n",
    "param_grid12 = {\n",
    "    'transformer2__tvec__min_df': [0.005, 0.01, 0.015], \n",
    "    'transformer2__tvec__max_df': [0.6, 0.7],\n",
    "    'transformer2__tvec__ngram_range': [(1,2), (1,3), (2,2), (2,3)],\n",
    "    'rf__n_estimators': [150, 200, 250, 300]}"
   ]
  },
  {
   "cell_type": "code",
   "execution_count": 67,
   "id": "f26867bb",
   "metadata": {},
   "outputs": [],
   "source": [
    "# for adaboost cvec\n",
    "param_grid13 = {\n",
    "    'transformer1__cvec__min_df': [0.005, 0.01], \n",
    "    'transformer1__cvec__max_df': [0.6, 0.7],\n",
    "    'transformer1__cvec__ngram_range': [(1,2), (1,3), (2,3)],\n",
    "    'adab__n_estimators': [200, 250, 300]}"
   ]
  },
  {
   "cell_type": "code",
   "execution_count": 68,
   "id": "c1fe99b5",
   "metadata": {},
   "outputs": [],
   "source": [
    "# for adaboost tvec\n",
    "param_grid14 = {\n",
    "    'transformer2__tvec__min_df': [0.005, 0.01], \n",
    "    'transformer2__tvec__max_df': [0.6, 0.7],\n",
    "    'transformer2__tvec__ngram_range': [(1,2), (1,3), (2,3)],\n",
    "    'adab__n_estimators': [200, 250, 300]}"
   ]
  },
  {
   "cell_type": "markdown",
   "id": "fad8115a",
   "metadata": {},
   "source": [
    "### Baseline SMOTE Model \n",
    "We set the baseline SMOTE model to be a logistic regression model with cvec, and find the baseline ROC AUC score. The subsequent models that we select will have to outperform the baseline ROC AUC score."
   ]
  },
  {
   "cell_type": "code",
   "execution_count": 69,
   "id": "7c27ccd5",
   "metadata": {},
   "outputs": [
    {
     "name": "stdout",
     "output_type": "stream",
     "text": [
      "Time taken for LogReg cvec: 82.86s\n"
     ]
    }
   ],
   "source": [
    "# compute duration required to fit the model\n",
    "start = time()\n",
    "\n",
    "# instantiate and fit LogReg cvec SMOTE\n",
    "sm_cvec_logreg = RandomizedSearchCV(pipe1_smote, param_grid1, cv = 5, random_state = 42)\n",
    "sm_cvec_logreg.fit(X_train, y_train);\n",
    "\n",
    "end = time()\n",
    "print(f'Time taken for LogReg cvec:{end - start: .2f}s')"
   ]
  },
  {
   "cell_type": "code",
   "execution_count": 70,
   "id": "aa4f0075",
   "metadata": {},
   "outputs": [
    {
     "name": "stdout",
     "output_type": "stream",
     "text": [
      "The training accuracy score for RandomizedSearchCV is 1.000.\n",
      "The testing accuracy score for RandomizedSearchCV is 0.966.\n",
      "The difference in accuracy score for RandomizedSearchCV is 0.034.\n",
      "\n",
      "The training ROC AUC score for RandomizedSearchCV is 1.000.\n",
      "The testing ROC AUC score for RandomizedSearchCV is 0.925.\n",
      "The difference in ROC AUC score for RandomizedSearchCV is 0.075.\n",
      "\n",
      "The training recall score for RandomizedSearchCV is 1.000.\n",
      "The testing recall score for RandomizedSearchCV is 0.664.\n",
      "The difference in recall score for RandomizedSearchCV is 0.336.\n",
      "\n"
     ]
    }
   ],
   "source": [
    "# eval logreg cvec with SMOTE\n",
    "eval_metrics(sm_cvec_logreg)"
   ]
  },
  {
   "cell_type": "markdown",
   "id": "5421cc2a",
   "metadata": {},
   "source": [
    "**Observation**: The closer the ROC AUC score is to 1, the better the model. Our **baseline SMOTE model has a ROC AUC score is 0.925**, which is quite good. "
   ]
  },
  {
   "cell_type": "markdown",
   "id": "e4ba1c3b",
   "metadata": {},
   "source": [
    "### Model Fitting & Evaluation (SMOTE)"
   ]
  },
  {
   "cell_type": "markdown",
   "id": "f193912c",
   "metadata": {},
   "source": [
    "#### Logistic Regression"
   ]
  },
  {
   "cell_type": "code",
   "execution_count": 71,
   "id": "4237eb82",
   "metadata": {},
   "outputs": [
    {
     "name": "stdout",
     "output_type": "stream",
     "text": [
      "Time taken for LogReg tvec: 138.45s\n"
     ]
    }
   ],
   "source": [
    "# compute duration required to fit the model\n",
    "start = time()\n",
    "\n",
    "# instantiate and fit LogReg tvec SMOTE\n",
    "sm_tvec_logreg_best = RandomizedSearchCV(pipe2_smote, param_grid2, cv = 5, random_state = 42)\n",
    "sm_tvec_logreg_best.fit(X_train, y_train);\n",
    "\n",
    "end = time()\n",
    "print(f'Time taken for LogReg tvec:{end - start: .2f}s')"
   ]
  },
  {
   "cell_type": "code",
   "execution_count": 72,
   "id": "d2d20ff6",
   "metadata": {},
   "outputs": [
    {
     "name": "stdout",
     "output_type": "stream",
     "text": [
      "Logistic Regression:\n",
      "Logistic Regression with cvec best params: \n",
      " {'transformer1__cvec__ngram_range': (1, 1), 'transformer1__cvec__min_df': 0.005, 'transformer1__cvec__max_df': 0.8, 'logreg__C': 100}\n",
      "\n",
      "Logistic Regression with tvec best params: \n",
      " {'transformer2__tvec__ngram_range': (1, 1), 'transformer2__tvec__min_df': 0.01, 'transformer2__tvec__max_features': 2500, 'transformer2__tvec__max_df': 0.6, 'logreg__C': 1}\n",
      "\n"
     ]
    }
   ],
   "source": [
    "# get best parameters for LogReg SMOTE\n",
    "best_params('Logistic Regression', 'cvec', sm_cvec_logreg, 'tvec', sm_tvec_logreg_best)"
   ]
  },
  {
   "cell_type": "code",
   "execution_count": 73,
   "id": "b60a6055",
   "metadata": {},
   "outputs": [
    {
     "name": "stdout",
     "output_type": "stream",
     "text": [
      "The training accuracy score for RandomizedSearchCV is 0.961.\n",
      "The testing accuracy score for RandomizedSearchCV is 0.948.\n",
      "The difference in accuracy score for RandomizedSearchCV is 0.013.\n",
      "\n",
      "The training ROC AUC score for RandomizedSearchCV is 0.995.\n",
      "The testing ROC AUC score for RandomizedSearchCV is 0.946.\n",
      "The difference in ROC AUC score for RandomizedSearchCV is 0.050.\n",
      "\n",
      "The training recall score for RandomizedSearchCV is 0.991.\n",
      "The testing recall score for RandomizedSearchCV is 0.801.\n",
      "The difference in recall score for RandomizedSearchCV is 0.190.\n",
      "\n"
     ]
    }
   ],
   "source": [
    "# eval logreg tvec with SMOTE\n",
    "eval_metrics(sm_tvec_logreg_best)"
   ]
  },
  {
   "cell_type": "markdown",
   "id": "f3407131",
   "metadata": {},
   "source": [
    "**Observation**: The ROC AUC score for Logistic Regression with tvec (SMOTE) is 0.946, which is higher than the score of the baseline model. This indicates that `LogReg with tvec (SMOTE)` is probably a good model at classifying between real and fake job ads."
   ]
  },
  {
   "cell_type": "markdown",
   "id": "ccfe6a6c",
   "metadata": {},
   "source": [
    "#### Support Vector Classifier"
   ]
  },
  {
   "cell_type": "code",
   "execution_count": 74,
   "id": "a76aa77c",
   "metadata": {},
   "outputs": [],
   "source": [
    "# instantiate and fit svc smote models\n",
    "sm_cvec_svc = pipe3_smote.fit(X_train, y_train);\n",
    "sm_tvec_svc = pipe4_smote.fit(X_train, y_train);"
   ]
  },
  {
   "cell_type": "code",
   "execution_count": 75,
   "id": "50708370",
   "metadata": {},
   "outputs": [
    {
     "name": "stdout",
     "output_type": "stream",
     "text": [
      "The training accuracy score for Pipeline is 1.000.\n",
      "The testing accuracy score for Pipeline is 0.971.\n",
      "The difference in accuracy score for Pipeline is 0.029.\n",
      "\n",
      "The training ROC AUC score for Pipeline is 1.000.\n",
      "The testing ROC AUC score for Pipeline is 0.890.\n",
      "The difference in ROC AUC score for Pipeline is 0.110.\n",
      "\n",
      "The training recall score for Pipeline is 1.000.\n",
      "The testing recall score for Pipeline is 0.637.\n",
      "The difference in recall score for Pipeline is 0.363.\n",
      "\n"
     ]
    }
   ],
   "source": [
    "# eval svc cvec with SMOTE\n",
    "eval_metrics(sm_cvec_svc)"
   ]
  },
  {
   "cell_type": "code",
   "execution_count": 76,
   "id": "f53386a7",
   "metadata": {},
   "outputs": [
    {
     "name": "stdout",
     "output_type": "stream",
     "text": [
      "The training accuracy score for Pipeline is 0.999.\n",
      "The testing accuracy score for Pipeline is 0.978.\n",
      "The difference in accuracy score for Pipeline is 0.021.\n",
      "\n",
      "The training ROC AUC score for Pipeline is 1.000.\n",
      "The testing ROC AUC score for Pipeline is 0.897.\n",
      "The difference in ROC AUC score for Pipeline is 0.103.\n",
      "\n",
      "The training recall score for Pipeline is 1.000.\n",
      "The testing recall score for Pipeline is 0.630.\n",
      "The difference in recall score for Pipeline is 0.370.\n",
      "\n"
     ]
    }
   ],
   "source": [
    "# eval svc tvec with SMOTE\n",
    "eval_metrics(sm_tvec_svc)"
   ]
  },
  {
   "cell_type": "markdown",
   "id": "b5597497",
   "metadata": {},
   "source": [
    "**Observation**: The ROC AUC score for both SVC with cvec (SMOTE) and SVC with tvec (SMOTE) is lower than the baseline model. It seems like SVC model performed better at classifying between real and fake job ads when SMOTE was not performed to the dataset."
   ]
  },
  {
   "cell_type": "markdown",
   "id": "6198d3c5",
   "metadata": {},
   "source": [
    "#### Extreme Gradient Boost"
   ]
  },
  {
   "cell_type": "code",
   "execution_count": 77,
   "id": "e21f2fb9",
   "metadata": {},
   "outputs": [
    {
     "name": "stdout",
     "output_type": "stream",
     "text": [
      "Time taken for XGB cvec: 81.41s\n"
     ]
    }
   ],
   "source": [
    "# compute duration required to fit the model\n",
    "start = time()\n",
    "\n",
    "# instantiate and fit XGB cvec SMOTE\n",
    "sm_cvec_xgb_best = RandomizedSearchCV(pipe5_smote, param_grid5, cv = 5, random_state = 42)\n",
    "sm_cvec_xgb_best.fit(X_train, y_train);\n",
    "\n",
    "end = time()\n",
    "print(f'Time taken for XGB cvec:{end - start: .2f}s')"
   ]
  },
  {
   "cell_type": "code",
   "execution_count": 78,
   "id": "e80d8850",
   "metadata": {},
   "outputs": [
    {
     "name": "stdout",
     "output_type": "stream",
     "text": [
      "Time taken for XGB tvec: 111.08s\n"
     ]
    }
   ],
   "source": [
    "# compute duration required to fit the model\n",
    "start = time()\n",
    "\n",
    "# instantiate and fit XGB tvec SMOTE\n",
    "sm_tvec_xgb_best = RandomizedSearchCV(pipe6_smote, param_grid6, cv = 5, random_state = 42)\n",
    "sm_tvec_xgb_best.fit(X_train, y_train);\n",
    "\n",
    "end = time()\n",
    "print(f'Time taken for XGB tvec:{end - start: .2f}s')"
   ]
  },
  {
   "cell_type": "code",
   "execution_count": 79,
   "id": "843f0996",
   "metadata": {},
   "outputs": [
    {
     "name": "stdout",
     "output_type": "stream",
     "text": [
      "Extreme Gradient Boost:\n",
      "Extreme Gradient Boost with cvec best params: \n",
      " {'xgb__n_estimators': 50, 'xgb__learning_rate': 0.3, 'transformer1__cvec__ngram_range': (1, 2), 'transformer1__cvec__min_df': 0.005, 'transformer1__cvec__max_df': 0.7}\n",
      "\n",
      "Extreme Gradient Boost with tvec best params: \n",
      " {'xgb__n_estimators': 250, 'xgb__learning_rate': 0.1, 'transformer2__tvec__ngram_range': (1, 2), 'transformer2__tvec__min_df': 0.005, 'transformer2__tvec__max_df': 0.7}\n",
      "\n"
     ]
    }
   ],
   "source": [
    "# get best parameters for XGB SMOTE\n",
    "best_params('Extreme Gradient Boost', 'cvec', sm_cvec_xgb_best, 'tvec', sm_tvec_xgb_best)"
   ]
  },
  {
   "cell_type": "code",
   "execution_count": 80,
   "id": "73262ea7",
   "metadata": {},
   "outputs": [
    {
     "name": "stdout",
     "output_type": "stream",
     "text": [
      "The training accuracy score for RandomizedSearchCV is 1.000.\n",
      "The testing accuracy score for RandomizedSearchCV is 0.974.\n",
      "The difference in accuracy score for RandomizedSearchCV is 0.026.\n",
      "\n",
      "The training ROC AUC score for RandomizedSearchCV is 1.000.\n",
      "The testing ROC AUC score for RandomizedSearchCV is 0.917.\n",
      "The difference in ROC AUC score for RandomizedSearchCV is 0.083.\n",
      "\n",
      "The training recall score for RandomizedSearchCV is 1.000.\n",
      "The testing recall score for RandomizedSearchCV is 0.582.\n",
      "The difference in recall score for RandomizedSearchCV is 0.418.\n",
      "\n"
     ]
    }
   ],
   "source": [
    "# eval xgb cvec with SMOTE\n",
    "eval_metrics(sm_cvec_xgb_best)"
   ]
  },
  {
   "cell_type": "code",
   "execution_count": 81,
   "id": "3863f845",
   "metadata": {},
   "outputs": [
    {
     "name": "stdout",
     "output_type": "stream",
     "text": [
      "The training accuracy score for RandomizedSearchCV is 1.000.\n",
      "The testing accuracy score for RandomizedSearchCV is 0.978.\n",
      "The difference in accuracy score for RandomizedSearchCV is 0.022.\n",
      "\n",
      "The training ROC AUC score for RandomizedSearchCV is 1.000.\n",
      "The testing ROC AUC score for RandomizedSearchCV is 0.945.\n",
      "The difference in ROC AUC score for RandomizedSearchCV is 0.055.\n",
      "\n",
      "The training recall score for RandomizedSearchCV is 1.000.\n",
      "The testing recall score for RandomizedSearchCV is 0.610.\n",
      "The difference in recall score for RandomizedSearchCV is 0.390.\n",
      "\n"
     ]
    }
   ],
   "source": [
    "# eval xgb tvec with SMOTE\n",
    "eval_metrics(sm_tvec_xgb_best)"
   ]
  },
  {
   "cell_type": "markdown",
   "id": "62da7ac3",
   "metadata": {},
   "source": [
    "**Observation**: The ROC AUC score for XGB with cvec (SMOTE) is 0.917, lower than the baseline. The ROC AUC score for XGB with tvec (SMOTE) is 0.945, higher than the baseline score. This indicates that the `XGB with tvec (SMOTE)` is probably a good model at classifying between real and fake job ads."
   ]
  },
  {
   "cell_type": "markdown",
   "id": "5e8f305a",
   "metadata": {},
   "source": [
    "#### Multinomial Naive Bayes"
   ]
  },
  {
   "cell_type": "code",
   "execution_count": 82,
   "id": "cfef67c8",
   "metadata": {},
   "outputs": [
    {
     "name": "stdout",
     "output_type": "stream",
     "text": [
      "Time taken for MNB cvec: 58.81s\n"
     ]
    }
   ],
   "source": [
    "# compute duration required to fit the model\n",
    "start = time()\n",
    "\n",
    "# instantiate and fit MNB cvec SMOTE\n",
    "sm_cvec_mnb_best = RandomizedSearchCV(pipe7_smote, param_grid7, cv = 5, random_state = 42)\n",
    "sm_cvec_mnb_best.fit(X_train, y_train);\n",
    "\n",
    "end = time()\n",
    "print(f'Time taken for MNB cvec:{end - start: .2f}s')"
   ]
  },
  {
   "cell_type": "code",
   "execution_count": 83,
   "id": "14ec4231",
   "metadata": {},
   "outputs": [
    {
     "name": "stdout",
     "output_type": "stream",
     "text": [
      "Time taken for MNB tvec: 59.70s\n"
     ]
    }
   ],
   "source": [
    "# compute duration required to fit the model\n",
    "start = time()\n",
    "\n",
    "# instantiate and fit MNB tvec SMOTE\n",
    "sm_tvec_mnb_best = RandomizedSearchCV(pipe8_smote, param_grid8, cv = 5, random_state = 42)\n",
    "sm_tvec_mnb_best.fit(X_train, y_train);\n",
    "\n",
    "end = time()\n",
    "print(f'Time taken for MNB tvec:{end - start: .2f}s')"
   ]
  },
  {
   "cell_type": "code",
   "execution_count": 84,
   "id": "aee67f0b",
   "metadata": {},
   "outputs": [
    {
     "name": "stdout",
     "output_type": "stream",
     "text": [
      "Multinomial Naive Bayes:\n",
      "Multinomial Naive Bayes with cvec best params: \n",
      " {'transformer1__cvec__ngram_range': (1, 2), 'transformer1__cvec__min_df': 0.003, 'transformer1__cvec__max_df': 0.6, 'mnb__alpha': 0.1}\n",
      "\n",
      "Multinomial Naive Bayes with tvec best params: \n",
      " {'transformer2__tvec__ngram_range': (1, 2), 'transformer2__tvec__min_df': 0.005, 'transformer2__tvec__max_df': 0.8, 'mnb__alpha': 0.001}\n",
      "\n"
     ]
    }
   ],
   "source": [
    "# get best parameters for MNB SMOTE\n",
    "best_params('Multinomial Naive Bayes', 'cvec', sm_cvec_mnb_best, 'tvec', sm_tvec_mnb_best)"
   ]
  },
  {
   "cell_type": "code",
   "execution_count": 85,
   "id": "0e3bdc2e",
   "metadata": {},
   "outputs": [
    {
     "name": "stdout",
     "output_type": "stream",
     "text": [
      "The training accuracy score for RandomizedSearchCV is 0.962.\n",
      "The testing accuracy score for RandomizedSearchCV is 0.953.\n",
      "The difference in accuracy score for RandomizedSearchCV is 0.009.\n",
      "\n",
      "The training ROC AUC score for RandomizedSearchCV is 0.979.\n",
      "The testing ROC AUC score for RandomizedSearchCV is 0.923.\n",
      "The difference in ROC AUC score for RandomizedSearchCV is 0.056.\n",
      "\n",
      "The training recall score for RandomizedSearchCV is 0.876.\n",
      "The testing recall score for RandomizedSearchCV is 0.664.\n",
      "The difference in recall score for RandomizedSearchCV is 0.212.\n",
      "\n"
     ]
    }
   ],
   "source": [
    "# eval mnb cvec with SMOTE\n",
    "eval_metrics(sm_cvec_mnb_best)"
   ]
  },
  {
   "cell_type": "code",
   "execution_count": 86,
   "id": "a135ca4d",
   "metadata": {},
   "outputs": [
    {
     "name": "stdout",
     "output_type": "stream",
     "text": [
      "The training accuracy score for RandomizedSearchCV is 0.922.\n",
      "The testing accuracy score for RandomizedSearchCV is 0.922.\n",
      "The difference in accuracy score for RandomizedSearchCV is-0.000.\n",
      "\n",
      "The training ROC AUC score for RandomizedSearchCV is 0.946.\n",
      "The testing ROC AUC score for RandomizedSearchCV is 0.919.\n",
      "The difference in ROC AUC score for RandomizedSearchCV is 0.027.\n",
      "\n",
      "The training recall score for RandomizedSearchCV is 0.776.\n",
      "The testing recall score for RandomizedSearchCV is 0.712.\n",
      "The difference in recall score for RandomizedSearchCV is 0.064.\n",
      "\n"
     ]
    }
   ],
   "source": [
    "# eval mnb tvec with SMOTE\n",
    "eval_metrics(sm_tvec_mnb_best)"
   ]
  },
  {
   "cell_type": "markdown",
   "id": "a1c442da",
   "metadata": {},
   "source": [
    "**Observation**: The ROC AUC score for both MNB with cvec (SMOTE) and MNB with tvec (SMOTE) is lower than the baseline model. However, the scores have improved quite significantly after SMOTE was performed, indicating that MNB is able to quite accurately classify between real and fake job ads if the data was not imbalanced."
   ]
  },
  {
   "cell_type": "markdown",
   "id": "cfa9f5ba",
   "metadata": {},
   "source": [
    "#### K-Nearest Neighbors"
   ]
  },
  {
   "cell_type": "code",
   "execution_count": 87,
   "id": "12c63809",
   "metadata": {},
   "outputs": [
    {
     "name": "stdout",
     "output_type": "stream",
     "text": [
      "Time taken for KNN cvec: 95.82s\n"
     ]
    }
   ],
   "source": [
    "# compute duration required to fit the model\n",
    "start = time()\n",
    "\n",
    "# instantiate and fit KNN cvec SMOTE\n",
    "sm_cvec_knn_best = RandomizedSearchCV(pipe9_smote, param_grid9, cv = 5, random_state = 42)\n",
    "sm_cvec_knn_best.fit(X_train, y_train);\n",
    "\n",
    "end = time()\n",
    "print(f'Time taken for KNN cvec:{end - start: .2f}s')"
   ]
  },
  {
   "cell_type": "code",
   "execution_count": 88,
   "id": "51db23c2",
   "metadata": {},
   "outputs": [
    {
     "name": "stdout",
     "output_type": "stream",
     "text": [
      "Time taken for KNN tvec: 97.21s\n"
     ]
    }
   ],
   "source": [
    "# compute duration required to fit the model\n",
    "start = time()\n",
    "\n",
    "# instantiate and fit KNN tvec SMOTE\n",
    "sm_tvec_knn_best = RandomizedSearchCV(pipe10_smote, param_grid10, cv = 5, random_state = 42)\n",
    "sm_tvec_knn_best.fit(X_train, y_train);\n",
    "\n",
    "end = time()\n",
    "print(f'Time taken for KNN tvec:{end - start: .2f}s')"
   ]
  },
  {
   "cell_type": "code",
   "execution_count": 89,
   "id": "de35257f",
   "metadata": {},
   "outputs": [
    {
     "name": "stdout",
     "output_type": "stream",
     "text": [
      "K-Nearest Neighbors:\n",
      "K-Nearest Neighbors with cvec best params: \n",
      " {'transformer1__cvec__ngram_range': (2, 2), 'transformer1__cvec__min_df': 0.01, 'transformer1__cvec__max_df': 0.5, 'knn__n_neighbors': 5}\n",
      "\n",
      "K-Nearest Neighbors with tvec best params: \n",
      " {'transformer2__tvec__ngram_range': (2, 2), 'transformer2__tvec__min_df': 0.01, 'transformer2__tvec__max_df': 0.5, 'knn__n_neighbors': 5}\n",
      "\n"
     ]
    }
   ],
   "source": [
    "# get best parameters for KNN SMOTE\n",
    "best_params('K-Nearest Neighbors', 'cvec', sm_cvec_knn_best, 'tvec', sm_tvec_knn_best)"
   ]
  },
  {
   "cell_type": "code",
   "execution_count": 90,
   "id": "22a3ff62",
   "metadata": {},
   "outputs": [
    {
     "name": "stdout",
     "output_type": "stream",
     "text": [
      "The training accuracy score for RandomizedSearchCV is 0.927.\n",
      "The testing accuracy score for RandomizedSearchCV is 0.892.\n",
      "The difference in accuracy score for RandomizedSearchCV is 0.035.\n",
      "\n",
      "The training ROC AUC score for RandomizedSearchCV is 1.000.\n",
      "The testing ROC AUC score for RandomizedSearchCV is 0.877.\n",
      "The difference in ROC AUC score for RandomizedSearchCV is 0.123.\n",
      "\n",
      "The training recall score for RandomizedSearchCV is 1.000.\n",
      "The testing recall score for RandomizedSearchCV is 0.760.\n",
      "The difference in recall score for RandomizedSearchCV is 0.240.\n",
      "\n"
     ]
    }
   ],
   "source": [
    "# eval knn cvec with SMOTE\n",
    "eval_metrics(sm_cvec_knn_best)"
   ]
  },
  {
   "cell_type": "code",
   "execution_count": 91,
   "id": "fa517b28",
   "metadata": {},
   "outputs": [
    {
     "name": "stdout",
     "output_type": "stream",
     "text": [
      "The training accuracy score for RandomizedSearchCV is 0.928.\n",
      "The testing accuracy score for RandomizedSearchCV is 0.896.\n",
      "The difference in accuracy score for RandomizedSearchCV is 0.032.\n",
      "\n",
      "The training ROC AUC score for RandomizedSearchCV is 1.000.\n",
      "The testing ROC AUC score for RandomizedSearchCV is 0.862.\n",
      "The difference in ROC AUC score for RandomizedSearchCV is 0.137.\n",
      "\n",
      "The training recall score for RandomizedSearchCV is 1.000.\n",
      "The testing recall score for RandomizedSearchCV is 0.760.\n",
      "The difference in recall score for RandomizedSearchCV is 0.240.\n",
      "\n"
     ]
    }
   ],
   "source": [
    "# eval knn tvec with SMOTE\n",
    "eval_metrics(sm_tvec_knn_best)"
   ]
  },
  {
   "cell_type": "markdown",
   "id": "47f868b0",
   "metadata": {},
   "source": [
    "**Observation**: The ROC AUC score for both KNN with cvec (SMOTE) and KNN with tvec (SMOTE) is lower than the baseline model. However, the scores have improved after SMOTE was performed, indicating that KNN is able to quite accurately classify between real and fake job ads if the data was not imbalanced. "
   ]
  },
  {
   "cell_type": "markdown",
   "id": "4ccd4dd3",
   "metadata": {},
   "source": [
    "#### Random Forest"
   ]
  },
  {
   "cell_type": "code",
   "execution_count": 92,
   "id": "bd3a20a5",
   "metadata": {},
   "outputs": [
    {
     "name": "stdout",
     "output_type": "stream",
     "text": [
      "Time taken for RF cvec: 349.86s\n"
     ]
    }
   ],
   "source": [
    "# compute duration required to fit the model\n",
    "start = time()\n",
    "\n",
    "# instantiate and fit RF cvec SMOTE\n",
    "sm_cvec_rf_best = RandomizedSearchCV(pipe11_smote, param_grid11, cv = 5, random_state = 42)\n",
    "sm_cvec_rf_best.fit(X_train, y_train);\n",
    "\n",
    "end = time()\n",
    "print(f'Time taken for RF cvec:{end - start: .2f}s')"
   ]
  },
  {
   "cell_type": "code",
   "execution_count": 93,
   "id": "39092cb8",
   "metadata": {},
   "outputs": [
    {
     "name": "stdout",
     "output_type": "stream",
     "text": [
      "Time taken for RF tvec: 422.91s\n"
     ]
    }
   ],
   "source": [
    "# compute duration required to fit the model\n",
    "start = time()\n",
    "\n",
    "# instantiate and fit RF tvec SMOTE\n",
    "sm_tvec_rf_best = RandomizedSearchCV(pipe12_smote, param_grid12, cv = 5, random_state = 42)\n",
    "sm_tvec_rf_best.fit(X_train, y_train);\n",
    "\n",
    "end = time()\n",
    "print(f'Time taken for RF tvec:{end - start: .2f}s')"
   ]
  },
  {
   "cell_type": "code",
   "execution_count": 94,
   "id": "10b6be74",
   "metadata": {},
   "outputs": [
    {
     "name": "stdout",
     "output_type": "stream",
     "text": [
      "Random Forest:\n",
      "Random Forest with cvec best params: \n",
      " {'transformer1__cvec__ngram_range': (2, 2), 'transformer1__cvec__min_df': 0.01, 'transformer1__cvec__max_df': 0.7, 'rf__n_estimators': 200}\n",
      "\n",
      "Random Forest with tvec best params: \n",
      " {'transformer2__tvec__ngram_range': (1, 2), 'transformer2__tvec__min_df': 0.005, 'transformer2__tvec__max_df': 0.6, 'rf__n_estimators': 150}\n",
      "\n"
     ]
    }
   ],
   "source": [
    "# get best parameters for RF SMOTE\n",
    "best_params('Random Forest', 'cvec', sm_cvec_rf_best, 'tvec', sm_tvec_rf_best)"
   ]
  },
  {
   "cell_type": "code",
   "execution_count": 95,
   "id": "71bedaa8",
   "metadata": {},
   "outputs": [
    {
     "name": "stdout",
     "output_type": "stream",
     "text": [
      "The training accuracy score for RandomizedSearchCV is 1.000.\n",
      "The testing accuracy score for RandomizedSearchCV is 0.975.\n",
      "The difference in accuracy score for RandomizedSearchCV is 0.025.\n",
      "\n",
      "The training ROC AUC score for RandomizedSearchCV is 1.000.\n",
      "The testing ROC AUC score for RandomizedSearchCV is 0.951.\n",
      "The difference in ROC AUC score for RandomizedSearchCV is 0.049.\n",
      "\n",
      "The training recall score for RandomizedSearchCV is 1.000.\n",
      "The testing recall score for RandomizedSearchCV is 0.459.\n",
      "The difference in recall score for RandomizedSearchCV is 0.541.\n",
      "\n"
     ]
    }
   ],
   "source": [
    "# eval rf cvec with SMOTE\n",
    "eval_metrics(sm_cvec_rf_best)"
   ]
  },
  {
   "cell_type": "code",
   "execution_count": 96,
   "id": "03bf7119",
   "metadata": {},
   "outputs": [
    {
     "name": "stdout",
     "output_type": "stream",
     "text": [
      "The training accuracy score for RandomizedSearchCV is 1.000.\n",
      "The testing accuracy score for RandomizedSearchCV is 0.977.\n",
      "The difference in accuracy score for RandomizedSearchCV is 0.023.\n",
      "\n",
      "The training ROC AUC score for RandomizedSearchCV is 1.000.\n",
      "The testing ROC AUC score for RandomizedSearchCV is 0.950.\n",
      "The difference in ROC AUC score for RandomizedSearchCV is 0.050.\n",
      "\n",
      "The training recall score for RandomizedSearchCV is 1.000.\n",
      "The testing recall score for RandomizedSearchCV is 0.466.\n",
      "The difference in recall score for RandomizedSearchCV is 0.534.\n",
      "\n"
     ]
    }
   ],
   "source": [
    "# eval rf tvec with SMOTE\n",
    "eval_metrics(sm_tvec_rf_best)"
   ]
  },
  {
   "cell_type": "markdown",
   "id": "93e96136",
   "metadata": {},
   "source": [
    "**Observation**: The ROC AUC score for both Random Forest with cvec (SMOTE) and Random Forest with tvec (SMOTE) are higher than the baseline score, indicating that the `Random Forest` is good at classifying between real and fake job ads."
   ]
  },
  {
   "cell_type": "markdown",
   "id": "c802e92d",
   "metadata": {},
   "source": [
    "#### AdaBoost"
   ]
  },
  {
   "cell_type": "code",
   "execution_count": 97,
   "id": "37c9b8fa",
   "metadata": {},
   "outputs": [
    {
     "name": "stdout",
     "output_type": "stream",
     "text": [
      "Time taken for AdaBoost cvec: 423.01s\n"
     ]
    }
   ],
   "source": [
    "# compute duration required to fit the model\n",
    "start = time()\n",
    "\n",
    "# instantiate and fit adaboost cvec SMOTE\n",
    "sm_cvec_ada_best = RandomizedSearchCV(pipe13_smote, param_grid13, cv = 3, random_state = 42)\n",
    "sm_cvec_ada_best.fit(X_train, y_train);\n",
    "\n",
    "end = time()\n",
    "print(f'Time taken for AdaBoost cvec:{end - start: .2f}s')"
   ]
  },
  {
   "cell_type": "code",
   "execution_count": 98,
   "id": "c5f05d9b",
   "metadata": {},
   "outputs": [
    {
     "name": "stdout",
     "output_type": "stream",
     "text": [
      "Time taken for AdaBoost cvec: 750.72s\n"
     ]
    }
   ],
   "source": [
    "# compute duration required to fit the model\n",
    "start = time()\n",
    "\n",
    "# instantiate and fit adaboost tvec SMOTE\n",
    "sm_tvec_ada_best = RandomizedSearchCV(pipe14_smote, param_grid14, cv = 3, random_state = 42)\n",
    "sm_tvec_ada_best.fit(X_train, y_train);\n",
    "\n",
    "end = time()\n",
    "print(f'Time taken for AdaBoost tvec:{end - start: .2f}s')"
   ]
  },
  {
   "cell_type": "code",
   "execution_count": 99,
   "id": "76005145",
   "metadata": {},
   "outputs": [
    {
     "name": "stdout",
     "output_type": "stream",
     "text": [
      "AdaBoost:\n",
      "AdaBoost with cvec best params: \n",
      " {'transformer1__cvec__ngram_range': (1, 3), 'transformer1__cvec__min_df': 0.005, 'transformer1__cvec__max_df': 0.6, 'adab__n_estimators': 250}\n",
      "\n",
      "AdaBoost with tvec best params: \n",
      " {'transformer2__tvec__ngram_range': (1, 2), 'transformer2__tvec__min_df': 0.005, 'transformer2__tvec__max_df': 0.7, 'adab__n_estimators': 300}\n",
      "\n"
     ]
    }
   ],
   "source": [
    "# get best parameters for adaboost SMOTE\n",
    "best_params('AdaBoost', 'cvec', sm_cvec_ada_best, 'tvec', sm_tvec_ada_best)"
   ]
  },
  {
   "cell_type": "code",
   "execution_count": 100,
   "id": "dde32798",
   "metadata": {},
   "outputs": [
    {
     "name": "stdout",
     "output_type": "stream",
     "text": [
      "The training accuracy score for RandomizedSearchCV is 0.990.\n",
      "The testing accuracy score for RandomizedSearchCV is 0.969.\n",
      "The difference in accuracy score for RandomizedSearchCV is 0.022.\n",
      "\n",
      "The training ROC AUC score for RandomizedSearchCV is 0.998.\n",
      "The testing ROC AUC score for RandomizedSearchCV is 0.939.\n",
      "The difference in ROC AUC score for RandomizedSearchCV is 0.059.\n",
      "\n",
      "The training recall score for RandomizedSearchCV is 0.818.\n",
      "The testing recall score for RandomizedSearchCV is 0.568.\n",
      "The difference in recall score for RandomizedSearchCV is 0.249.\n",
      "\n"
     ]
    }
   ],
   "source": [
    "# eval adaboost cvec with SMOTE\n",
    "eval_metrics(sm_cvec_ada_best)"
   ]
  },
  {
   "cell_type": "code",
   "execution_count": 101,
   "id": "d427204e",
   "metadata": {},
   "outputs": [
    {
     "name": "stdout",
     "output_type": "stream",
     "text": [
      "The training accuracy score for RandomizedSearchCV is 0.999.\n",
      "The testing accuracy score for RandomizedSearchCV is 0.972.\n",
      "The difference in accuracy score for RandomizedSearchCV is 0.027.\n",
      "\n",
      "The training ROC AUC score for RandomizedSearchCV is 1.000.\n",
      "The testing ROC AUC score for RandomizedSearchCV is 0.906.\n",
      "The difference in ROC AUC score for RandomizedSearchCV is 0.094.\n",
      "\n",
      "The training recall score for RandomizedSearchCV is 0.976.\n",
      "The testing recall score for RandomizedSearchCV is 0.582.\n",
      "The difference in recall score for RandomizedSearchCV is 0.394.\n",
      "\n"
     ]
    }
   ],
   "source": [
    "# eval adaboost tvec with SMOTE\n",
    "eval_metrics(sm_tvec_ada_best)"
   ]
  },
  {
   "cell_type": "markdown",
   "id": "bfe09239",
   "metadata": {},
   "source": [
    "**Observation**: The ROC AUC score for AdaBoost with cvec (SMOTE) is 0.939, higher than the baseline while the ROC AUC score for AdaBoost with tvec (SMOTE) is 0.906, lower than the baseline score. This indicates that the `AdaBoost with cvec (SMOTE)` is probably a good model at classifying between real and fake job ads."
   ]
  },
  {
   "cell_type": "markdown",
   "id": "169c2137",
   "metadata": {},
   "source": [
    "### Summary of Model Results (SMOTE) \n",
    "\n",
    "A summary of the models' scores is appended in the table below. \n",
    "\n",
    "There seem to be overfitting across all models as the train scores are higher than the test scores. Generally, the performance of the models have also improved after SMOTE is performed. The top 2 models with the highest test ROC AUC score is the Random Forest with cvec at 0.951, followed by the Random Forest with tvec at 0.950. However, the recall scores for both models are below 0.5 and this is not ideal. If the recall score is low, it means that the model is not good at predicting fraudulent (positives) jobs but the objective of the classifier is to correctly identify fraudulent (positives) jobs. The next best model is the Logistic Regression with tvec at 0.946. It also have the highest recall score of 0.801 across all other models, which means that it can predict the positive classes correctly 80% of the time. Hence, the model that we selected is the **Logistic Regression with tvec (SMOTE)**.\n",
    "\n",
    "| S/N | Model | Train Accuracy | Test Accuracy | Train ROC AUC | Test ROC AUC | Train Recall | Test Recall | \n",
    "|:---:|:---|:---|:---|:---|:---|:---|:---|\n",
    "| 1 | Logistic Regression with cvec       | 1.000 | 0.966 | 1.000 | 0.925 | 1.000 | 0.664 |\n",
    "| 2 | **Logistic Regression with tvec**   | 0.961 | 0.948 | 0.995 |**0.946**| 0.991 | **0.801** |\n",
    "| 3 | Support Vector Classifier with cvec | 1.000 | 0.971 | 1.000 | 0.890 | 1.000 | 0.637 |\n",
    "| 4 | Support Vector Classifier with tvec | 0.999 | 0.978 | 1.000 | 0.897 | 1.000 | 0.630 |\n",
    "| 5 | Extreme Gradient Boost with cvec    | 1.000 | 0.974 | 1.000 | 0.917 | 1.000 | 0.582 |\n",
    "| 6 | **Extreme Gradient Boost with tvec**| 1.000 | 0.978 | 1.000 |**0.945**| 1.000 | 0.610 |\n",
    "| 7 | Multinomial Naive Bayes with cvec   | 0.962 | 0.953 | 0.979 | 0.923 | 0.876 | 0.664 |\n",
    "| 8 | Multinomial Naive Bayes with tvec   | 0.922 | 0.922 | 0.946 | 0.919 | 0.776 | 0.712 |\n",
    "| 9 | K Nearest Neighbors with cvec       | 0.927 | 0.892 | 1.000 | 0.877 | 1.000 | 0.760 |\n",
    "|10 | K Nearest Neighbors with tvec       | 0.928 | 0.896 | 1.000 | 0.862 | 1.000 | 0.760 |\n",
    "|11 | **Random Forest with cvec**         | 1.000 | 0.975 | 1.000 |**0.951**| 1.000 | 0.459 |\n",
    "|12 | **Random Forest with tvec**         | 1.000 | 0.977 | 1.000 |**0.950**| 1.000 | 0.466 |\n",
    "|13 | AdaBoost with cvec                  | 0.990 | 0.969 | 0.998 | 0.939 | 0.818 | 0.568 |\n",
    "|14 | AdaBoost with tvec                  | 0.999 | 0.972 | 1.000 | 0.906 | 0.976 | 0.582 |"
   ]
  },
  {
   "cell_type": "markdown",
   "id": "af8c09bf",
   "metadata": {},
   "source": [
    "## Model Selection\n",
    "The selected model is the Logistic Regression with tvec, after SMOTE to solve the issue of imbalanced class. "
   ]
  },
  {
   "cell_type": "markdown",
   "id": "685a97d6",
   "metadata": {},
   "source": [
    "### Feature Importance for Logistic Regression with tvec"
   ]
  },
  {
   "cell_type": "code",
   "execution_count": 102,
   "id": "011671a8",
   "metadata": {},
   "outputs": [],
   "source": [
    "# store the selected model as best_model\n",
    "best_model = sm_tvec_logreg_best.best_estimator_"
   ]
  },
  {
   "cell_type": "code",
   "execution_count": 103,
   "id": "1730569d",
   "metadata": {},
   "outputs": [
    {
     "data": {
      "text/plain": [
       "ColumnTransformer(remainder='passthrough',\n",
       "                  transformers=[('tvec',\n",
       "                                 TfidfVectorizer(max_df=0.6, max_features=2500,\n",
       "                                                 min_df=0.01),\n",
       "                                 'text_lemma'),\n",
       "                                ('ss', StandardScaler(with_mean=False),\n",
       "                                 Index(['has_company_logo', 'has_questions', 'word_length',\n",
       "       'required_experience_Associate', 'required_experience_Director',\n",
       "       'required_experience_Entry level', 'required_experience_Exe...\n",
       "       'industry_grp_Marketing/Advertising', 'industry_grp_Oil & Energy',\n",
       "       'industry_grp_Others', 'industry_grp_Public Admin',\n",
       "       'industry_grp_Real Estate', 'industry_grp_Scientific R&D',\n",
       "       'industry_grp_Security and Investigations',\n",
       "       'industry_grp_Social Services', 'industry_grp_Telecommunications',\n",
       "       'industry_grp_Transportation & Storage',\n",
       "       'industry_grp_Wholesale/Retail'],\n",
       "      dtype='object'))])"
      ]
     },
     "execution_count": 103,
     "metadata": {},
     "output_type": "execute_result"
    }
   ],
   "source": [
    "# extract the best model's ColumnTransformer\n",
    "best_model_vec = best_model.named_steps['transformer2']\n",
    "best_model_vec"
   ]
  },
  {
   "cell_type": "code",
   "execution_count": 104,
   "id": "e2211a03",
   "metadata": {},
   "outputs": [
    {
     "data": {
      "text/plain": [
       "LogisticRegression(C=1, class_weight='balanced', max_iter=100000,\n",
       "                   random_state=42)"
      ]
     },
     "execution_count": 104,
     "metadata": {},
     "output_type": "execute_result"
    }
   ],
   "source": [
    "# extract the best model\n",
    "best_model_lr = best_model.named_steps['logreg']\n",
    "best_model_lr"
   ]
  },
  {
   "cell_type": "code",
   "execution_count": 105,
   "id": "d9b50e53",
   "metadata": {},
   "outputs": [
    {
     "data": {
      "text/html": [
       "<div>\n",
       "<style scoped>\n",
       "    .dataframe tbody tr th:only-of-type {\n",
       "        vertical-align: middle;\n",
       "    }\n",
       "\n",
       "    .dataframe tbody tr th {\n",
       "        vertical-align: top;\n",
       "    }\n",
       "\n",
       "    .dataframe thead th {\n",
       "        text-align: right;\n",
       "    }\n",
       "</style>\n",
       "<table border=\"1\" class=\"dataframe\">\n",
       "  <thead>\n",
       "    <tr style=\"text-align: right;\">\n",
       "      <th></th>\n",
       "      <th>0</th>\n",
       "    </tr>\n",
       "  </thead>\n",
       "  <tbody>\n",
       "    <tr>\n",
       "      <th>0</th>\n",
       "      <td>1.969423</td>\n",
       "    </tr>\n",
       "    <tr>\n",
       "      <th>1</th>\n",
       "      <td>-0.371408</td>\n",
       "    </tr>\n",
       "    <tr>\n",
       "      <th>2</th>\n",
       "      <td>-0.739036</td>\n",
       "    </tr>\n",
       "    <tr>\n",
       "      <th>3</th>\n",
       "      <td>-0.531399</td>\n",
       "    </tr>\n",
       "    <tr>\n",
       "      <th>4</th>\n",
       "      <td>-0.446469</td>\n",
       "    </tr>\n",
       "  </tbody>\n",
       "</table>\n",
       "</div>"
      ],
      "text/plain": [
       "          0\n",
       "0  1.969423\n",
       "1 -0.371408\n",
       "2 -0.739036\n",
       "3 -0.531399\n",
       "4 -0.446469"
      ]
     },
     "execution_count": 105,
     "metadata": {},
     "output_type": "execute_result"
    }
   ],
   "source": [
    "# store the coefficients of the best model as a dataframe\n",
    "lr_coefs = pd.DataFrame(best_model_lr.coef_)\n",
    "lr_coefs = lr_coefs.T\n",
    "lr_coefs.head()"
   ]
  },
  {
   "cell_type": "code",
   "execution_count": 106,
   "id": "1a9f284a",
   "metadata": {},
   "outputs": [
    {
     "data": {
      "text/html": [
       "<div>\n",
       "<style scoped>\n",
       "    .dataframe tbody tr th:only-of-type {\n",
       "        vertical-align: middle;\n",
       "    }\n",
       "\n",
       "    .dataframe tbody tr th {\n",
       "        vertical-align: top;\n",
       "    }\n",
       "\n",
       "    .dataframe thead th {\n",
       "        text-align: right;\n",
       "    }\n",
       "</style>\n",
       "<table border=\"1\" class=\"dataframe\">\n",
       "  <thead>\n",
       "    <tr style=\"text-align: right;\">\n",
       "      <th></th>\n",
       "      <th>0</th>\n",
       "      <th>features</th>\n",
       "    </tr>\n",
       "  </thead>\n",
       "  <tbody>\n",
       "    <tr>\n",
       "      <th>0</th>\n",
       "      <td>1.969423</td>\n",
       "      <td>ability</td>\n",
       "    </tr>\n",
       "    <tr>\n",
       "      <th>1</th>\n",
       "      <td>-0.371408</td>\n",
       "      <td>abroad</td>\n",
       "    </tr>\n",
       "    <tr>\n",
       "      <th>2</th>\n",
       "      <td>-0.739036</td>\n",
       "      <td>ac</td>\n",
       "    </tr>\n",
       "    <tr>\n",
       "      <th>3</th>\n",
       "      <td>-0.531399</td>\n",
       "      <td>academic</td>\n",
       "    </tr>\n",
       "    <tr>\n",
       "      <th>4</th>\n",
       "      <td>-0.446469</td>\n",
       "      <td>accept</td>\n",
       "    </tr>\n",
       "  </tbody>\n",
       "</table>\n",
       "</div>"
      ],
      "text/plain": [
       "          0  features\n",
       "0  1.969423   ability\n",
       "1 -0.371408    abroad\n",
       "2 -0.739036        ac\n",
       "3 -0.531399  academic\n",
       "4 -0.446469    accept"
      ]
     },
     "execution_count": 106,
     "metadata": {},
     "output_type": "execute_result"
    }
   ],
   "source": [
    "# get the feature names of the best model\n",
    "text = [w for w in best_model_vec.named_transformers_['tvec'].get_feature_names()]\n",
    "best_model_features = (text + [c for c in X.columns if c!= 'text_lemma'])\n",
    "lr_coefs['features'] = best_model_features\n",
    "lr_coefs.head()"
   ]
  },
  {
   "cell_type": "code",
   "execution_count": 107,
   "id": "a0f1cdab",
   "metadata": {},
   "outputs": [],
   "source": [
    "# rename the column names\n",
    "lr_coefs.columns = ['Coefficients', 'Features']"
   ]
  },
  {
   "cell_type": "code",
   "execution_count": 108,
   "id": "8a217ac5",
   "metadata": {},
   "outputs": [
    {
     "data": {
      "text/html": [
       "<div>\n",
       "<style scoped>\n",
       "    .dataframe tbody tr th:only-of-type {\n",
       "        vertical-align: middle;\n",
       "    }\n",
       "\n",
       "    .dataframe tbody tr th {\n",
       "        vertical-align: top;\n",
       "    }\n",
       "\n",
       "    .dataframe thead th {\n",
       "        text-align: right;\n",
       "    }\n",
       "</style>\n",
       "<table border=\"1\" class=\"dataframe\">\n",
       "  <thead>\n",
       "    <tr style=\"text-align: right;\">\n",
       "      <th></th>\n",
       "      <th>Coefficients</th>\n",
       "      <th>Features</th>\n",
       "    </tr>\n",
       "  </thead>\n",
       "  <tbody>\n",
       "    <tr>\n",
       "      <th>605</th>\n",
       "      <td>4.290443</td>\n",
       "      <td>engineering</td>\n",
       "    </tr>\n",
       "    <tr>\n",
       "      <th>623</th>\n",
       "      <td>4.210568</td>\n",
       "      <td>entry</td>\n",
       "    </tr>\n",
       "    <tr>\n",
       "      <th>1822</th>\n",
       "      <td>4.128636</td>\n",
       "      <td>term</td>\n",
       "    </tr>\n",
       "    <tr>\n",
       "      <th>141</th>\n",
       "      <td>4.029955</td>\n",
       "      <td>assistant</td>\n",
       "    </tr>\n",
       "    <tr>\n",
       "      <th>1314</th>\n",
       "      <td>3.919406</td>\n",
       "      <td>phone</td>\n",
       "    </tr>\n",
       "    <tr>\n",
       "      <th>240</th>\n",
       "      <td>3.721863</td>\n",
       "      <td>call</td>\n",
       "    </tr>\n",
       "    <tr>\n",
       "      <th>1148</th>\n",
       "      <td>3.616886</td>\n",
       "      <td>money</td>\n",
       "    </tr>\n",
       "    <tr>\n",
       "      <th>857</th>\n",
       "      <td>3.411195</td>\n",
       "      <td>hotel</td>\n",
       "    </tr>\n",
       "    <tr>\n",
       "      <th>893</th>\n",
       "      <td>3.357085</td>\n",
       "      <td>income</td>\n",
       "    </tr>\n",
       "    <tr>\n",
       "      <th>529</th>\n",
       "      <td>3.269298</td>\n",
       "      <td>director</td>\n",
       "    </tr>\n",
       "    <tr>\n",
       "      <th>742</th>\n",
       "      <td>3.240333</td>\n",
       "      <td>food</td>\n",
       "    </tr>\n",
       "    <tr>\n",
       "      <th>1785</th>\n",
       "      <td>3.189776</td>\n",
       "      <td>supplier</td>\n",
       "    </tr>\n",
       "    <tr>\n",
       "      <th>1400</th>\n",
       "      <td>3.144874</td>\n",
       "      <td>product</td>\n",
       "    </tr>\n",
       "    <tr>\n",
       "      <th>333</th>\n",
       "      <td>3.051971</td>\n",
       "      <td>commitment</td>\n",
       "    </tr>\n",
       "    <tr>\n",
       "      <th>1609</th>\n",
       "      <td>2.999990</td>\n",
       "      <td>school</td>\n",
       "    </tr>\n",
       "    <tr>\n",
       "      <th>1814</th>\n",
       "      <td>2.999545</td>\n",
       "      <td>technical</td>\n",
       "    </tr>\n",
       "    <tr>\n",
       "      <th>1298</th>\n",
       "      <td>2.968169</td>\n",
       "      <td>people</td>\n",
       "    </tr>\n",
       "    <tr>\n",
       "      <th>1644</th>\n",
       "      <td>2.835235</td>\n",
       "      <td>service</td>\n",
       "    </tr>\n",
       "    <tr>\n",
       "      <th>42</th>\n",
       "      <td>2.819034</td>\n",
       "      <td>administrative</td>\n",
       "    </tr>\n",
       "    <tr>\n",
       "      <th>282</th>\n",
       "      <td>2.801044</td>\n",
       "      <td>chef</td>\n",
       "    </tr>\n",
       "  </tbody>\n",
       "</table>\n",
       "</div>"
      ],
      "text/plain": [
       "      Coefficients        Features\n",
       "605       4.290443     engineering\n",
       "623       4.210568           entry\n",
       "1822      4.128636            term\n",
       "141       4.029955       assistant\n",
       "1314      3.919406           phone\n",
       "240       3.721863            call\n",
       "1148      3.616886           money\n",
       "857       3.411195           hotel\n",
       "893       3.357085          income\n",
       "529       3.269298        director\n",
       "742       3.240333            food\n",
       "1785      3.189776        supplier\n",
       "1400      3.144874         product\n",
       "333       3.051971      commitment\n",
       "1609      2.999990          school\n",
       "1814      2.999545       technical\n",
       "1298      2.968169          people\n",
       "1644      2.835235         service\n",
       "42        2.819034  administrative\n",
       "282       2.801044            chef"
      ]
     },
     "execution_count": 108,
     "metadata": {},
     "output_type": "execute_result"
    }
   ],
   "source": [
    "# top 20 features in predicting fake jobs (fraudulent = 1)\n",
    "top_pos_coefs = lr_coefs.sort_values(by = 'Coefficients', ascending = False).head(20)\n",
    "top_pos_coefs"
   ]
  },
  {
   "cell_type": "code",
   "execution_count": 109,
   "id": "0d767b08",
   "metadata": {},
   "outputs": [
    {
     "data": {
      "image/png": "[encoded data removed]",
      "text/plain": [
       "<Figure size 720x432 with 1 Axes>"
      ]
     },
     "metadata": {
      "needs_background": "light"
     },
     "output_type": "display_data"
    }
   ],
   "source": [
    "# plot barchart on top 20 features predicting fake jobs (fraudulent = 1)\n",
    "plt.figure(figsize = (10, 6))\n",
    "sns.barplot(data = top_pos_coefs, x = 'Coefficients', y = 'Features', palette = 'coolwarm')\n",
    "plt.title('Top 15 Features Predicting Fake Jobs', fontweight = 'bold', fontsize = 15)\n",
    "plt.xlabel('Coefficients');"
   ]
  },
  {
   "cell_type": "markdown",
   "id": "a7e5d809",
   "metadata": {},
   "source": [
    "**Observation**: Aligned with our EDA, fake jobs are commonly from the engineering field and involve jobs that are simpler, e.g. data entry (as seen by #2 feature `entry`) and administrative assistant (as seen by #4 feature `assistant` and #19 feature `administrative`)."
   ]
  },
  {
   "cell_type": "code",
   "execution_count": 110,
   "id": "b48b9977",
   "metadata": {},
   "outputs": [
    {
     "data": {
      "text/html": [
       "<div>\n",
       "<style scoped>\n",
       "    .dataframe tbody tr th:only-of-type {\n",
       "        vertical-align: middle;\n",
       "    }\n",
       "\n",
       "    .dataframe tbody tr th {\n",
       "        vertical-align: top;\n",
       "    }\n",
       "\n",
       "    .dataframe thead th {\n",
       "        text-align: right;\n",
       "    }\n",
       "</style>\n",
       "<table border=\"1\" class=\"dataframe\">\n",
       "  <thead>\n",
       "    <tr style=\"text-align: right;\">\n",
       "      <th></th>\n",
       "      <th>Coefficients</th>\n",
       "      <th>Features</th>\n",
       "    </tr>\n",
       "  </thead>\n",
       "  <tbody>\n",
       "    <tr>\n",
       "      <th>1959</th>\n",
       "      <td>-4.587777</td>\n",
       "      <td>website</td>\n",
       "    </tr>\n",
       "    <tr>\n",
       "      <th>606</th>\n",
       "      <td>-3.737264</td>\n",
       "      <td>english</td>\n",
       "    </tr>\n",
       "    <tr>\n",
       "      <th>950</th>\n",
       "      <td>-3.306067</td>\n",
       "      <td>interview</td>\n",
       "    </tr>\n",
       "    <tr>\n",
       "      <th>636</th>\n",
       "      <td>-3.005897</td>\n",
       "      <td>essential</td>\n",
       "    </tr>\n",
       "    <tr>\n",
       "      <th>297</th>\n",
       "      <td>-2.912303</td>\n",
       "      <td>client</td>\n",
       "    </tr>\n",
       "    <tr>\n",
       "      <th>1739</th>\n",
       "      <td>-2.802605</td>\n",
       "      <td>state</td>\n",
       "    </tr>\n",
       "    <tr>\n",
       "      <th>341</th>\n",
       "      <td>-2.623332</td>\n",
       "      <td>company</td>\n",
       "    </tr>\n",
       "    <tr>\n",
       "      <th>244</th>\n",
       "      <td>-2.584456</td>\n",
       "      <td>candidate</td>\n",
       "    </tr>\n",
       "    <tr>\n",
       "      <th>815</th>\n",
       "      <td>-2.540519</td>\n",
       "      <td>growing</td>\n",
       "    </tr>\n",
       "    <tr>\n",
       "      <th>1221</th>\n",
       "      <td>-2.526806</td>\n",
       "      <td>open</td>\n",
       "    </tr>\n",
       "    <tr>\n",
       "      <th>1457</th>\n",
       "      <td>-2.456021</td>\n",
       "      <td>quality</td>\n",
       "    </tr>\n",
       "    <tr>\n",
       "      <th>1227</th>\n",
       "      <td>-2.327138</td>\n",
       "      <td>operational</td>\n",
       "    </tr>\n",
       "    <tr>\n",
       "      <th>268</th>\n",
       "      <td>-2.234525</td>\n",
       "      <td>certified</td>\n",
       "    </tr>\n",
       "    <tr>\n",
       "      <th>1288</th>\n",
       "      <td>-2.227441</td>\n",
       "      <td>passionate</td>\n",
       "    </tr>\n",
       "    <tr>\n",
       "      <th>633</th>\n",
       "      <td>-2.213818</td>\n",
       "      <td>equivalent</td>\n",
       "    </tr>\n",
       "    <tr>\n",
       "      <th>1687</th>\n",
       "      <td>-2.185062</td>\n",
       "      <td>social</td>\n",
       "    </tr>\n",
       "    <tr>\n",
       "      <th>1094</th>\n",
       "      <td>-2.165580</td>\n",
       "      <td>marketing</td>\n",
       "    </tr>\n",
       "    <tr>\n",
       "      <th>858</th>\n",
       "      <td>-2.125412</td>\n",
       "      <td>hour</td>\n",
       "    </tr>\n",
       "    <tr>\n",
       "      <th>1867</th>\n",
       "      <td>-2.122771</td>\n",
       "      <td>transportation</td>\n",
       "    </tr>\n",
       "    <tr>\n",
       "      <th>448</th>\n",
       "      <td>-2.093381</td>\n",
       "      <td>custom</td>\n",
       "    </tr>\n",
       "  </tbody>\n",
       "</table>\n",
       "</div>"
      ],
      "text/plain": [
       "      Coefficients        Features\n",
       "1959     -4.587777         website\n",
       "606      -3.737264         english\n",
       "950      -3.306067       interview\n",
       "636      -3.005897       essential\n",
       "297      -2.912303          client\n",
       "1739     -2.802605           state\n",
       "341      -2.623332         company\n",
       "244      -2.584456       candidate\n",
       "815      -2.540519         growing\n",
       "1221     -2.526806            open\n",
       "1457     -2.456021         quality\n",
       "1227     -2.327138     operational\n",
       "268      -2.234525       certified\n",
       "1288     -2.227441      passionate\n",
       "633      -2.213818      equivalent\n",
       "1687     -2.185062          social\n",
       "1094     -2.165580       marketing\n",
       "858      -2.125412            hour\n",
       "1867     -2.122771  transportation\n",
       "448      -2.093381          custom"
      ]
     },
     "execution_count": 110,
     "metadata": {},
     "output_type": "execute_result"
    }
   ],
   "source": [
    "# top 20 features in predicting real jobs (fraudulent = 0)\n",
    "top_neg_coefs = lr_coefs.sort_values(by = 'Coefficients').head(20)\n",
    "top_neg_coefs"
   ]
  },
  {
   "cell_type": "code",
   "execution_count": 111,
   "id": "c63c389e",
   "metadata": {},
   "outputs": [
    {
     "data": {
      "image/png": "[encoded data removed]",
      "text/plain": [
       "<Figure size 720x432 with 1 Axes>"
      ]
     },
     "metadata": {
      "needs_background": "light"
     },
     "output_type": "display_data"
    }
   ],
   "source": [
    "# plot barchart on top 20 features predicting real jobs (fraudulent = 0)\n",
    "plt.figure(figsize = (10, 6))\n",
    "sns.barplot(data = top_neg_coefs, x = 'Coefficients', y = 'Features', palette = 'coolwarm')\n",
    "plt.title('Top 15 Features Predicting Real Jobs', fontweight = 'bold', fontsize = 15)\n",
    "plt.xlabel('Coefficients');"
   ]
  },
  {
   "cell_type": "markdown",
   "id": "99fbf7b9",
   "metadata": {},
   "source": [
    "**Observation**: Real jobs typically have more complex hiring process which includes interviews (as seen by feature #3 `interview`) and require candidates with higher qualifications (as seen by feature #13 `certified`)."
   ]
  },
  {
   "cell_type": "code",
   "execution_count": 112,
   "id": "c2d147f0",
   "metadata": {},
   "outputs": [
    {
     "data": {
      "text/html": [
       "<div>\n",
       "<style scoped>\n",
       "    .dataframe tbody tr th:only-of-type {\n",
       "        vertical-align: middle;\n",
       "    }\n",
       "\n",
       "    .dataframe tbody tr th {\n",
       "        vertical-align: top;\n",
       "    }\n",
       "\n",
       "    .dataframe thead th {\n",
       "        text-align: right;\n",
       "    }\n",
       "</style>\n",
       "<table border=\"1\" class=\"dataframe\">\n",
       "  <thead>\n",
       "    <tr style=\"text-align: right;\">\n",
       "      <th></th>\n",
       "      <th>Coefficients</th>\n",
       "      <th>Features</th>\n",
       "      <th>Absolute Coefficients</th>\n",
       "    </tr>\n",
       "  </thead>\n",
       "  <tbody>\n",
       "    <tr>\n",
       "      <th>1959</th>\n",
       "      <td>-4.587777</td>\n",
       "      <td>website</td>\n",
       "      <td>4.587777</td>\n",
       "    </tr>\n",
       "    <tr>\n",
       "      <th>605</th>\n",
       "      <td>4.290443</td>\n",
       "      <td>engineering</td>\n",
       "      <td>4.290443</td>\n",
       "    </tr>\n",
       "    <tr>\n",
       "      <th>623</th>\n",
       "      <td>4.210568</td>\n",
       "      <td>entry</td>\n",
       "      <td>4.210568</td>\n",
       "    </tr>\n",
       "    <tr>\n",
       "      <th>1822</th>\n",
       "      <td>4.128636</td>\n",
       "      <td>term</td>\n",
       "      <td>4.128636</td>\n",
       "    </tr>\n",
       "    <tr>\n",
       "      <th>141</th>\n",
       "      <td>4.029955</td>\n",
       "      <td>assistant</td>\n",
       "      <td>4.029955</td>\n",
       "    </tr>\n",
       "    <tr>\n",
       "      <th>1314</th>\n",
       "      <td>3.919406</td>\n",
       "      <td>phone</td>\n",
       "      <td>3.919406</td>\n",
       "    </tr>\n",
       "    <tr>\n",
       "      <th>606</th>\n",
       "      <td>-3.737264</td>\n",
       "      <td>english</td>\n",
       "      <td>3.737264</td>\n",
       "    </tr>\n",
       "    <tr>\n",
       "      <th>240</th>\n",
       "      <td>3.721863</td>\n",
       "      <td>call</td>\n",
       "      <td>3.721863</td>\n",
       "    </tr>\n",
       "    <tr>\n",
       "      <th>1148</th>\n",
       "      <td>3.616886</td>\n",
       "      <td>money</td>\n",
       "      <td>3.616886</td>\n",
       "    </tr>\n",
       "    <tr>\n",
       "      <th>857</th>\n",
       "      <td>3.411195</td>\n",
       "      <td>hotel</td>\n",
       "      <td>3.411195</td>\n",
       "    </tr>\n",
       "    <tr>\n",
       "      <th>893</th>\n",
       "      <td>3.357085</td>\n",
       "      <td>income</td>\n",
       "      <td>3.357085</td>\n",
       "    </tr>\n",
       "    <tr>\n",
       "      <th>950</th>\n",
       "      <td>-3.306067</td>\n",
       "      <td>interview</td>\n",
       "      <td>3.306067</td>\n",
       "    </tr>\n",
       "    <tr>\n",
       "      <th>529</th>\n",
       "      <td>3.269298</td>\n",
       "      <td>director</td>\n",
       "      <td>3.269298</td>\n",
       "    </tr>\n",
       "    <tr>\n",
       "      <th>742</th>\n",
       "      <td>3.240333</td>\n",
       "      <td>food</td>\n",
       "      <td>3.240333</td>\n",
       "    </tr>\n",
       "    <tr>\n",
       "      <th>1785</th>\n",
       "      <td>3.189776</td>\n",
       "      <td>supplier</td>\n",
       "      <td>3.189776</td>\n",
       "    </tr>\n",
       "    <tr>\n",
       "      <th>1400</th>\n",
       "      <td>3.144874</td>\n",
       "      <td>product</td>\n",
       "      <td>3.144874</td>\n",
       "    </tr>\n",
       "    <tr>\n",
       "      <th>333</th>\n",
       "      <td>3.051971</td>\n",
       "      <td>commitment</td>\n",
       "      <td>3.051971</td>\n",
       "    </tr>\n",
       "    <tr>\n",
       "      <th>636</th>\n",
       "      <td>-3.005897</td>\n",
       "      <td>essential</td>\n",
       "      <td>3.005897</td>\n",
       "    </tr>\n",
       "    <tr>\n",
       "      <th>1609</th>\n",
       "      <td>2.999990</td>\n",
       "      <td>school</td>\n",
       "      <td>2.999990</td>\n",
       "    </tr>\n",
       "    <tr>\n",
       "      <th>1814</th>\n",
       "      <td>2.999545</td>\n",
       "      <td>technical</td>\n",
       "      <td>2.999545</td>\n",
       "    </tr>\n",
       "  </tbody>\n",
       "</table>\n",
       "</div>"
      ],
      "text/plain": [
       "      Coefficients     Features  Absolute Coefficients\n",
       "1959     -4.587777      website               4.587777\n",
       "605       4.290443  engineering               4.290443\n",
       "623       4.210568        entry               4.210568\n",
       "1822      4.128636         term               4.128636\n",
       "141       4.029955    assistant               4.029955\n",
       "1314      3.919406        phone               3.919406\n",
       "606      -3.737264      english               3.737264\n",
       "240       3.721863         call               3.721863\n",
       "1148      3.616886        money               3.616886\n",
       "857       3.411195        hotel               3.411195\n",
       "893       3.357085       income               3.357085\n",
       "950      -3.306067    interview               3.306067\n",
       "529       3.269298     director               3.269298\n",
       "742       3.240333         food               3.240333\n",
       "1785      3.189776     supplier               3.189776\n",
       "1400      3.144874      product               3.144874\n",
       "333       3.051971   commitment               3.051971\n",
       "636      -3.005897    essential               3.005897\n",
       "1609      2.999990       school               2.999990\n",
       "1814      2.999545    technical               2.999545"
      ]
     },
     "execution_count": 112,
     "metadata": {},
     "output_type": "execute_result"
    }
   ],
   "source": [
    "# create a new column to store the absolute coefficients\n",
    "lr_coefs['Absolute Coefficients'] = lr_coefs['Coefficients'].abs()\n",
    "top_coefs = lr_coefs.sort_values(by = 'Absolute Coefficients', ascending = False).head(20)\n",
    "top_coefs"
   ]
  },
  {
   "cell_type": "code",
   "execution_count": 113,
   "id": "c5a5acef",
   "metadata": {},
   "outputs": [
    {
     "data": {
      "image/png": "[encoded data removed]",
      "text/plain": [
       "<Figure size 720x432 with 1 Axes>"
      ]
     },
     "metadata": {
      "needs_background": "light"
     },
     "output_type": "display_data"
    }
   ],
   "source": [
    "# plot barchart on top 20 features predicting real jobs (fraudulent = 0)\n",
    "plt.figure(figsize = (10, 6))\n",
    "sns.barplot(data = top_coefs, x = 'Coefficients', y = 'Features', palette = 'coolwarm')\n",
    "plt.title('Top 15 Features', fontweight = 'bold', fontsize = 15)\n",
    "plt.xlabel('Coefficients');"
   ]
  },
  {
   "cell_type": "markdown",
   "id": "0be04287",
   "metadata": {},
   "source": [
    "### Confusion Matrix"
   ]
  },
  {
   "cell_type": "code",
   "execution_count": 114,
   "id": "451198cd",
   "metadata": {},
   "outputs": [],
   "source": [
    "# predict y using selected model\n",
    "y_predicted = best_model.predict(X_test)"
   ]
  },
  {
   "cell_type": "code",
   "execution_count": 115,
   "id": "0e5d8a7d",
   "metadata": {},
   "outputs": [
    {
     "name": "stdout",
     "output_type": "stream",
     "text": [
      "True Negatives: 3259\n",
      "False Positives: 156\n",
      "False Negatives: 29\n",
      "True Positives: 117\n"
     ]
    }
   ],
   "source": [
    "# extracting values of confusion matrix\n",
    "cm = confusion_matrix(y_test, y_predicted)\n",
    "tn, fp, fn, tp = cm.ravel()\n",
    "print(f\"True Negatives: {tn}\")\n",
    "print(f\"False Positives: {fp}\")\n",
    "print(f\"False Negatives: {fn}\")\n",
    "print(f\"True Positives: {tp}\")"
   ]
  },
  {
   "cell_type": "code",
   "execution_count": 116,
   "id": "755d8915",
   "metadata": {},
   "outputs": [],
   "source": [
    "# creating labels for the confusion matrix\n",
    "modified_cm = []\n",
    "for index, value in enumerate(cm):\n",
    "    if index == 0:\n",
    "        modified_cm.append(['TN = ' + str(value[0]), 'FP = ' + str(value[1])])\n",
    "    if index == 1:\n",
    "        modified_cm.append(['FN = ' + str(value[0]), 'TP = ' + str(value[1])])   "
   ]
  },
  {
   "cell_type": "code",
   "execution_count": 117,
   "id": "a3e7d92e",
   "metadata": {},
   "outputs": [],
   "source": [
    "# computing scores to input in confusion matrix\n",
    "accuracy = accuracy_score(y_test, y_predicted)\n",
    "precision = tp / (tp + fp)\n",
    "recall = tp / (tp + fn)\n",
    "specificity = tn / (tn + fp)"
   ]
  },
  {
   "cell_type": "code",
   "execution_count": 118,
   "id": "28539c67",
   "metadata": {},
   "outputs": [
    {
     "data": {
      "image/png": "[encoded data removed]",
      "text/plain": [
       "<Figure size 504x504 with 2 Axes>"
      ]
     },
     "metadata": {
      "needs_background": "light"
     },
     "output_type": "display_data"
    }
   ],
   "source": [
    "# plot confusion matrix of logreg tvec with labels\n",
    "plt.figure(figsize = (7, 7))\n",
    "sns.heatmap(cm, annot = np.array(modified_cm), fmt = '', annot_kws = {'size': 15}, linewidths = 0.5,\n",
    "            square = True, cmap = 'Pastel1', xticklabels = ['Real', 'Fake'], yticklabels = ['Real', 'Fake'])\n",
    "\n",
    "plt.ylabel('Actual label', fontsize = 15)\n",
    "plt.xlabel('Predicted label', fontsize = 15)\n",
    "plt.tick_params(labelsize = 14)\n",
    "plt.title('Confusion Matrix' + '\\n'\n",
    "          + 'Accuracy: {:.3f}'.format(accuracy) + '\\n' \n",
    "          + 'Precision: {:.3f}'.format(precision) + '\\n'\n",
    "          + 'Recall: {:.3f}'.format(recall) + '\\n'\n",
    "          + 'Specificity: {:.3f}'.format(specificity),\n",
    "          size = 16);\n",
    "\n",
    "plt.tight_layout()"
   ]
  },
  {
   "cell_type": "markdown",
   "id": "1de019c1",
   "metadata": {},
   "source": [
    "**Observation**: The model is able to correctly predict the positive (fake) classes 80% of the time, as seen by the high recall score. This means that of the 146 fake jobs, the model is able to correctly identify 117 (80%) of them, with 29 false negatives. If we deploy the model to filter job ads on job portals, only 29 fraudulent jobs will be uploaded now as compared to 146 before, largely reducing the risk for job-seekers.\n",
    "\n",
    "Of course, there would also be a trade-off. While the recall score is high, the precision is low at 0.429. This means that of the 273 jobs that the model predicts as fake, only 117 were really fake. The remaining 156 genuine job ads will not be allowed to be published on job portals, and these genuine employers may have a difficult time finding candidates to fill their positions."
   ]
  },
  {
   "cell_type": "code",
   "execution_count": 119,
   "id": "b84e2738",
   "metadata": {},
   "outputs": [
    {
     "data": {
      "text/plain": [
       "<Figure size 720x720 with 0 Axes>"
      ]
     },
     "metadata": {},
     "output_type": "display_data"
    },
    {
     "data": {
      "image/png": "[encoded data removed]",
      "text/plain": [
       "<Figure size 432x288 with 1 Axes>"
      ]
     },
     "metadata": {
      "needs_background": "light"
     },
     "output_type": "display_data"
    }
   ],
   "source": [
    "# plot roc curve\n",
    "\n",
    "plt.figure(figsize=(10,10))\n",
    "ax = plot_roc_curve(sm_tvec_logreg_best.best_estimator_, X_test,y_test)\n",
    "plt.plot([0,1],[0,1],label = 'Baseline', linestyle = '--', color = 'maroon')\n",
    "plt.legend()\n",
    "\n",
    "# set title, suptitle and x and y labels\n",
    "plt.title(\"ROC Curve for LogReg Tvec\", weight='bold', fontsize = 17) \n",
    "plt.xlabel('False Positive Rate', fontsize = 17)\n",
    "plt.ylabel('True Positive Rate', fontsize = 17);"
   ]
  },
  {
   "cell_type": "markdown",
   "id": "2306e378",
   "metadata": {},
   "source": [
    "### Feature Importance for Random Forest"
   ]
  },
  {
   "cell_type": "code",
   "execution_count": 120,
   "id": "12f54b61",
   "metadata": {},
   "outputs": [
    {
     "data": {
      "text/plain": [
       "array([0.00000000e+00, 2.51066777e-04, 2.79673262e-04, 8.36057760e-04,\n",
       "       1.00685782e-03, 3.47290294e-04, 0.00000000e+00, 4.47933122e-04,\n",
       "       2.96606888e-05, 9.10001430e-05, 5.37905783e-05, 4.29698313e-04,\n",
       "       4.34717188e-04, 7.68255929e-04, 4.00347941e-04, 3.93480163e-04,\n",
       "       4.98253252e-04, 0.00000000e+00, 3.92715219e-05, 0.00000000e+00,\n",
       "       1.07804439e-06, 1.89824144e-06, 1.84193866e-04, 9.51502756e-05,\n",
       "       1.98880642e-04, 0.00000000e+00, 1.95144239e-04, 7.44822695e-04,\n",
       "       7.23450240e-03, 2.17318163e-04, 1.67405470e-07, 2.41618313e-03,\n",
       "       1.28224029e-05, 3.68366464e-03, 3.63123140e-04, 2.56423948e-04,\n",
       "       3.69782213e-03, 6.57828428e-04, 0.00000000e+00, 1.97750716e-06,\n",
       "       2.29521217e-04, 7.24994511e-05, 3.52091589e-04, 1.99522900e-04,\n",
       "       2.13275481e-03, 1.28406964e-04, 1.39462040e-04, 2.62861916e-04,\n",
       "       5.52885682e-04, 2.36961288e-05, 2.26175972e-04, 3.04834655e-04,\n",
       "       9.36174057e-04, 1.89232802e-03, 4.66676682e-04, 3.03059467e-04,\n",
       "       1.16408192e-04, 0.00000000e+00, 0.00000000e+00, 0.00000000e+00,\n",
       "       2.98359948e-04, 1.92111952e-04, 2.13470045e-04, 9.76765736e-05,\n",
       "       1.58904826e-04, 4.98453979e-04, 1.61114424e-04, 1.65588939e-03,\n",
       "       2.54575092e-05, 9.16174732e-05, 5.65765668e-04, 5.22349516e-05,\n",
       "       1.07067215e-03, 1.16636504e-03, 5.57246312e-04, 2.23031155e-03,\n",
       "       3.34886372e-05, 4.30698064e-04, 2.40744130e-04, 7.21344569e-03,\n",
       "       3.42173032e-03, 0.00000000e+00, 1.31883607e-04, 2.16553598e-04,\n",
       "       1.80452672e-03, 7.47533187e-04, 9.07559180e-04, 3.01290161e-05,\n",
       "       0.00000000e+00, 7.83666047e-05, 8.34302717e-04, 5.10702502e-04,\n",
       "       1.04662014e-03, 1.69920504e-03, 5.46605809e-05, 6.80113588e-04,\n",
       "       4.55205326e-04, 2.72894999e-03, 1.00253339e-03, 1.84835229e-03,\n",
       "       0.00000000e+00, 1.09005787e-04, 5.34020014e-05, 2.88667246e-02,\n",
       "       2.26006499e-03, 1.93647486e-04, 7.49026464e-04, 6.30865519e-04,\n",
       "       1.11601698e-04, 5.39800308e-04, 7.34349106e-04, 1.28934626e-03,\n",
       "       2.65539236e-04, 3.62208707e-04, 3.31015512e-06, 1.95589955e-06,\n",
       "       6.02677550e-04, 3.10764707e-04, 3.37337102e-04, 4.62322964e-04,\n",
       "       3.55744265e-04, 9.57868731e-04, 1.26388790e-03, 1.60385491e-04,\n",
       "       2.45328011e-04, 4.29309348e-04, 0.00000000e+00, 2.40262497e-04,\n",
       "       3.72516569e-04, 2.60082999e-04, 1.92340872e-04, 1.70186935e-04,\n",
       "       1.36757059e-03, 5.51469048e-04, 1.68507163e-04, 2.95003227e-04,\n",
       "       4.00504285e-04, 1.98545196e-04, 3.50051355e-03, 1.35906694e-03,\n",
       "       3.86193177e-04, 1.79349921e-06, 3.86568755e-04, 1.52827767e-03,\n",
       "       7.31161451e-04, 2.18547723e-04, 3.94144817e-04, 1.92754699e-04,\n",
       "       4.78533425e-03, 2.28835939e-03, 3.60147935e-04, 4.75750377e-05,\n",
       "       1.00956671e-03, 3.05977252e-04, 3.93756267e-04, 4.67984288e-04,\n",
       "       5.52716068e-04, 2.29069421e-04, 9.93417454e-05, 2.52205894e-04,\n",
       "       2.99902214e-04, 2.85143964e-04, 4.91562403e-04, 1.79006969e-04,\n",
       "       1.07925609e-04, 1.28447421e-04, 1.36976738e-03, 1.19034478e-04,\n",
       "       2.40092424e-04, 0.00000000e+00, 1.66938568e-03, 2.83100919e-05,\n",
       "       0.00000000e+00, 6.21351808e-04, 1.52559206e-04, 1.58871498e-03,\n",
       "       5.00155544e-04, 5.90755012e-04, 7.90855444e-04, 1.51907903e-03,\n",
       "       6.24269733e-03, 2.02564689e-05, 5.32412399e-04, 2.38252811e-03,\n",
       "       9.33680601e-04, 3.51756851e-04, 1.72034223e-03, 1.64716732e-04,\n",
       "       1.36569011e-04, 7.27086806e-04, 4.21047475e-04, 3.55693083e-03,\n",
       "       8.25712537e-05, 1.18073344e-02, 6.15521527e-04, 2.61171329e-03,\n",
       "       0.00000000e+00, 0.00000000e+00, 0.00000000e+00, 0.00000000e+00,\n",
       "       2.09266142e-07, 4.28200437e-04, 6.89431744e-04, 6.96884939e-04,\n",
       "       1.95161699e-04, 3.28048715e-03, 2.63027827e-04, 3.86512339e-06,\n",
       "       2.20016449e-04, 1.94376408e-03, 1.05997940e-05, 1.50086640e-04,\n",
       "       1.41649674e-04, 3.25159439e-06, 7.92966302e-03, 1.28101394e-04,\n",
       "       4.20484929e-04, 3.00343079e-03, 5.01661848e-04, 1.64869028e-04,\n",
       "       3.46078518e-04, 5.64880014e-04, 3.04947509e-04, 4.84133906e-05,\n",
       "       4.93673053e-04, 0.00000000e+00, 9.25675479e-04, 4.10112538e-04,\n",
       "       2.65879164e-04, 2.14449134e-03, 1.57880214e-04, 1.56314479e-04,\n",
       "       3.21496436e-04, 1.40696186e-03, 1.10898717e-04, 2.09291678e-03,\n",
       "       4.25526474e-04, 2.30445546e-03, 1.49166218e-02, 4.02828133e-04,\n",
       "       2.47490489e-03, 1.34364699e-03, 1.69652594e-03, 4.52900450e-04,\n",
       "       4.38223673e-06, 9.90838046e-04, 8.33373174e-03, 3.56320854e-03,\n",
       "       3.33511921e-03, 2.66967921e-05, 2.90274378e-04, 0.00000000e+00,\n",
       "       3.85385842e-04, 1.87534520e-03, 4.23478066e-03, 2.85129715e-03,\n",
       "       1.91589687e-04, 3.55836175e-05, 3.75073540e-04, 3.40371040e-03,\n",
       "       5.55531260e-03, 4.25317381e-03, 1.04007122e-03, 2.90193790e-03,\n",
       "       5.00152763e-04, 1.76183659e-04, 5.04851333e-04, 7.67837384e-04,\n",
       "       6.01843529e-04, 3.29666459e-04, 1.19349530e-05, 4.09191030e-04,\n",
       "       1.09093461e-03, 4.14797465e-04, 0.00000000e+00, 7.28057144e-05,\n",
       "       5.00854668e-04, 4.26372959e-04, 6.36477846e-04, 6.03993209e-04,\n",
       "       3.01306170e-04, 2.65456934e-03, 2.44540362e-05, 2.33942920e-04,\n",
       "       6.59225562e-04, 2.19913931e-05, 3.55253301e-04, 1.41158456e-06,\n",
       "       3.33168707e-04, 1.54860347e-03, 6.57418996e-03, 4.77589153e-04,\n",
       "       1.46461129e-03, 9.52153399e-03, 5.75410530e-04, 5.00049221e-05,\n",
       "       1.72523713e-03, 1.97630271e-04, 3.02267363e-04, 1.01336104e-04,\n",
       "       2.41889641e-06, 0.00000000e+00, 1.33902495e-07, 0.00000000e+00,\n",
       "       1.27006234e-05, 4.36707618e-05, 1.88244792e-04, 1.33987324e-03,\n",
       "       2.80443336e-04, 1.62186571e-03, 1.67802702e-03, 1.25130469e-04,\n",
       "       1.37365903e-03, 4.16685197e-06, 1.01722464e-04, 3.22525408e-04,\n",
       "       3.83118331e-04, 2.98613427e-04, 5.67967044e-05, 6.68563243e-04,\n",
       "       1.46084825e-04, 5.32540182e-04, 0.00000000e+00, 1.39496467e-08,\n",
       "       2.26540695e-04, 1.18861391e-03, 8.19781209e-04, 1.53320614e-03,\n",
       "       0.00000000e+00, 7.75892584e-03, 8.55290140e-04, 1.43632945e-03,\n",
       "       3.49591613e-04, 1.96103417e-04, 4.07046660e-03, 1.83812238e-03,\n",
       "       2.00397033e-04, 9.66983918e-05, 9.82620510e-04, 3.21984369e-04,\n",
       "       2.90180187e-04, 6.11330391e-04, 1.81156636e-03, 4.37486360e-04,\n",
       "       1.76202139e-05, 8.36243634e-04, 2.75630489e-03, 4.61530627e-04,\n",
       "       0.00000000e+00, 1.34664583e-06, 9.83807007e-04, 1.22349660e-03,\n",
       "       4.90498810e-04, 5.63345284e-04, 1.35798303e-04, 3.70491166e-04,\n",
       "       1.01491663e-03, 1.65901687e-03, 1.42728621e-03, 1.31933969e-03,\n",
       "       1.45371793e-04, 9.23252556e-05, 1.59266535e-04, 4.58647551e-04,\n",
       "       6.84087469e-04, 2.91902612e-04, 7.15723183e-05, 1.32600099e-03,\n",
       "       1.36977421e-03, 2.25218571e-02, 1.26489680e-04, 2.76515817e-04,\n",
       "       3.01357738e-04, 2.55041759e-04, 4.21828353e-04, 0.00000000e+00,\n",
       "       3.50457777e-04, 2.54395112e-04, 1.41071376e-03, 4.61528353e-04,\n",
       "       2.90409575e-04, 4.95966458e-04, 1.39270105e-03, 8.77440291e-05,\n",
       "       8.68665239e-04, 1.21450441e-06, 3.39078349e-03, 1.16569926e-06,\n",
       "       0.00000000e+00, 0.00000000e+00, 2.25945404e-03, 3.59666213e-04,\n",
       "       1.71398834e-04, 2.14757625e-03, 6.49127659e-06, 1.70712676e-04,\n",
       "       1.18743373e-03, 1.40234728e-04, 1.15603987e-02, 1.99249074e-04,\n",
       "       1.35214969e-08, 4.15638815e-04, 5.38588831e-04, 4.91607073e-06,\n",
       "       2.71171397e-03, 3.10221046e-03, 5.81132881e-04, 8.53905844e-05,\n",
       "       1.74977922e-03, 1.71130900e-04, 6.67418002e-04, 6.99037471e-04,\n",
       "       0.00000000e+00, 4.40547623e-04, 1.31365110e-06, 9.01609591e-04,\n",
       "       9.37104491e-04, 0.00000000e+00, 9.38371683e-04, 4.07832450e-04,\n",
       "       1.32359827e-03, 2.05224268e-04, 7.86105761e-03, 6.43796944e-08,\n",
       "       4.16256424e-06, 2.31537789e-03, 2.31000565e-06, 2.05280640e-04,\n",
       "       1.55422043e-03, 3.15227756e-04, 4.74261805e-04, 2.70161672e-03,\n",
       "       2.34547556e-03, 2.86355166e-04, 6.91631556e-04, 2.29338357e-03,\n",
       "       1.01481218e-03, 0.00000000e+00, 0.00000000e+00, 2.09222542e-07,\n",
       "       2.75773025e-04, 2.72947288e-03, 2.85431372e-03, 1.07908388e-03,\n",
       "       4.89969871e-04, 6.22826962e-04, 1.48749581e-04, 4.38633460e-04,\n",
       "       1.28897361e-04, 4.09270985e-04, 0.00000000e+00, 0.00000000e+00,\n",
       "       7.76303868e-05, 2.64694436e-04, 2.71121025e-03, 2.71272483e-06,\n",
       "       2.31836699e-04, 7.40489086e-04, 2.78445202e-04, 5.29252777e-04,\n",
       "       1.84683921e-03, 2.18780287e-04, 1.37606765e-04, 4.11383639e-04,\n",
       "       9.39775843e-04, 1.13790153e-06, 2.28565577e-03, 3.70997663e-05,\n",
       "       1.41173460e-05, 3.97926156e-04, 6.21450299e-04, 1.16362938e-03,\n",
       "       6.71813828e-04, 1.16151043e-04, 7.76486215e-04, 2.97631216e-03,\n",
       "       3.19076074e-04, 4.84179465e-04, 2.04462114e-04, 8.81908699e-05,\n",
       "       1.12955364e-03, 1.65620798e-04, 0.00000000e+00, 0.00000000e+00,\n",
       "       9.12656127e-05, 5.74696959e-05, 2.00042169e-04, 2.96393503e-04,\n",
       "       5.05289458e-04, 7.24791680e-04, 1.82418201e-04, 5.67076711e-04,\n",
       "       1.16667324e-03, 1.12206396e-04, 3.10878351e-03, 1.32972152e-03,\n",
       "       2.54821605e-06, 5.11715213e-06, 7.61923162e-03, 1.50499853e-04,\n",
       "       2.22181465e-04, 3.20386433e-05, 5.21016139e-04, 4.11602186e-05,\n",
       "       4.06650226e-04, 1.48394113e-03, 2.75014440e-03, 1.85658204e-03,\n",
       "       2.52157732e-04, 6.17833333e-04, 8.34351400e-07, 1.22289748e-04,\n",
       "       6.27667627e-07, 0.00000000e+00, 8.05822341e-06, 9.29764300e-04,\n",
       "       1.35732627e-03, 1.55165386e-03, 5.84665675e-04, 1.22028785e-03,\n",
       "       5.54758365e-04, 1.10384997e-03, 4.95816144e-04, 6.12241595e-04,\n",
       "       5.14091910e-03, 5.34316372e-04, 1.59389747e-04, 1.21849804e-03,\n",
       "       0.00000000e+00, 4.85600674e-03, 2.41256808e-04, 2.24332665e-03,\n",
       "       9.27394118e-04, 1.32695022e-03, 1.03373990e-03, 6.18294021e-04,\n",
       "       1.68634550e-03, 0.00000000e+00, 4.30372834e-04, 2.03109839e-04,\n",
       "       0.00000000e+00, 5.97520499e-04, 1.41001711e-04, 9.26572621e-05,\n",
       "       2.75639885e-04, 6.19620312e-04, 4.91291299e-04, 4.24686289e-04,\n",
       "       3.73059282e-04, 8.26761085e-04, 7.00760518e-04, 1.91288791e-04,\n",
       "       9.66423330e-05, 1.23654381e-04, 3.80751450e-04, 3.48405313e-03,\n",
       "       5.30153680e-05, 1.18124039e-04, 1.47847418e-03, 1.02495936e-04,\n",
       "       1.01536769e-03, 3.66570662e-04, 1.14890447e-03, 6.82210513e-04,\n",
       "       2.32217030e-06, 8.85644085e-05, 3.96948643e-04, 8.29464092e-04,\n",
       "       1.06092485e-03, 5.42535418e-04, 2.35319654e-04, 1.02814766e-04,\n",
       "       5.92950033e-04, 8.51444667e-04, 5.19900585e-05, 1.03112576e-03,\n",
       "       1.79204628e-04, 1.60883605e-04, 3.22191916e-04, 6.22488996e-03,\n",
       "       1.20806840e-04, 5.22404817e-05, 4.14545523e-04, 2.07763893e-03,\n",
       "       6.73617350e-04, 4.16708396e-05, 4.25728940e-05, 6.85493287e-05,\n",
       "       5.78044358e-04, 4.37146204e-04, 0.00000000e+00, 4.04322001e-05,\n",
       "       7.89678102e-04, 1.49460759e-04, 1.49052982e-03, 2.31811862e-04,\n",
       "       6.39867847e-05, 1.04603929e-03, 4.18223438e-03, 0.00000000e+00,\n",
       "       1.05486890e-04, 3.07735324e-04, 8.23548355e-04, 3.84620175e-05,\n",
       "       7.04111271e-05, 3.82075867e-04, 7.43340680e-04, 5.56333719e-04,\n",
       "       7.04499178e-05, 2.05777685e-04, 3.13617466e-04, 6.04817735e-04,\n",
       "       1.01034758e-03, 2.48355818e-04, 1.26818197e-04, 1.50533862e-04,\n",
       "       5.34627503e-05, 8.40885542e-04, 1.78002986e-04, 1.78805886e-04,\n",
       "       1.68911811e-04, 8.23305586e-06, 3.33979508e-03, 4.36140489e-04,\n",
       "       3.23086042e-04, 4.26443330e-04, 2.02246167e-03, 2.05015431e-03,\n",
       "       1.88314445e-04, 7.74201977e-04, 3.06190839e-04, 4.08581369e-03,\n",
       "       2.87984252e-04, 2.50755986e-04, 2.74864365e-03, 1.23019114e-03,\n",
       "       1.66168518e-04, 3.17227058e-03, 0.00000000e+00, 5.96459603e-04,\n",
       "       7.71044817e-04, 9.21831942e-04, 8.73655480e-04, 6.77763808e-04,\n",
       "       1.76457134e-03, 7.48085211e-04, 3.38500656e-04, 1.22292299e-01,\n",
       "       4.04755856e-02, 2.35567450e-02, 1.49838979e-02, 1.31256955e-03,\n",
       "       2.18966728e-02, 7.05859093e-04, 7.88907829e-04, 1.55806494e-02,\n",
       "       7.41262942e-03, 1.93277163e-03, 2.65820997e-02, 1.80827803e-03,\n",
       "       1.80150835e-04, 2.09051467e-02, 1.95209946e-03, 1.89786938e-04,\n",
       "       2.87464288e-04, 5.56947869e-03, 1.29820860e-04, 9.95157585e-04,\n",
       "       7.09038675e-04, 1.07502002e-03, 8.24355974e-03, 8.16457878e-04,\n",
       "       9.62684815e-03, 8.99343546e-04, 1.29098926e-03, 1.51474316e-03,\n",
       "       2.12153773e-03, 9.56671200e-03, 6.66631108e-03, 4.95117962e-03,\n",
       "       2.44818287e-03, 4.51152275e-03, 2.07632456e-02, 1.99868344e-04,\n",
       "       5.08089548e-04, 9.85939064e-04, 1.82012052e-03, 2.03522430e-04,\n",
       "       3.74811785e-04, 7.54111288e-04, 1.26460255e-03, 1.37081615e-03])"
      ]
     },
     "execution_count": 120,
     "metadata": {},
     "output_type": "execute_result"
    }
   ],
   "source": [
    "# feature importance coefficients\n",
    "coefficients = sm_cvec_rf_best.best_estimator_.named_steps['rf'].feature_importances_\n",
    "coefficients"
   ]
  },
  {
   "cell_type": "code",
   "execution_count": 121,
   "id": "41e5be35",
   "metadata": {},
   "outputs": [
    {
     "data": {
      "text/html": [
       "<div>\n",
       "<style scoped>\n",
       "    .dataframe tbody tr th:only-of-type {\n",
       "        vertical-align: middle;\n",
       "    }\n",
       "\n",
       "    .dataframe tbody tr th {\n",
       "        vertical-align: top;\n",
       "    }\n",
       "\n",
       "    .dataframe thead th {\n",
       "        text-align: right;\n",
       "    }\n",
       "</style>\n",
       "<table border=\"1\" class=\"dataframe\">\n",
       "  <thead>\n",
       "    <tr style=\"text-align: right;\">\n",
       "      <th></th>\n",
       "      <th>0</th>\n",
       "    </tr>\n",
       "  </thead>\n",
       "  <tbody>\n",
       "    <tr>\n",
       "      <th>0</th>\n",
       "      <td>0.0</td>\n",
       "    </tr>\n",
       "  </tbody>\n",
       "</table>\n",
       "</div>"
      ],
      "text/plain": [
       "     0\n",
       "0  0.0"
      ]
     },
     "execution_count": 121,
     "metadata": {},
     "output_type": "execute_result"
    }
   ],
   "source": [
    "rf_coefs = pd.DataFrame(coefficients)\n",
    "rf_coefs.head(1)"
   ]
  },
  {
   "cell_type": "code",
   "execution_count": 122,
   "id": "8c3e0cff",
   "metadata": {},
   "outputs": [],
   "source": [
    "# get the feature names of the best model\n",
    "text_col = [w for w in sm_cvec_rf_best.best_estimator_.named_steps['transformer1']. \\\n",
    "            named_transformers_['cvec'].get_feature_names()]\n",
    "cols = (text_col + [c for c in X.columns if c!= 'text_lemma'])\n",
    "rf_coefs['Feature Names'] = cols"
   ]
  },
  {
   "cell_type": "code",
   "execution_count": 123,
   "id": "55cb6e28",
   "metadata": {},
   "outputs": [],
   "source": [
    "# rename the column names\n",
    "rf_coefs.columns = ['Coefficients', 'Feature Names']"
   ]
  },
  {
   "cell_type": "code",
   "execution_count": 124,
   "id": "4a355627",
   "metadata": {},
   "outputs": [
    {
     "data": {
      "text/html": [
       "<div>\n",
       "<style scoped>\n",
       "    .dataframe tbody tr th:only-of-type {\n",
       "        vertical-align: middle;\n",
       "    }\n",
       "\n",
       "    .dataframe tbody tr th {\n",
       "        vertical-align: top;\n",
       "    }\n",
       "\n",
       "    .dataframe thead th {\n",
       "        text-align: right;\n",
       "    }\n",
       "</style>\n",
       "<table border=\"1\" class=\"dataframe\">\n",
       "  <thead>\n",
       "    <tr style=\"text-align: right;\">\n",
       "      <th></th>\n",
       "      <th>Coefficients</th>\n",
       "      <th>Feature Names</th>\n",
       "    </tr>\n",
       "  </thead>\n",
       "  <tbody>\n",
       "    <tr>\n",
       "      <th>647</th>\n",
       "      <td>0.122292</td>\n",
       "      <td>has_company_logo</td>\n",
       "    </tr>\n",
       "    <tr>\n",
       "      <th>648</th>\n",
       "      <td>0.040476</td>\n",
       "      <td>has_questions</td>\n",
       "    </tr>\n",
       "    <tr>\n",
       "      <th>103</th>\n",
       "      <td>0.028867</td>\n",
       "      <td>data entry</td>\n",
       "    </tr>\n",
       "    <tr>\n",
       "      <th>658</th>\n",
       "      <td>0.026582</td>\n",
       "      <td>required_education_Bachelor's Degree</td>\n",
       "    </tr>\n",
       "    <tr>\n",
       "      <th>649</th>\n",
       "      <td>0.023557</td>\n",
       "      <td>word_length</td>\n",
       "    </tr>\n",
       "    <tr>\n",
       "      <th>369</th>\n",
       "      <td>0.022522</td>\n",
       "      <td>oil gas</td>\n",
       "    </tr>\n",
       "    <tr>\n",
       "      <th>652</th>\n",
       "      <td>0.021897</td>\n",
       "      <td>required_experience_Entry level</td>\n",
       "    </tr>\n",
       "    <tr>\n",
       "      <th>661</th>\n",
       "      <td>0.020905</td>\n",
       "      <td>required_education_High School or equivalent</td>\n",
       "    </tr>\n",
       "    <tr>\n",
       "      <th>682</th>\n",
       "      <td>0.020763</td>\n",
       "      <td>industry_grp_Oil &amp; Energy</td>\n",
       "    </tr>\n",
       "    <tr>\n",
       "      <th>655</th>\n",
       "      <td>0.015581</td>\n",
       "      <td>required_experience_Mid-Senior level</td>\n",
       "    </tr>\n",
       "    <tr>\n",
       "      <th>650</th>\n",
       "      <td>0.014984</td>\n",
       "      <td>required_experience_Associate</td>\n",
       "    </tr>\n",
       "    <tr>\n",
       "      <th>238</th>\n",
       "      <td>0.014917</td>\n",
       "      <td>high school</td>\n",
       "    </tr>\n",
       "    <tr>\n",
       "      <th>193</th>\n",
       "      <td>0.011807</td>\n",
       "      <td>fast paced</td>\n",
       "    </tr>\n",
       "    <tr>\n",
       "      <th>398</th>\n",
       "      <td>0.011560</td>\n",
       "      <td>phone call</td>\n",
       "    </tr>\n",
       "    <tr>\n",
       "      <th>672</th>\n",
       "      <td>0.009627</td>\n",
       "      <td>industry_grp_Computer Prog</td>\n",
       "    </tr>\n",
       "  </tbody>\n",
       "</table>\n",
       "</div>"
      ],
      "text/plain": [
       "     Coefficients                                 Feature Names\n",
       "647      0.122292                              has_company_logo\n",
       "648      0.040476                                 has_questions\n",
       "103      0.028867                                    data entry\n",
       "658      0.026582          required_education_Bachelor's Degree\n",
       "649      0.023557                                   word_length\n",
       "369      0.022522                                       oil gas\n",
       "652      0.021897               required_experience_Entry level\n",
       "661      0.020905  required_education_High School or equivalent\n",
       "682      0.020763                     industry_grp_Oil & Energy\n",
       "655      0.015581          required_experience_Mid-Senior level\n",
       "650      0.014984                 required_experience_Associate\n",
       "238      0.014917                                   high school\n",
       "193      0.011807                                    fast paced\n",
       "398      0.011560                                    phone call\n",
       "672      0.009627                    industry_grp_Computer Prog"
      ]
     },
     "execution_count": 124,
     "metadata": {},
     "output_type": "execute_result"
    }
   ],
   "source": [
    "# top 15 features in predicting fake jobs (fraudulent = 1)\n",
    "best_pos = rf_coefs.sort_values(by = 'Coefficients', ascending = False).head(15)\n",
    "best_pos"
   ]
  },
  {
   "cell_type": "code",
   "execution_count": 125,
   "id": "5994b6f6",
   "metadata": {},
   "outputs": [
    {
     "data": {
      "text/html": [
       "<div>\n",
       "<style scoped>\n",
       "    .dataframe tbody tr th:only-of-type {\n",
       "        vertical-align: middle;\n",
       "    }\n",
       "\n",
       "    .dataframe tbody tr th {\n",
       "        vertical-align: top;\n",
       "    }\n",
       "\n",
       "    .dataframe thead th {\n",
       "        text-align: right;\n",
       "    }\n",
       "</style>\n",
       "<table border=\"1\" class=\"dataframe\">\n",
       "  <thead>\n",
       "    <tr style=\"text-align: right;\">\n",
       "      <th></th>\n",
       "      <th>Coefficients</th>\n",
       "      <th>Feature Names</th>\n",
       "    </tr>\n",
       "  </thead>\n",
       "  <tbody>\n",
       "    <tr>\n",
       "      <th>0</th>\n",
       "      <td>0.0</td>\n",
       "      <td>accommodationswillingness availability</td>\n",
       "    </tr>\n",
       "    <tr>\n",
       "      <th>482</th>\n",
       "      <td>0.0</td>\n",
       "      <td>running mail</td>\n",
       "    </tr>\n",
       "    <tr>\n",
       "      <th>590</th>\n",
       "      <td>0.0</td>\n",
       "      <td>urgent packagesperform</td>\n",
       "    </tr>\n",
       "    <tr>\n",
       "      <th>599</th>\n",
       "      <td>0.0</td>\n",
       "      <td>verbal writtenlifting</td>\n",
       "    </tr>\n",
       "    <tr>\n",
       "      <th>225</th>\n",
       "      <td>0.0</td>\n",
       "      <td>guidelinesadhere safety</td>\n",
       "    </tr>\n",
       "    <tr>\n",
       "      <th>199</th>\n",
       "      <td>0.0</td>\n",
       "      <td>filesprovide backfill</td>\n",
       "    </tr>\n",
       "    <tr>\n",
       "      <th>198</th>\n",
       "      <td>0.0</td>\n",
       "      <td>file ship</td>\n",
       "    </tr>\n",
       "    <tr>\n",
       "      <th>197</th>\n",
       "      <td>0.0</td>\n",
       "      <td>file purge</td>\n",
       "    </tr>\n",
       "    <tr>\n",
       "      <th>251</th>\n",
       "      <td>0.0</td>\n",
       "      <td>inserting delivery</td>\n",
       "    </tr>\n",
       "    <tr>\n",
       "      <th>196</th>\n",
       "      <td>0.0</td>\n",
       "      <td>file paper</td>\n",
       "    </tr>\n",
       "    <tr>\n",
       "      <th>169</th>\n",
       "      <td>0.0</td>\n",
       "      <td>environmentconsistently adhere</td>\n",
       "    </tr>\n",
       "    <tr>\n",
       "      <th>126</th>\n",
       "      <td>0.0</td>\n",
       "      <td>detailparticipate cross</td>\n",
       "    </tr>\n",
       "    <tr>\n",
       "      <th>100</th>\n",
       "      <td>0.0</td>\n",
       "      <td>daily spreadsheetsidentify</td>\n",
       "    </tr>\n",
       "    <tr>\n",
       "      <th>638</th>\n",
       "      <td>0.0</td>\n",
       "      <td>writtenlifting lb</td>\n",
       "    </tr>\n",
       "    <tr>\n",
       "      <th>88</th>\n",
       "      <td>0.0</td>\n",
       "      <td>copy scanning</td>\n",
       "    </tr>\n",
       "  </tbody>\n",
       "</table>\n",
       "</div>"
      ],
      "text/plain": [
       "     Coefficients                           Feature Names\n",
       "0             0.0  accommodationswillingness availability\n",
       "482           0.0                            running mail\n",
       "590           0.0                  urgent packagesperform\n",
       "599           0.0                   verbal writtenlifting\n",
       "225           0.0                 guidelinesadhere safety\n",
       "199           0.0                   filesprovide backfill\n",
       "198           0.0                               file ship\n",
       "197           0.0                              file purge\n",
       "251           0.0                      inserting delivery\n",
       "196           0.0                              file paper\n",
       "169           0.0          environmentconsistently adhere\n",
       "126           0.0                 detailparticipate cross\n",
       "100           0.0              daily spreadsheetsidentify\n",
       "638           0.0                       writtenlifting lb\n",
       "88            0.0                           copy scanning"
      ]
     },
     "execution_count": 125,
     "metadata": {},
     "output_type": "execute_result"
    }
   ],
   "source": [
    "# top 15 features in predicting real jobs (fraudulent = 0)\n",
    "best_neg = rf_coefs.sort_values(by = 'Coefficients').head(15)\n",
    "best_neg"
   ]
  },
  {
   "cell_type": "code",
   "execution_count": 126,
   "id": "d95b59da",
   "metadata": {},
   "outputs": [],
   "source": [
    "# predict y using selected model\n",
    "y_predicted1 = sm_cvec_rf_best.best_estimator_.predict(X_test)"
   ]
  },
  {
   "cell_type": "code",
   "execution_count": 127,
   "id": "9ce7ad15",
   "metadata": {},
   "outputs": [
    {
     "name": "stdout",
     "output_type": "stream",
     "text": [
      "True Negatives: 3405\n",
      "False Positives: 10\n",
      "False Negatives: 79\n",
      "True Positives: 67\n"
     ]
    }
   ],
   "source": [
    "# extracting values of confusion matrix\n",
    "cm = confusion_matrix(y_test, y_predicted1)\n",
    "tn, fp, fn, tp = cm.ravel()\n",
    "print(f\"True Negatives: {tn}\")\n",
    "print(f\"False Positives: {fp}\")\n",
    "print(f\"False Negatives: {fn}\")\n",
    "print(f\"True Positives: {tp}\")"
   ]
  },
  {
   "cell_type": "markdown",
   "id": "4cfcb5ee",
   "metadata": {},
   "source": [
    "### Misclassified Data"
   ]
  },
  {
   "cell_type": "code",
   "execution_count": 128,
   "id": "e04b59cf",
   "metadata": {},
   "outputs": [
    {
     "data": {
      "text/html": [
       "<div>\n",
       "<style scoped>\n",
       "    .dataframe tbody tr th:only-of-type {\n",
       "        vertical-align: middle;\n",
       "    }\n",
       "\n",
       "    .dataframe tbody tr th {\n",
       "        vertical-align: top;\n",
       "    }\n",
       "\n",
       "    .dataframe thead th {\n",
       "        text-align: right;\n",
       "    }\n",
       "</style>\n",
       "<table border=\"1\" class=\"dataframe\">\n",
       "  <thead>\n",
       "    <tr style=\"text-align: right;\">\n",
       "      <th></th>\n",
       "      <th>has_company_logo</th>\n",
       "      <th>has_questions</th>\n",
       "      <th>text_lemma</th>\n",
       "      <th>word_length</th>\n",
       "      <th>required_experience_Associate</th>\n",
       "      <th>required_experience_Director</th>\n",
       "      <th>required_experience_Entry level</th>\n",
       "      <th>required_experience_Executive</th>\n",
       "      <th>required_experience_Internship</th>\n",
       "      <th>required_experience_Mid-Senior level</th>\n",
       "      <th>required_experience_Not Applicable</th>\n",
       "      <th>required_education_Associate Degree</th>\n",
       "      <th>required_education_Bachelor's Degree</th>\n",
       "      <th>required_education_Certification</th>\n",
       "      <th>required_education_Doctorate</th>\n",
       "      <th>required_education_High School or equivalent</th>\n",
       "      <th>required_education_Master's Degree</th>\n",
       "      <th>required_education_Professional</th>\n",
       "      <th>required_education_Some College Coursework Completed</th>\n",
       "      <th>required_education_Unspecified</th>\n",
       "      <th>required_education_Vocational</th>\n",
       "      <th>industry_grp_Admin/HR</th>\n",
       "      <th>industry_grp_Architecture &amp; Engineering</th>\n",
       "      <th>industry_grp_Arts &amp; Entertainment</th>\n",
       "      <th>industry_grp_Broadcasting/Publishing</th>\n",
       "      <th>industry_grp_Business/Consultancy</th>\n",
       "      <th>industry_grp_Computer Prog</th>\n",
       "      <th>industry_grp_Construction</th>\n",
       "      <th>industry_grp_Education</th>\n",
       "      <th>industry_grp_F&amp;B</th>\n",
       "      <th>industry_grp_Financial Services</th>\n",
       "      <th>industry_grp_Healthcare</th>\n",
       "      <th>industry_grp_ICT</th>\n",
       "      <th>industry_grp_Legal &amp; Accounting</th>\n",
       "      <th>industry_grp_Manufacturing</th>\n",
       "      <th>industry_grp_Marketing/Advertising</th>\n",
       "      <th>industry_grp_Oil &amp; Energy</th>\n",
       "      <th>industry_grp_Others</th>\n",
       "      <th>industry_grp_Public Admin</th>\n",
       "      <th>industry_grp_Real Estate</th>\n",
       "      <th>industry_grp_Scientific R&amp;D</th>\n",
       "      <th>industry_grp_Security and Investigations</th>\n",
       "      <th>industry_grp_Social Services</th>\n",
       "      <th>industry_grp_Telecommunications</th>\n",
       "      <th>industry_grp_Transportation &amp; Storage</th>\n",
       "      <th>industry_grp_Wholesale/Retail</th>\n",
       "      <th>fraudulent</th>\n",
       "      <th>y_pred</th>\n",
       "    </tr>\n",
       "  </thead>\n",
       "  <tbody>\n",
       "    <tr>\n",
       "      <th>1591</th>\n",
       "      <td>1</td>\n",
       "      <td>1</td>\n",
       "      <td>contract qa engineer always open connecting experienced qa engineer interested contract opportun...</td>\n",
       "      <td>154</td>\n",
       "      <td>0</td>\n",
       "      <td>0</td>\n",
       "      <td>0</td>\n",
       "      <td>0</td>\n",
       "      <td>0</td>\n",
       "      <td>1</td>\n",
       "      <td>0</td>\n",
       "      <td>0</td>\n",
       "      <td>1</td>\n",
       "      <td>0</td>\n",
       "      <td>0</td>\n",
       "      <td>0</td>\n",
       "      <td>0</td>\n",
       "      <td>0</td>\n",
       "      <td>0</td>\n",
       "      <td>0</td>\n",
       "      <td>0</td>\n",
       "      <td>0</td>\n",
       "      <td>0</td>\n",
       "      <td>0</td>\n",
       "      <td>0</td>\n",
       "      <td>0</td>\n",
       "      <td>1</td>\n",
       "      <td>0</td>\n",
       "      <td>0</td>\n",
       "      <td>0</td>\n",
       "      <td>0</td>\n",
       "      <td>0</td>\n",
       "      <td>0</td>\n",
       "      <td>0</td>\n",
       "      <td>0</td>\n",
       "      <td>0</td>\n",
       "      <td>0</td>\n",
       "      <td>0</td>\n",
       "      <td>0</td>\n",
       "      <td>0</td>\n",
       "      <td>0</td>\n",
       "      <td>0</td>\n",
       "      <td>0</td>\n",
       "      <td>0</td>\n",
       "      <td>0</td>\n",
       "      <td>0</td>\n",
       "      <td>0</td>\n",
       "      <td>0</td>\n",
       "    </tr>\n",
       "  </tbody>\n",
       "</table>\n",
       "</div>"
      ],
      "text/plain": [
       "      has_company_logo  has_questions  \\\n",
       "1591                 1              1   \n",
       "\n",
       "                                                                                               text_lemma  \\\n",
       "1591  contract qa engineer always open connecting experienced qa engineer interested contract opportun...   \n",
       "\n",
       "      word_length  required_experience_Associate  \\\n",
       "1591          154                              0   \n",
       "\n",
       "      required_experience_Director  required_experience_Entry level  \\\n",
       "1591                             0                                0   \n",
       "\n",
       "      required_experience_Executive  required_experience_Internship  \\\n",
       "1591                              0                               0   \n",
       "\n",
       "      required_experience_Mid-Senior level  \\\n",
       "1591                                     1   \n",
       "\n",
       "      required_experience_Not Applicable  required_education_Associate Degree  \\\n",
       "1591                                   0                                    0   \n",
       "\n",
       "      required_education_Bachelor's Degree  required_education_Certification  \\\n",
       "1591                                     1                                 0   \n",
       "\n",
       "      required_education_Doctorate  \\\n",
       "1591                             0   \n",
       "\n",
       "      required_education_High School or equivalent  \\\n",
       "1591                                             0   \n",
       "\n",
       "      required_education_Master's Degree  required_education_Professional  \\\n",
       "1591                                   0                                0   \n",
       "\n",
       "      required_education_Some College Coursework Completed  \\\n",
       "1591                                                     0   \n",
       "\n",
       "      required_education_Unspecified  required_education_Vocational  \\\n",
       "1591                               0                              0   \n",
       "\n",
       "      industry_grp_Admin/HR  industry_grp_Architecture & Engineering  \\\n",
       "1591                      0                                        0   \n",
       "\n",
       "      industry_grp_Arts & Entertainment  industry_grp_Broadcasting/Publishing  \\\n",
       "1591                                  0                                     0   \n",
       "\n",
       "      industry_grp_Business/Consultancy  industry_grp_Computer Prog  \\\n",
       "1591                                  0                           1   \n",
       "\n",
       "      industry_grp_Construction  industry_grp_Education  industry_grp_F&B  \\\n",
       "1591                          0                       0                 0   \n",
       "\n",
       "      industry_grp_Financial Services  industry_grp_Healthcare  \\\n",
       "1591                                0                        0   \n",
       "\n",
       "      industry_grp_ICT  industry_grp_Legal & Accounting  \\\n",
       "1591                 0                                0   \n",
       "\n",
       "      industry_grp_Manufacturing  industry_grp_Marketing/Advertising  \\\n",
       "1591                           0                                   0   \n",
       "\n",
       "      industry_grp_Oil & Energy  industry_grp_Others  \\\n",
       "1591                          0                    0   \n",
       "\n",
       "      industry_grp_Public Admin  industry_grp_Real Estate  \\\n",
       "1591                          0                         0   \n",
       "\n",
       "      industry_grp_Scientific R&D  industry_grp_Security and Investigations  \\\n",
       "1591                            0                                         0   \n",
       "\n",
       "      industry_grp_Social Services  industry_grp_Telecommunications  \\\n",
       "1591                             0                                0   \n",
       "\n",
       "      industry_grp_Transportation & Storage  industry_grp_Wholesale/Retail  \\\n",
       "1591                                      0                              0   \n",
       "\n",
       "      fraudulent  y_pred  \n",
       "1591           0       0  "
      ]
     },
     "execution_count": 128,
     "metadata": {},
     "output_type": "execute_result"
    }
   ],
   "source": [
    "# add the predictions into the test df\n",
    "predicted_df = pd.DataFrame(data = y_predicted, columns = ['y_pred'], index = X_test.index.copy())\n",
    "test_pred_df = pd.concat([X_test, y_test.to_frame(), predicted_df], axis = 1)\n",
    "test_pred_df.head(1)"
   ]
  },
  {
   "cell_type": "code",
   "execution_count": 129,
   "id": "2e221ccb",
   "metadata": {},
   "outputs": [
    {
     "data": {
      "text/html": [
       "<div>\n",
       "<style scoped>\n",
       "    .dataframe tbody tr th:only-of-type {\n",
       "        vertical-align: middle;\n",
       "    }\n",
       "\n",
       "    .dataframe tbody tr th {\n",
       "        vertical-align: top;\n",
       "    }\n",
       "\n",
       "    .dataframe thead th {\n",
       "        text-align: right;\n",
       "    }\n",
       "</style>\n",
       "<table border=\"1\" class=\"dataframe\">\n",
       "  <thead>\n",
       "    <tr style=\"text-align: right;\">\n",
       "      <th></th>\n",
       "      <th>has_company_logo</th>\n",
       "      <th>has_questions</th>\n",
       "      <th>text_lemma</th>\n",
       "      <th>word_length</th>\n",
       "      <th>required_experience_Associate</th>\n",
       "      <th>required_experience_Director</th>\n",
       "      <th>required_experience_Entry level</th>\n",
       "      <th>required_experience_Executive</th>\n",
       "      <th>required_experience_Internship</th>\n",
       "      <th>required_experience_Mid-Senior level</th>\n",
       "      <th>required_experience_Not Applicable</th>\n",
       "      <th>required_education_Associate Degree</th>\n",
       "      <th>required_education_Bachelor's Degree</th>\n",
       "      <th>required_education_Certification</th>\n",
       "      <th>required_education_Doctorate</th>\n",
       "      <th>required_education_High School or equivalent</th>\n",
       "      <th>required_education_Master's Degree</th>\n",
       "      <th>required_education_Professional</th>\n",
       "      <th>required_education_Some College Coursework Completed</th>\n",
       "      <th>required_education_Unspecified</th>\n",
       "      <th>required_education_Vocational</th>\n",
       "      <th>industry_grp_Admin/HR</th>\n",
       "      <th>industry_grp_Architecture &amp; Engineering</th>\n",
       "      <th>industry_grp_Arts &amp; Entertainment</th>\n",
       "      <th>industry_grp_Broadcasting/Publishing</th>\n",
       "      <th>industry_grp_Business/Consultancy</th>\n",
       "      <th>industry_grp_Computer Prog</th>\n",
       "      <th>industry_grp_Construction</th>\n",
       "      <th>industry_grp_Education</th>\n",
       "      <th>industry_grp_F&amp;B</th>\n",
       "      <th>industry_grp_Financial Services</th>\n",
       "      <th>industry_grp_Healthcare</th>\n",
       "      <th>industry_grp_ICT</th>\n",
       "      <th>industry_grp_Legal &amp; Accounting</th>\n",
       "      <th>industry_grp_Manufacturing</th>\n",
       "      <th>industry_grp_Marketing/Advertising</th>\n",
       "      <th>industry_grp_Oil &amp; Energy</th>\n",
       "      <th>industry_grp_Others</th>\n",
       "      <th>industry_grp_Public Admin</th>\n",
       "      <th>industry_grp_Real Estate</th>\n",
       "      <th>industry_grp_Scientific R&amp;D</th>\n",
       "      <th>industry_grp_Security and Investigations</th>\n",
       "      <th>industry_grp_Social Services</th>\n",
       "      <th>industry_grp_Telecommunications</th>\n",
       "      <th>industry_grp_Transportation &amp; Storage</th>\n",
       "      <th>industry_grp_Wholesale/Retail</th>\n",
       "      <th>fraudulent</th>\n",
       "      <th>y_pred</th>\n",
       "    </tr>\n",
       "  </thead>\n",
       "  <tbody>\n",
       "    <tr>\n",
       "      <th>8522</th>\n",
       "      <td>0</td>\n",
       "      <td>0</td>\n",
       "      <td>new development project leader job hereregularly provide feedback idea solution process improvem...</td>\n",
       "      <td>394</td>\n",
       "      <td>0</td>\n",
       "      <td>0</td>\n",
       "      <td>0</td>\n",
       "      <td>0</td>\n",
       "      <td>0</td>\n",
       "      <td>1</td>\n",
       "      <td>0</td>\n",
       "      <td>0</td>\n",
       "      <td>1</td>\n",
       "      <td>0</td>\n",
       "      <td>0</td>\n",
       "      <td>0</td>\n",
       "      <td>0</td>\n",
       "      <td>0</td>\n",
       "      <td>0</td>\n",
       "      <td>0</td>\n",
       "      <td>0</td>\n",
       "      <td>0</td>\n",
       "      <td>0</td>\n",
       "      <td>0</td>\n",
       "      <td>0</td>\n",
       "      <td>0</td>\n",
       "      <td>0</td>\n",
       "      <td>0</td>\n",
       "      <td>0</td>\n",
       "      <td>0</td>\n",
       "      <td>0</td>\n",
       "      <td>0</td>\n",
       "      <td>0</td>\n",
       "      <td>0</td>\n",
       "      <td>0</td>\n",
       "      <td>1</td>\n",
       "      <td>0</td>\n",
       "      <td>0</td>\n",
       "      <td>0</td>\n",
       "      <td>0</td>\n",
       "      <td>0</td>\n",
       "      <td>0</td>\n",
       "      <td>0</td>\n",
       "      <td>0</td>\n",
       "      <td>0</td>\n",
       "      <td>0</td>\n",
       "      <td>0</td>\n",
       "      <td>1</td>\n",
       "    </tr>\n",
       "    <tr>\n",
       "      <th>2072</th>\n",
       "      <td>0</td>\n",
       "      <td>0</td>\n",
       "      <td>sqa engineer qualification bachelor degree year software quality engineering responsibility soft...</td>\n",
       "      <td>98</td>\n",
       "      <td>0</td>\n",
       "      <td>0</td>\n",
       "      <td>0</td>\n",
       "      <td>0</td>\n",
       "      <td>0</td>\n",
       "      <td>1</td>\n",
       "      <td>0</td>\n",
       "      <td>0</td>\n",
       "      <td>1</td>\n",
       "      <td>0</td>\n",
       "      <td>0</td>\n",
       "      <td>0</td>\n",
       "      <td>0</td>\n",
       "      <td>0</td>\n",
       "      <td>0</td>\n",
       "      <td>0</td>\n",
       "      <td>0</td>\n",
       "      <td>0</td>\n",
       "      <td>0</td>\n",
       "      <td>0</td>\n",
       "      <td>0</td>\n",
       "      <td>0</td>\n",
       "      <td>0</td>\n",
       "      <td>0</td>\n",
       "      <td>0</td>\n",
       "      <td>0</td>\n",
       "      <td>0</td>\n",
       "      <td>1</td>\n",
       "      <td>0</td>\n",
       "      <td>0</td>\n",
       "      <td>0</td>\n",
       "      <td>0</td>\n",
       "      <td>0</td>\n",
       "      <td>0</td>\n",
       "      <td>0</td>\n",
       "      <td>0</td>\n",
       "      <td>0</td>\n",
       "      <td>0</td>\n",
       "      <td>0</td>\n",
       "      <td>0</td>\n",
       "      <td>0</td>\n",
       "      <td>0</td>\n",
       "      <td>0</td>\n",
       "      <td>1</td>\n",
       "    </tr>\n",
       "    <tr>\n",
       "      <th>2655</th>\n",
       "      <td>0</td>\n",
       "      <td>1</td>\n",
       "      <td>mcafee technology security specialist position encompasses sale engineering integration engineer...</td>\n",
       "      <td>72</td>\n",
       "      <td>0</td>\n",
       "      <td>0</td>\n",
       "      <td>0</td>\n",
       "      <td>0</td>\n",
       "      <td>0</td>\n",
       "      <td>1</td>\n",
       "      <td>0</td>\n",
       "      <td>0</td>\n",
       "      <td>0</td>\n",
       "      <td>0</td>\n",
       "      <td>0</td>\n",
       "      <td>0</td>\n",
       "      <td>0</td>\n",
       "      <td>0</td>\n",
       "      <td>0</td>\n",
       "      <td>1</td>\n",
       "      <td>0</td>\n",
       "      <td>0</td>\n",
       "      <td>0</td>\n",
       "      <td>0</td>\n",
       "      <td>0</td>\n",
       "      <td>0</td>\n",
       "      <td>0</td>\n",
       "      <td>0</td>\n",
       "      <td>0</td>\n",
       "      <td>0</td>\n",
       "      <td>0</td>\n",
       "      <td>0</td>\n",
       "      <td>0</td>\n",
       "      <td>0</td>\n",
       "      <td>0</td>\n",
       "      <td>0</td>\n",
       "      <td>0</td>\n",
       "      <td>0</td>\n",
       "      <td>0</td>\n",
       "      <td>0</td>\n",
       "      <td>0</td>\n",
       "      <td>0</td>\n",
       "      <td>0</td>\n",
       "      <td>1</td>\n",
       "      <td>0</td>\n",
       "      <td>0</td>\n",
       "      <td>0</td>\n",
       "      <td>1</td>\n",
       "    </tr>\n",
       "    <tr>\n",
       "      <th>8573</th>\n",
       "      <td>0</td>\n",
       "      <td>0</td>\n",
       "      <td>peoplesoft hcm analyst job responsibility interact user community gather document business requi...</td>\n",
       "      <td>56</td>\n",
       "      <td>0</td>\n",
       "      <td>0</td>\n",
       "      <td>0</td>\n",
       "      <td>0</td>\n",
       "      <td>0</td>\n",
       "      <td>1</td>\n",
       "      <td>0</td>\n",
       "      <td>0</td>\n",
       "      <td>0</td>\n",
       "      <td>0</td>\n",
       "      <td>0</td>\n",
       "      <td>0</td>\n",
       "      <td>1</td>\n",
       "      <td>0</td>\n",
       "      <td>0</td>\n",
       "      <td>0</td>\n",
       "      <td>0</td>\n",
       "      <td>0</td>\n",
       "      <td>0</td>\n",
       "      <td>0</td>\n",
       "      <td>0</td>\n",
       "      <td>1</td>\n",
       "      <td>0</td>\n",
       "      <td>0</td>\n",
       "      <td>0</td>\n",
       "      <td>0</td>\n",
       "      <td>0</td>\n",
       "      <td>0</td>\n",
       "      <td>0</td>\n",
       "      <td>0</td>\n",
       "      <td>0</td>\n",
       "      <td>0</td>\n",
       "      <td>0</td>\n",
       "      <td>0</td>\n",
       "      <td>0</td>\n",
       "      <td>0</td>\n",
       "      <td>0</td>\n",
       "      <td>0</td>\n",
       "      <td>0</td>\n",
       "      <td>0</td>\n",
       "      <td>0</td>\n",
       "      <td>0</td>\n",
       "      <td>0</td>\n",
       "      <td>1</td>\n",
       "    </tr>\n",
       "    <tr>\n",
       "      <th>10384</th>\n",
       "      <td>1</td>\n",
       "      <td>1</td>\n",
       "      <td>executive assistant ceo office manager suneris inc medical device focus bringing new technology ...</td>\n",
       "      <td>120</td>\n",
       "      <td>0</td>\n",
       "      <td>0</td>\n",
       "      <td>0</td>\n",
       "      <td>0</td>\n",
       "      <td>0</td>\n",
       "      <td>0</td>\n",
       "      <td>1</td>\n",
       "      <td>0</td>\n",
       "      <td>1</td>\n",
       "      <td>0</td>\n",
       "      <td>0</td>\n",
       "      <td>0</td>\n",
       "      <td>0</td>\n",
       "      <td>0</td>\n",
       "      <td>0</td>\n",
       "      <td>0</td>\n",
       "      <td>0</td>\n",
       "      <td>0</td>\n",
       "      <td>0</td>\n",
       "      <td>0</td>\n",
       "      <td>0</td>\n",
       "      <td>0</td>\n",
       "      <td>0</td>\n",
       "      <td>0</td>\n",
       "      <td>0</td>\n",
       "      <td>0</td>\n",
       "      <td>0</td>\n",
       "      <td>0</td>\n",
       "      <td>0</td>\n",
       "      <td>0</td>\n",
       "      <td>0</td>\n",
       "      <td>0</td>\n",
       "      <td>0</td>\n",
       "      <td>0</td>\n",
       "      <td>0</td>\n",
       "      <td>0</td>\n",
       "      <td>1</td>\n",
       "      <td>0</td>\n",
       "      <td>0</td>\n",
       "      <td>0</td>\n",
       "      <td>0</td>\n",
       "      <td>0</td>\n",
       "      <td>0</td>\n",
       "      <td>1</td>\n",
       "    </tr>\n",
       "  </tbody>\n",
       "</table>\n",
       "</div>"
      ],
      "text/plain": [
       "       has_company_logo  has_questions  \\\n",
       "8522                  0              0   \n",
       "2072                  0              0   \n",
       "2655                  0              1   \n",
       "8573                  0              0   \n",
       "10384                 1              1   \n",
       "\n",
       "                                                                                                text_lemma  \\\n",
       "8522   new development project leader job hereregularly provide feedback idea solution process improvem...   \n",
       "2072   sqa engineer qualification bachelor degree year software quality engineering responsibility soft...   \n",
       "2655   mcafee technology security specialist position encompasses sale engineering integration engineer...   \n",
       "8573   peoplesoft hcm analyst job responsibility interact user community gather document business requi...   \n",
       "10384  executive assistant ceo office manager suneris inc medical device focus bringing new technology ...   \n",
       "\n",
       "       word_length  required_experience_Associate  \\\n",
       "8522           394                              0   \n",
       "2072            98                              0   \n",
       "2655            72                              0   \n",
       "8573            56                              0   \n",
       "10384          120                              0   \n",
       "\n",
       "       required_experience_Director  required_experience_Entry level  \\\n",
       "8522                              0                                0   \n",
       "2072                              0                                0   \n",
       "2655                              0                                0   \n",
       "8573                              0                                0   \n",
       "10384                             0                                0   \n",
       "\n",
       "       required_experience_Executive  required_experience_Internship  \\\n",
       "8522                               0                               0   \n",
       "2072                               0                               0   \n",
       "2655                               0                               0   \n",
       "8573                               0                               0   \n",
       "10384                              0                               0   \n",
       "\n",
       "       required_experience_Mid-Senior level  \\\n",
       "8522                                      1   \n",
       "2072                                      1   \n",
       "2655                                      1   \n",
       "8573                                      1   \n",
       "10384                                     0   \n",
       "\n",
       "       required_experience_Not Applicable  \\\n",
       "8522                                    0   \n",
       "2072                                    0   \n",
       "2655                                    0   \n",
       "8573                                    0   \n",
       "10384                                   1   \n",
       "\n",
       "       required_education_Associate Degree  \\\n",
       "8522                                     0   \n",
       "2072                                     0   \n",
       "2655                                     0   \n",
       "8573                                     0   \n",
       "10384                                    0   \n",
       "\n",
       "       required_education_Bachelor's Degree  required_education_Certification  \\\n",
       "8522                                      1                                 0   \n",
       "2072                                      1                                 0   \n",
       "2655                                      0                                 0   \n",
       "8573                                      0                                 0   \n",
       "10384                                     1                                 0   \n",
       "\n",
       "       required_education_Doctorate  \\\n",
       "8522                              0   \n",
       "2072                              0   \n",
       "2655                              0   \n",
       "8573                              0   \n",
       "10384                             0   \n",
       "\n",
       "       required_education_High School or equivalent  \\\n",
       "8522                                              0   \n",
       "2072                                              0   \n",
       "2655                                              0   \n",
       "8573                                              0   \n",
       "10384                                             0   \n",
       "\n",
       "       required_education_Master's Degree  required_education_Professional  \\\n",
       "8522                                    0                                0   \n",
       "2072                                    0                                0   \n",
       "2655                                    0                                0   \n",
       "8573                                    1                                0   \n",
       "10384                                   0                                0   \n",
       "\n",
       "       required_education_Some College Coursework Completed  \\\n",
       "8522                                                      0   \n",
       "2072                                                      0   \n",
       "2655                                                      0   \n",
       "8573                                                      0   \n",
       "10384                                                     0   \n",
       "\n",
       "       required_education_Unspecified  required_education_Vocational  \\\n",
       "8522                                0                              0   \n",
       "2072                                0                              0   \n",
       "2655                                1                              0   \n",
       "8573                                0                              0   \n",
       "10384                               0                              0   \n",
       "\n",
       "       industry_grp_Admin/HR  industry_grp_Architecture & Engineering  \\\n",
       "8522                       0                                        0   \n",
       "2072                       0                                        0   \n",
       "2655                       0                                        0   \n",
       "8573                       0                                        0   \n",
       "10384                      0                                        0   \n",
       "\n",
       "       industry_grp_Arts & Entertainment  \\\n",
       "8522                                   0   \n",
       "2072                                   0   \n",
       "2655                                   0   \n",
       "8573                                   0   \n",
       "10384                                  0   \n",
       "\n",
       "       industry_grp_Broadcasting/Publishing  \\\n",
       "8522                                      0   \n",
       "2072                                      0   \n",
       "2655                                      0   \n",
       "8573                                      0   \n",
       "10384                                     0   \n",
       "\n",
       "       industry_grp_Business/Consultancy  industry_grp_Computer Prog  \\\n",
       "8522                                   0                           0   \n",
       "2072                                   0                           0   \n",
       "2655                                   0                           0   \n",
       "8573                                   1                           0   \n",
       "10384                                  0                           0   \n",
       "\n",
       "       industry_grp_Construction  industry_grp_Education  industry_grp_F&B  \\\n",
       "8522                           0                       0                 0   \n",
       "2072                           0                       0                 0   \n",
       "2655                           0                       0                 0   \n",
       "8573                           0                       0                 0   \n",
       "10384                          0                       0                 0   \n",
       "\n",
       "       industry_grp_Financial Services  industry_grp_Healthcare  \\\n",
       "8522                                 0                        0   \n",
       "2072                                 0                        1   \n",
       "2655                                 0                        0   \n",
       "8573                                 0                        0   \n",
       "10384                                0                        0   \n",
       "\n",
       "       industry_grp_ICT  industry_grp_Legal & Accounting  \\\n",
       "8522                  0                                0   \n",
       "2072                  0                                0   \n",
       "2655                  0                                0   \n",
       "8573                  0                                0   \n",
       "10384                 0                                0   \n",
       "\n",
       "       industry_grp_Manufacturing  industry_grp_Marketing/Advertising  \\\n",
       "8522                            0                                   1   \n",
       "2072                            0                                   0   \n",
       "2655                            0                                   0   \n",
       "8573                            0                                   0   \n",
       "10384                           0                                   0   \n",
       "\n",
       "       industry_grp_Oil & Energy  industry_grp_Others  \\\n",
       "8522                           0                    0   \n",
       "2072                           0                    0   \n",
       "2655                           0                    0   \n",
       "8573                           0                    0   \n",
       "10384                          0                    0   \n",
       "\n",
       "       industry_grp_Public Admin  industry_grp_Real Estate  \\\n",
       "8522                           0                         0   \n",
       "2072                           0                         0   \n",
       "2655                           0                         0   \n",
       "8573                           0                         0   \n",
       "10384                          0                         0   \n",
       "\n",
       "       industry_grp_Scientific R&D  industry_grp_Security and Investigations  \\\n",
       "8522                             0                                         0   \n",
       "2072                             0                                         0   \n",
       "2655                             0                                         0   \n",
       "8573                             0                                         0   \n",
       "10384                            1                                         0   \n",
       "\n",
       "       industry_grp_Social Services  industry_grp_Telecommunications  \\\n",
       "8522                              0                                0   \n",
       "2072                              0                                0   \n",
       "2655                              0                                1   \n",
       "8573                              0                                0   \n",
       "10384                             0                                0   \n",
       "\n",
       "       industry_grp_Transportation & Storage  industry_grp_Wholesale/Retail  \\\n",
       "8522                                       0                              0   \n",
       "2072                                       0                              0   \n",
       "2655                                       0                              0   \n",
       "8573                                       0                              0   \n",
       "10384                                      0                              0   \n",
       "\n",
       "       fraudulent  y_pred  \n",
       "8522            0       1  \n",
       "2072            0       1  \n",
       "2655            0       1  \n",
       "8573            0       1  \n",
       "10384           0       1  "
      ]
     },
     "execution_count": 129,
     "metadata": {},
     "output_type": "execute_result"
    }
   ],
   "source": [
    "# filter for false positives (misclassified data)\n",
    "false_positives = test_pred_df[(test_pred_df['fraudulent'] == 0) & (test_pred_df['y_pred'] == 1)]\n",
    "false_positives.head()"
   ]
  },
  {
   "cell_type": "code",
   "execution_count": 130,
   "id": "68474fb0",
   "metadata": {},
   "outputs": [],
   "source": [
    "# export fp to csv\n",
    "false_positives.to_csv('../data/false_positives.csv', index = False)"
   ]
  },
  {
   "cell_type": "markdown",
   "id": "4e1cd268",
   "metadata": {},
   "source": [
    "**Observation**: There were 156 jobs classified incorrectly as fraudulent even though they were genuine because these jobs are related to engineering/design or office admin, which are top features in predicting fake jobs."
   ]
  },
  {
   "cell_type": "code",
   "execution_count": 131,
   "id": "741a9714",
   "metadata": {},
   "outputs": [
    {
     "data": {
      "text/html": [
       "<div>\n",
       "<style scoped>\n",
       "    .dataframe tbody tr th:only-of-type {\n",
       "        vertical-align: middle;\n",
       "    }\n",
       "\n",
       "    .dataframe tbody tr th {\n",
       "        vertical-align: top;\n",
       "    }\n",
       "\n",
       "    .dataframe thead th {\n",
       "        text-align: right;\n",
       "    }\n",
       "</style>\n",
       "<table border=\"1\" class=\"dataframe\">\n",
       "  <thead>\n",
       "    <tr style=\"text-align: right;\">\n",
       "      <th></th>\n",
       "      <th>has_company_logo</th>\n",
       "      <th>has_questions</th>\n",
       "      <th>text_lemma</th>\n",
       "      <th>word_length</th>\n",
       "      <th>required_experience_Associate</th>\n",
       "      <th>required_experience_Director</th>\n",
       "      <th>required_experience_Entry level</th>\n",
       "      <th>required_experience_Executive</th>\n",
       "      <th>required_experience_Internship</th>\n",
       "      <th>required_experience_Mid-Senior level</th>\n",
       "      <th>required_experience_Not Applicable</th>\n",
       "      <th>required_education_Associate Degree</th>\n",
       "      <th>required_education_Bachelor's Degree</th>\n",
       "      <th>required_education_Certification</th>\n",
       "      <th>required_education_Doctorate</th>\n",
       "      <th>required_education_High School or equivalent</th>\n",
       "      <th>required_education_Master's Degree</th>\n",
       "      <th>required_education_Professional</th>\n",
       "      <th>required_education_Some College Coursework Completed</th>\n",
       "      <th>required_education_Unspecified</th>\n",
       "      <th>required_education_Vocational</th>\n",
       "      <th>industry_grp_Admin/HR</th>\n",
       "      <th>industry_grp_Architecture &amp; Engineering</th>\n",
       "      <th>industry_grp_Arts &amp; Entertainment</th>\n",
       "      <th>industry_grp_Broadcasting/Publishing</th>\n",
       "      <th>industry_grp_Business/Consultancy</th>\n",
       "      <th>industry_grp_Computer Prog</th>\n",
       "      <th>industry_grp_Construction</th>\n",
       "      <th>industry_grp_Education</th>\n",
       "      <th>industry_grp_F&amp;B</th>\n",
       "      <th>industry_grp_Financial Services</th>\n",
       "      <th>industry_grp_Healthcare</th>\n",
       "      <th>industry_grp_ICT</th>\n",
       "      <th>industry_grp_Legal &amp; Accounting</th>\n",
       "      <th>industry_grp_Manufacturing</th>\n",
       "      <th>industry_grp_Marketing/Advertising</th>\n",
       "      <th>industry_grp_Oil &amp; Energy</th>\n",
       "      <th>industry_grp_Others</th>\n",
       "      <th>industry_grp_Public Admin</th>\n",
       "      <th>industry_grp_Real Estate</th>\n",
       "      <th>industry_grp_Scientific R&amp;D</th>\n",
       "      <th>industry_grp_Security and Investigations</th>\n",
       "      <th>industry_grp_Social Services</th>\n",
       "      <th>industry_grp_Telecommunications</th>\n",
       "      <th>industry_grp_Transportation &amp; Storage</th>\n",
       "      <th>industry_grp_Wholesale/Retail</th>\n",
       "      <th>fraudulent</th>\n",
       "      <th>y_pred</th>\n",
       "    </tr>\n",
       "  </thead>\n",
       "  <tbody>\n",
       "    <tr>\n",
       "      <th>11719</th>\n",
       "      <td>0</td>\n",
       "      <td>0</td>\n",
       "      <td>part job home daily pay part job home daily pay minimum hour day anytime required job earn every...</td>\n",
       "      <td>27</td>\n",
       "      <td>0</td>\n",
       "      <td>0</td>\n",
       "      <td>0</td>\n",
       "      <td>0</td>\n",
       "      <td>0</td>\n",
       "      <td>0</td>\n",
       "      <td>1</td>\n",
       "      <td>0</td>\n",
       "      <td>0</td>\n",
       "      <td>0</td>\n",
       "      <td>0</td>\n",
       "      <td>0</td>\n",
       "      <td>0</td>\n",
       "      <td>0</td>\n",
       "      <td>0</td>\n",
       "      <td>1</td>\n",
       "      <td>0</td>\n",
       "      <td>0</td>\n",
       "      <td>0</td>\n",
       "      <td>0</td>\n",
       "      <td>0</td>\n",
       "      <td>0</td>\n",
       "      <td>0</td>\n",
       "      <td>0</td>\n",
       "      <td>0</td>\n",
       "      <td>0</td>\n",
       "      <td>0</td>\n",
       "      <td>0</td>\n",
       "      <td>0</td>\n",
       "      <td>0</td>\n",
       "      <td>0</td>\n",
       "      <td>0</td>\n",
       "      <td>0</td>\n",
       "      <td>1</td>\n",
       "      <td>0</td>\n",
       "      <td>0</td>\n",
       "      <td>0</td>\n",
       "      <td>0</td>\n",
       "      <td>0</td>\n",
       "      <td>0</td>\n",
       "      <td>0</td>\n",
       "      <td>0</td>\n",
       "      <td>1</td>\n",
       "      <td>0</td>\n",
       "    </tr>\n",
       "    <tr>\n",
       "      <th>4433</th>\n",
       "      <td>1</td>\n",
       "      <td>1</td>\n",
       "      <td>market operation manager exemptshift workedmonday sunday day nightssalary starting salary rampin...</td>\n",
       "      <td>317</td>\n",
       "      <td>0</td>\n",
       "      <td>0</td>\n",
       "      <td>0</td>\n",
       "      <td>0</td>\n",
       "      <td>0</td>\n",
       "      <td>1</td>\n",
       "      <td>0</td>\n",
       "      <td>0</td>\n",
       "      <td>0</td>\n",
       "      <td>0</td>\n",
       "      <td>0</td>\n",
       "      <td>0</td>\n",
       "      <td>0</td>\n",
       "      <td>0</td>\n",
       "      <td>1</td>\n",
       "      <td>0</td>\n",
       "      <td>0</td>\n",
       "      <td>0</td>\n",
       "      <td>0</td>\n",
       "      <td>0</td>\n",
       "      <td>0</td>\n",
       "      <td>1</td>\n",
       "      <td>0</td>\n",
       "      <td>0</td>\n",
       "      <td>0</td>\n",
       "      <td>0</td>\n",
       "      <td>0</td>\n",
       "      <td>0</td>\n",
       "      <td>0</td>\n",
       "      <td>0</td>\n",
       "      <td>0</td>\n",
       "      <td>0</td>\n",
       "      <td>0</td>\n",
       "      <td>0</td>\n",
       "      <td>0</td>\n",
       "      <td>0</td>\n",
       "      <td>0</td>\n",
       "      <td>0</td>\n",
       "      <td>0</td>\n",
       "      <td>0</td>\n",
       "      <td>0</td>\n",
       "      <td>0</td>\n",
       "      <td>1</td>\n",
       "      <td>0</td>\n",
       "    </tr>\n",
       "    <tr>\n",
       "      <th>11824</th>\n",
       "      <td>0</td>\n",
       "      <td>1</td>\n",
       "      <td>vacancy nanny cook driver housekeeper needed hiring home domestic mother home mom died told many...</td>\n",
       "      <td>156</td>\n",
       "      <td>0</td>\n",
       "      <td>0</td>\n",
       "      <td>0</td>\n",
       "      <td>0</td>\n",
       "      <td>0</td>\n",
       "      <td>0</td>\n",
       "      <td>1</td>\n",
       "      <td>0</td>\n",
       "      <td>0</td>\n",
       "      <td>0</td>\n",
       "      <td>0</td>\n",
       "      <td>0</td>\n",
       "      <td>0</td>\n",
       "      <td>0</td>\n",
       "      <td>0</td>\n",
       "      <td>1</td>\n",
       "      <td>0</td>\n",
       "      <td>0</td>\n",
       "      <td>0</td>\n",
       "      <td>0</td>\n",
       "      <td>0</td>\n",
       "      <td>0</td>\n",
       "      <td>0</td>\n",
       "      <td>0</td>\n",
       "      <td>0</td>\n",
       "      <td>0</td>\n",
       "      <td>0</td>\n",
       "      <td>1</td>\n",
       "      <td>0</td>\n",
       "      <td>0</td>\n",
       "      <td>0</td>\n",
       "      <td>0</td>\n",
       "      <td>0</td>\n",
       "      <td>0</td>\n",
       "      <td>0</td>\n",
       "      <td>0</td>\n",
       "      <td>0</td>\n",
       "      <td>0</td>\n",
       "      <td>0</td>\n",
       "      <td>0</td>\n",
       "      <td>0</td>\n",
       "      <td>0</td>\n",
       "      <td>1</td>\n",
       "      <td>0</td>\n",
       "    </tr>\n",
       "    <tr>\n",
       "      <th>1600</th>\n",
       "      <td>1</td>\n",
       "      <td>0</td>\n",
       "      <td>representative seeking candidate whose core value integrity compassion responsibility focused bu...</td>\n",
       "      <td>39</td>\n",
       "      <td>0</td>\n",
       "      <td>0</td>\n",
       "      <td>1</td>\n",
       "      <td>0</td>\n",
       "      <td>0</td>\n",
       "      <td>0</td>\n",
       "      <td>0</td>\n",
       "      <td>0</td>\n",
       "      <td>0</td>\n",
       "      <td>0</td>\n",
       "      <td>0</td>\n",
       "      <td>1</td>\n",
       "      <td>0</td>\n",
       "      <td>0</td>\n",
       "      <td>0</td>\n",
       "      <td>0</td>\n",
       "      <td>0</td>\n",
       "      <td>0</td>\n",
       "      <td>0</td>\n",
       "      <td>0</td>\n",
       "      <td>0</td>\n",
       "      <td>0</td>\n",
       "      <td>0</td>\n",
       "      <td>0</td>\n",
       "      <td>0</td>\n",
       "      <td>0</td>\n",
       "      <td>0</td>\n",
       "      <td>0</td>\n",
       "      <td>0</td>\n",
       "      <td>0</td>\n",
       "      <td>0</td>\n",
       "      <td>0</td>\n",
       "      <td>0</td>\n",
       "      <td>0</td>\n",
       "      <td>0</td>\n",
       "      <td>1</td>\n",
       "      <td>0</td>\n",
       "      <td>0</td>\n",
       "      <td>0</td>\n",
       "      <td>0</td>\n",
       "      <td>0</td>\n",
       "      <td>0</td>\n",
       "      <td>1</td>\n",
       "      <td>0</td>\n",
       "    </tr>\n",
       "    <tr>\n",
       "      <th>4343</th>\n",
       "      <td>1</td>\n",
       "      <td>1</td>\n",
       "      <td>call center representative responsible collection delinquent accountsperform inquiry data entry ...</td>\n",
       "      <td>107</td>\n",
       "      <td>1</td>\n",
       "      <td>0</td>\n",
       "      <td>0</td>\n",
       "      <td>0</td>\n",
       "      <td>0</td>\n",
       "      <td>0</td>\n",
       "      <td>0</td>\n",
       "      <td>0</td>\n",
       "      <td>0</td>\n",
       "      <td>0</td>\n",
       "      <td>0</td>\n",
       "      <td>1</td>\n",
       "      <td>0</td>\n",
       "      <td>0</td>\n",
       "      <td>0</td>\n",
       "      <td>0</td>\n",
       "      <td>0</td>\n",
       "      <td>0</td>\n",
       "      <td>0</td>\n",
       "      <td>0</td>\n",
       "      <td>0</td>\n",
       "      <td>0</td>\n",
       "      <td>0</td>\n",
       "      <td>0</td>\n",
       "      <td>0</td>\n",
       "      <td>0</td>\n",
       "      <td>0</td>\n",
       "      <td>0</td>\n",
       "      <td>0</td>\n",
       "      <td>0</td>\n",
       "      <td>1</td>\n",
       "      <td>0</td>\n",
       "      <td>0</td>\n",
       "      <td>0</td>\n",
       "      <td>0</td>\n",
       "      <td>0</td>\n",
       "      <td>0</td>\n",
       "      <td>0</td>\n",
       "      <td>0</td>\n",
       "      <td>0</td>\n",
       "      <td>0</td>\n",
       "      <td>0</td>\n",
       "      <td>1</td>\n",
       "      <td>0</td>\n",
       "    </tr>\n",
       "  </tbody>\n",
       "</table>\n",
       "</div>"
      ],
      "text/plain": [
       "       has_company_logo  has_questions  \\\n",
       "11719                 0              0   \n",
       "4433                  1              1   \n",
       "11824                 0              1   \n",
       "1600                  1              0   \n",
       "4343                  1              1   \n",
       "\n",
       "                                                                                                text_lemma  \\\n",
       "11719  part job home daily pay part job home daily pay minimum hour day anytime required job earn every...   \n",
       "4433   market operation manager exemptshift workedmonday sunday day nightssalary starting salary rampin...   \n",
       "11824  vacancy nanny cook driver housekeeper needed hiring home domestic mother home mom died told many...   \n",
       "1600   representative seeking candidate whose core value integrity compassion responsibility focused bu...   \n",
       "4343   call center representative responsible collection delinquent accountsperform inquiry data entry ...   \n",
       "\n",
       "       word_length  required_experience_Associate  \\\n",
       "11719           27                              0   \n",
       "4433           317                              0   \n",
       "11824          156                              0   \n",
       "1600            39                              0   \n",
       "4343           107                              1   \n",
       "\n",
       "       required_experience_Director  required_experience_Entry level  \\\n",
       "11719                             0                                0   \n",
       "4433                              0                                0   \n",
       "11824                             0                                0   \n",
       "1600                              0                                1   \n",
       "4343                              0                                0   \n",
       "\n",
       "       required_experience_Executive  required_experience_Internship  \\\n",
       "11719                              0                               0   \n",
       "4433                               0                               0   \n",
       "11824                              0                               0   \n",
       "1600                               0                               0   \n",
       "4343                               0                               0   \n",
       "\n",
       "       required_experience_Mid-Senior level  \\\n",
       "11719                                     0   \n",
       "4433                                      1   \n",
       "11824                                     0   \n",
       "1600                                      0   \n",
       "4343                                      0   \n",
       "\n",
       "       required_experience_Not Applicable  \\\n",
       "11719                                   1   \n",
       "4433                                    0   \n",
       "11824                                   1   \n",
       "1600                                    0   \n",
       "4343                                    0   \n",
       "\n",
       "       required_education_Associate Degree  \\\n",
       "11719                                    0   \n",
       "4433                                     0   \n",
       "11824                                    0   \n",
       "1600                                     0   \n",
       "4343                                     0   \n",
       "\n",
       "       required_education_Bachelor's Degree  required_education_Certification  \\\n",
       "11719                                     0                                 0   \n",
       "4433                                      0                                 0   \n",
       "11824                                     0                                 0   \n",
       "1600                                      0                                 0   \n",
       "4343                                      0                                 0   \n",
       "\n",
       "       required_education_Doctorate  \\\n",
       "11719                             0   \n",
       "4433                              0   \n",
       "11824                             0   \n",
       "1600                              0   \n",
       "4343                              0   \n",
       "\n",
       "       required_education_High School or equivalent  \\\n",
       "11719                                             0   \n",
       "4433                                              0   \n",
       "11824                                             0   \n",
       "1600                                              1   \n",
       "4343                                              1   \n",
       "\n",
       "       required_education_Master's Degree  required_education_Professional  \\\n",
       "11719                                   0                                0   \n",
       "4433                                    0                                0   \n",
       "11824                                   0                                0   \n",
       "1600                                    0                                0   \n",
       "4343                                    0                                0   \n",
       "\n",
       "       required_education_Some College Coursework Completed  \\\n",
       "11719                                                     0   \n",
       "4433                                                      1   \n",
       "11824                                                     0   \n",
       "1600                                                      0   \n",
       "4343                                                      0   \n",
       "\n",
       "       required_education_Unspecified  required_education_Vocational  \\\n",
       "11719                               1                              0   \n",
       "4433                                0                              0   \n",
       "11824                               1                              0   \n",
       "1600                                0                              0   \n",
       "4343                                0                              0   \n",
       "\n",
       "       industry_grp_Admin/HR  industry_grp_Architecture & Engineering  \\\n",
       "11719                      0                                        0   \n",
       "4433                       0                                        0   \n",
       "11824                      0                                        0   \n",
       "1600                       0                                        0   \n",
       "4343                       0                                        0   \n",
       "\n",
       "       industry_grp_Arts & Entertainment  \\\n",
       "11719                                  0   \n",
       "4433                                   0   \n",
       "11824                                  0   \n",
       "1600                                   0   \n",
       "4343                                   0   \n",
       "\n",
       "       industry_grp_Broadcasting/Publishing  \\\n",
       "11719                                     0   \n",
       "4433                                      0   \n",
       "11824                                     0   \n",
       "1600                                      0   \n",
       "4343                                      0   \n",
       "\n",
       "       industry_grp_Business/Consultancy  industry_grp_Computer Prog  \\\n",
       "11719                                  0                           0   \n",
       "4433                                   1                           0   \n",
       "11824                                  0                           0   \n",
       "1600                                   0                           0   \n",
       "4343                                   0                           0   \n",
       "\n",
       "       industry_grp_Construction  industry_grp_Education  industry_grp_F&B  \\\n",
       "11719                          0                       0                 0   \n",
       "4433                           0                       0                 0   \n",
       "11824                          0                       0                 0   \n",
       "1600                           0                       0                 0   \n",
       "4343                           0                       0                 0   \n",
       "\n",
       "       industry_grp_Financial Services  industry_grp_Healthcare  \\\n",
       "11719                                0                        0   \n",
       "4433                                 0                        0   \n",
       "11824                                0                        1   \n",
       "1600                                 0                        0   \n",
       "4343                                 0                        0   \n",
       "\n",
       "       industry_grp_ICT  industry_grp_Legal & Accounting  \\\n",
       "11719                 0                                0   \n",
       "4433                  0                                0   \n",
       "11824                 0                                0   \n",
       "1600                  0                                0   \n",
       "4343                  0                                0   \n",
       "\n",
       "       industry_grp_Manufacturing  industry_grp_Marketing/Advertising  \\\n",
       "11719                           0                                   0   \n",
       "4433                            0                                   0   \n",
       "11824                           0                                   0   \n",
       "1600                            0                                   0   \n",
       "4343                            1                                   0   \n",
       "\n",
       "       industry_grp_Oil & Energy  industry_grp_Others  \\\n",
       "11719                          0                    1   \n",
       "4433                           0                    0   \n",
       "11824                          0                    0   \n",
       "1600                           0                    0   \n",
       "4343                           0                    0   \n",
       "\n",
       "       industry_grp_Public Admin  industry_grp_Real Estate  \\\n",
       "11719                          0                         0   \n",
       "4433                           0                         0   \n",
       "11824                          0                         0   \n",
       "1600                           0                         1   \n",
       "4343                           0                         0   \n",
       "\n",
       "       industry_grp_Scientific R&D  industry_grp_Security and Investigations  \\\n",
       "11719                            0                                         0   \n",
       "4433                             0                                         0   \n",
       "11824                            0                                         0   \n",
       "1600                             0                                         0   \n",
       "4343                             0                                         0   \n",
       "\n",
       "       industry_grp_Social Services  industry_grp_Telecommunications  \\\n",
       "11719                             0                                0   \n",
       "4433                              0                                0   \n",
       "11824                             0                                0   \n",
       "1600                              0                                0   \n",
       "4343                              0                                0   \n",
       "\n",
       "       industry_grp_Transportation & Storage  industry_grp_Wholesale/Retail  \\\n",
       "11719                                      0                              0   \n",
       "4433                                       0                              0   \n",
       "11824                                      0                              0   \n",
       "1600                                       0                              0   \n",
       "4343                                       0                              0   \n",
       "\n",
       "       fraudulent  y_pred  \n",
       "11719           1       0  \n",
       "4433            1       0  \n",
       "11824           1       0  \n",
       "1600            1       0  \n",
       "4343            1       0  "
      ]
     },
     "execution_count": 131,
     "metadata": {},
     "output_type": "execute_result"
    }
   ],
   "source": [
    "# filter for false negatives (misclassified data)\n",
    "false_negatives = test_pred_df[(test_pred_df['fraudulent'] == 1) & (test_pred_df['y_pred'] == 0)]\n",
    "false_negatives.head()"
   ]
  },
  {
   "cell_type": "code",
   "execution_count": 132,
   "id": "1ab027b3",
   "metadata": {},
   "outputs": [],
   "source": [
    "# export fn to csv\n",
    "false_negatives.to_csv('../data/false_negatives.csv', index = False)"
   ]
  },
  {
   "cell_type": "markdown",
   "id": "af8e5e93",
   "metadata": {},
   "source": [
    "**Observation**: There were 29 jobs classified incorrectly as genuine even though they were fraudulent because these jobs required candidates to have specialised skills and more advanced qualifications such as java, software development and UX design."
   ]
  }
 ],
 "metadata": {
  "kernelspec": {
   "display_name": "Python 3 (ipykernel)",
   "language": "python",
   "name": "python3"
  },
  "language_info": {
   "codemirror_mode": {
    "name": "ipython",
    "version": 3
   },
   "file_extension": ".py",
   "mimetype": "text/x-python",
   "name": "python",
   "nbconvert_exporter": "python",
   "pygments_lexer": "ipython3",
   "version": "3.9.6"
  }
 },
 "nbformat": 4,
 "nbformat_minor": 5
}
